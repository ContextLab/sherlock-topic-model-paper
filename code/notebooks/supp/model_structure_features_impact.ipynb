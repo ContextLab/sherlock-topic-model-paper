{
 "cells": [
  {
   "cell_type": "code",
   "execution_count": 1,
   "metadata": {
    "ExecuteTime": {
     "end_time": "2019-08-25T16:08:46.665750Z",
     "start_time": "2019-08-25T16:08:43.103145Z"
    },
    "collapsed": true
   },
   "outputs": [],
   "source": [
    "# imports\n",
    "import numpy as np\n",
    "import pandas as pd\n",
    "import matplotlib.pyplot as plt\n",
    "import seaborn as sns\n",
    "import hypertools as hyp\n",
    "import quail\n",
    "from scipy.stats import pearsonr as corr\n",
    "from scipy.signal import resample\n",
    "\n",
    "%matplotlib inline\n",
    "sns.set_context('poster')\n",
    "sns.set_style('ticks')\n",
    "plt.rc('figure', figsize=(12, 8))"
   ]
  },
  {
   "cell_type": "code",
   "execution_count": 2,
   "metadata": {
    "ExecuteTime": {
     "end_time": "2019-08-25T16:08:46.670239Z",
     "start_time": "2019-08-25T16:08:46.667549Z"
    },
    "collapsed": true
   },
   "outputs": [],
   "source": [
    "rawdir = '../../../data/raw/'\n",
    "datadir = '../../../data/processed/'"
   ]
  },
  {
   "cell_type": "code",
   "execution_count": 3,
   "metadata": {
    "ExecuteTime": {
     "end_time": "2019-08-25T16:08:46.908326Z",
     "start_time": "2019-08-25T16:08:46.671869Z"
    }
   },
   "outputs": [],
   "source": [
    "# load in raw annotation file\n",
    "movie_annotations = pd.read_excel(rawdir+'Sherlock_Segments_1000_NN_2017.xlsx')\n",
    "movie_annotations['Scene Segments'].fillna(method='ffill', inplace=True)"
   ]
  },
  {
   "cell_type": "code",
   "execution_count": 4,
   "metadata": {
    "ExecuteTime": {
     "end_time": "2019-08-25T16:08:46.915490Z",
     "start_time": "2019-08-25T16:08:46.909957Z"
    },
    "collapsed": true
   },
   "outputs": [],
   "source": [
    "# model parameters\n",
    "ntopics = 100\n",
    "m_wsize = 50\n",
    "\n",
    "# vectorizer parameters\n",
    "vectorizer = {\n",
    "    'model' : 'CountVectorizer', \n",
    "    'params' : {\n",
    "        'stop_words' : 'english'\n",
    "    }\n",
    "}\n",
    "\n",
    "# topic model parameters\n",
    "semantic = {\n",
    "    'model' : 'LatentDirichletAllocation', \n",
    "    'params' : {\n",
    "        'n_components' : ntopics,\n",
    "        'learning_method' : 'batch',\n",
    "        'random_state' : 0\n",
    "    }\n",
    "}"
   ]
  },
  {
   "cell_type": "markdown",
   "metadata": {},
   "source": [
    "## define some functions"
   ]
  },
  {
   "cell_type": "code",
   "execution_count": 5,
   "metadata": {
    "ExecuteTime": {
     "end_time": "2019-08-25T16:08:46.942920Z",
     "start_time": "2019-08-25T16:08:46.917329Z"
    },
    "collapsed": true
   },
   "outputs": [],
   "source": [
    "# train a topic model on text samples from the scene annotations\n",
    "def model_movie(movie_df, w_size, vec_params, sem_params):\n",
    "\n",
    "    # create list of text samples from annotations\n",
    "    movie_text = movie_df.apply(lambda x: ','.join(x.fillna('')), axis=1).values.tolist()\n",
    "    \n",
    "    # create sliding window of text samples\n",
    "    movie_windows = []\n",
    "    for idx, sentence in enumerate(movie_text):\n",
    "        movie_windows.append(','.join(movie_text[idx:idx+w_size]))\n",
    "\n",
    "    # use hypertools to create movie model\n",
    "    movie_model = hyp.tools.format_data(movie_windows, vectorizer=vec_params, semantic=sem_params, corpus=movie_windows)[0]\n",
    "\n",
    "    # scene description are by shot, not TR, so stretch the model to be in TRs\n",
    "    ranges =[[d['Start Time (TRs, 1.5s)'],d['End Time (TRs, 1.5s)']] for i, d in movie_annotations.iterrows()] \n",
    "    expanded = []\n",
    "    for i in range(1976):\n",
    "        try:\n",
    "            idx = np.where([i>=r[0] and i<=r[1] for r in ranges])[0][0]\n",
    "            expanded.append(movie_model[idx, :])\n",
    "        except:\n",
    "            expanded.append(movie_model[0, :])\n",
    "    \n",
    "    return np.array(expanded)"
   ]
  },
  {
   "cell_type": "code",
   "execution_count": 6,
   "metadata": {
    "ExecuteTime": {
     "end_time": "2019-08-25T16:08:46.948525Z",
     "start_time": "2019-08-25T16:08:46.944076Z"
    },
    "collapsed": true
   },
   "outputs": [],
   "source": [
    "# drop a single feature from the model\n",
    "def drop_feature(df, feature):\n",
    "    return df.drop(feature, axis=1)\n",
    "\n",
    "# computes correlation between movie models\n",
    "def compare_m_models(model1, model2):\n",
    "    return corr(pd.DataFrame(model1).T.corr().values.ravel(), pd.DataFrame(model2).T.corr().values.ravel())[0]"
   ]
  },
  {
   "cell_type": "markdown",
   "metadata": {},
   "source": [
    "## which features are important to movie model structure?"
   ]
  },
  {
   "cell_type": "code",
   "execution_count": 7,
   "metadata": {
    "ExecuteTime": {
     "end_time": "2019-08-25T16:08:46.958447Z",
     "start_time": "2019-08-25T16:08:46.950556Z"
    },
    "collapsed": true
   },
   "outputs": [],
   "source": [
    "# isolate features used in model\n",
    "features_df = movie_annotations.loc[:,'Scene Details - A Level ':'Words on Screen ']\n",
    "features_df.columns = ['Narrative details', 'Indoor vs outdoor', 'Characters on screen', 'Character in focus', 'Character speaking', 'location', 'Camera angle', 'Music presence', 'Text on screen']"
   ]
  },
  {
   "cell_type": "code",
   "execution_count": 8,
   "metadata": {
    "ExecuteTime": {
     "end_time": "2019-08-25T16:08:47.109245Z",
     "start_time": "2019-08-25T16:08:46.959881Z"
    }
   },
   "outputs": [],
   "source": [
    "# load in full movie model\n",
    "full_movie_model = np.load(datadir+'models_t100_v50_r10_resampled.npy', allow_pickle=True)[0]"
   ]
  },
  {
   "cell_type": "code",
   "execution_count": 9,
   "metadata": {
    "ExecuteTime": {
     "end_time": "2019-08-25T16:12:20.469876Z",
     "start_time": "2019-08-25T16:08:47.110997Z"
    }
   },
   "outputs": [
    {
     "name": "stdout",
     "output_type": "stream",
     "text": [
      "\n",
      "dropping Narrative details\n",
      "computing movie model\n",
      "model correlation is 0.8169994166199158\n",
      "\n",
      "dropping Indoor vs outdoor\n",
      "computing movie model\n",
      "model correlation is 0.8766734235574383\n",
      "\n",
      "dropping Characters on screen\n",
      "computing movie model\n",
      "model correlation is 0.8852409813813542\n",
      "\n",
      "dropping Character in focus\n",
      "computing movie model\n",
      "model correlation is 0.9471895100684964\n",
      "\n",
      "dropping Character speaking\n",
      "computing movie model\n",
      "model correlation is 0.8748901536160685\n",
      "\n",
      "dropping location\n",
      "computing movie model\n",
      "model correlation is 0.9062585672012943\n",
      "\n",
      "dropping Camera angle\n",
      "computing movie model\n",
      "model correlation is 0.8927190384602313\n",
      "\n",
      "dropping Music presence\n",
      "computing movie model\n",
      "model correlation is 0.9288485515393562\n",
      "\n",
      "dropping Text on screen\n",
      "computing movie model\n",
      "model correlation is 0.9994925539950315\n"
     ]
    }
   ],
   "source": [
    "dropfeat_corr = {}\n",
    "\n",
    "# iteratively leave out one feature from the model \n",
    "for feat in features_df.columns:\n",
    "    print('\\ndropping '+str(feat))\n",
    "    partial_df = drop_feature(features_df,feat)\n",
    "    \n",
    "    # compute partial movie model\n",
    "    print('computing movie model')\n",
    "    partial_movie_model = model_movie(partial_df, m_wsize, vectorizer, semantic)\n",
    "    \n",
    "    # correlate to full model\n",
    "    model_corr = compare_m_models(partial_movie_model, full_movie_model)\n",
    "    print('model correlation is '+ str(model_corr))\n",
    "    dropfeat_corr[feat] = model_corr"
   ]
  },
  {
   "cell_type": "code",
   "execution_count": 10,
   "metadata": {
    "ExecuteTime": {
     "end_time": "2019-08-25T16:12:20.475244Z",
     "start_time": "2019-08-25T16:12:20.471610Z"
    },
    "collapsed": true
   },
   "outputs": [],
   "source": [
    "# export data to plot\n",
    "np.save(datadir+'dropfeat_models/dropfeat_m_model_impact', dropfeat_corr)"
   ]
  },
  {
   "cell_type": "code",
   "execution_count": 11,
   "metadata": {
    "ExecuteTime": {
     "end_time": "2019-08-25T16:12:20.482209Z",
     "start_time": "2019-08-25T16:12:20.477415Z"
    },
    "collapsed": true
   },
   "outputs": [],
   "source": [
    "# plot correlation with full model\n",
    "# sns.set_palette('muted')\n",
    "\n",
    "# series_ord = pd.Series(dropfeat_corr).sort_values()\n",
    "# series_ord.plot(kind='bar', ylim=[0,1])\n",
    "# plt.ylabel('Correlation with full model', labelpad=15)\n",
    "# plt.xlabel('Feature removed', labelpad=20)\n",
    "\n",
    "# for idx, corr in enumerate(series_ord.values):\n",
    "#     plt.text(idx-.1, 0.42, '%.5f'%corr, rotation=90)\n",
    "    \n",
    "# plt.savefig('../../paper/figs/5.1_dropfeat_m_model_corr.pdf', bbox_inches='tight')"
   ]
  },
  {
   "cell_type": "code",
   "execution_count": null,
   "metadata": {
    "collapsed": true
   },
   "outputs": [],
   "source": []
  }
 ],
 "metadata": {
  "kernelspec": {
   "display_name": "Python 3",
   "language": "python",
   "name": "python3"
  },
  "language_info": {
   "codemirror_mode": {
    "name": "ipython",
    "version": 3
   },
   "file_extension": ".py",
   "mimetype": "text/x-python",
   "name": "python",
   "nbconvert_exporter": "python",
   "pygments_lexer": "ipython3",
   "version": "3.6.2"
  }
 },
 "nbformat": 4,
 "nbformat_minor": 2
}
