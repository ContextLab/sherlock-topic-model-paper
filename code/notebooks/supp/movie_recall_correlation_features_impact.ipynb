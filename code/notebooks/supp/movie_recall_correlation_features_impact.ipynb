{
 "cells": [
  {
   "cell_type": "code",
   "execution_count": 1,
   "metadata": {
    "ExecuteTime": {
     "end_time": "2018-08-28T19:51:47.627525Z",
     "start_time": "2018-08-28T19:51:45.073654Z"
    },
    "collapsed": true
   },
   "outputs": [
    {
     "name": "stderr",
     "output_type": "stream",
     "text": [
      "/opt/conda/lib/python3.6/site-packages/pydub/utils.py:165: RuntimeWarning: Couldn't find ffmpeg or avconv - defaulting to ffmpeg, but may not work\n",
      "  warn(\"Couldn't find ffmpeg or avconv - defaulting to ffmpeg, but may not work\", RuntimeWarning)\n"
     ]
    }
   ],
   "source": [
    "# imports\n",
    "import numpy as np\n",
    "import pandas as pd\n",
    "import matplotlib.pyplot as plt\n",
    "import seaborn as sns\n",
    "import hypertools as hyp\n",
    "import quail\n",
    "from scipy.stats import pearsonr as corr\n",
    "from scipy.stats import sem\n",
    "from scipy.signal import resample\n",
    "\n",
    "%matplotlib inline\n",
    "sns.set_context('poster')\n",
    "sns.set_style('ticks')\n",
    "plt.rc('figure', figsize=(12, 8))"
   ]
  },
  {
   "cell_type": "code",
   "execution_count": 4,
   "metadata": {
    "ExecuteTime": {
     "end_time": "2018-08-28T19:51:47.638375Z",
     "start_time": "2018-08-28T19:51:47.634649Z"
    },
    "collapsed": true
   },
   "outputs": [],
   "source": [
    "rawdir = '../../../data/raw/'\n",
    "datadir = '../../../data/processed/'"
   ]
  },
  {
   "cell_type": "code",
   "execution_count": 5,
   "metadata": {
    "ExecuteTime": {
     "end_time": "2018-08-28T19:51:47.845024Z",
     "start_time": "2018-08-28T19:51:47.640505Z"
    },
    "collapsed": true
   },
   "outputs": [],
   "source": [
    "# load in raw annotation file\n",
    "movie_annotations = pd.read_excel(rawdir+'Sherlock_Segments_1000_NN_2017.xlsx')\n",
    "movie_annotations['Scene Segments'].fillna(method='ffill', inplace=True)"
   ]
  },
  {
   "cell_type": "code",
   "execution_count": 6,
   "metadata": {
    "ExecuteTime": {
     "end_time": "2018-08-28T19:51:47.854969Z",
     "start_time": "2018-08-28T19:51:47.846737Z"
    },
    "code_folding": [],
    "collapsed": true
   },
   "outputs": [],
   "source": [
    "# model parameters\n",
    "ntopics = 100\n",
    "m_wsize = 50\n",
    "r_wsize = 10\n",
    "\n",
    "# vectorizer parameters\n",
    "vectorizer = {\n",
    "    'model' : 'CountVectorizer', \n",
    "    'params' : {\n",
    "        'stop_words' : 'english'\n",
    "    }\n",
    "}\n",
    "\n",
    "# topic model parameters\n",
    "semantic = {\n",
    "    'model' : 'LatentDirichletAllocation', \n",
    "    'params' : {\n",
    "        'n_components' : ntopics,\n",
    "        'learning_method' : 'batch',\n",
    "        'random_state' : 0\n",
    "    }\n",
    "}"
   ]
  },
  {
   "cell_type": "markdown",
   "metadata": {},
   "source": [
    "## define some functions"
   ]
  },
  {
   "cell_type": "code",
   "execution_count": 7,
   "metadata": {
    "ExecuteTime": {
     "end_time": "2018-08-28T19:51:47.896350Z",
     "start_time": "2018-08-28T19:51:47.856633Z"
    },
    "code_folding": [],
    "collapsed": true
   },
   "outputs": [],
   "source": [
    "def model_movie(movie_df, w_size, vec_params, sem_params):\n",
    "    \n",
    "    # create list of text samples from annotations\n",
    "    movie_text = movie_df.apply(lambda x: ','.join(x.fillna('')), axis=1).values.tolist()\n",
    "\n",
    "    # create sliding window of text samples\n",
    "    movie_windows = []\n",
    "    for idx, sentence in enumerate(movie_text):\n",
    "        movie_windows.append(','.join(movie_text[idx:idx+w_size]))\n",
    "\n",
    "    # vectorizer and topic model parameters\n",
    "    vectorizer = vec_params\n",
    "    semantic = sem_params\n",
    "\n",
    "    # use hypertools to create movie model\n",
    "    movie_model = hyp.tools.format_data(movie_windows, vectorizer=vec_params, semantic=sem_params, corpus=movie_windows)[0]\n",
    "\n",
    "    # scene description are by shot, not TR, so stretch the model to be in TRs\n",
    "    ranges =[[d['Start Time (TRs, 1.5s)'],d['End Time (TRs, 1.5s)']] for i, d in movie_annotations.iterrows()] \n",
    "    expanded = []\n",
    "    for i in range(1976):\n",
    "        try:\n",
    "            idx = np.where([i>=r[0] and i<=r[1] for r in ranges])[0][0]\n",
    "            expanded.append(movie_model[idx, :])\n",
    "        except:\n",
    "            expanded.append(movie_model[0, :])\n",
    "    \n",
    "    # return stretched model and make movie windows accessible for modeling recall\n",
    "    return np.array(expanded), movie_windows"
   ]
  },
  {
   "cell_type": "code",
   "execution_count": 8,
   "metadata": {
    "ExecuteTime": {
     "end_time": "2018-08-28T19:51:47.923552Z",
     "start_time": "2018-08-28T19:51:47.897837Z"
    },
    "code_folding": [],
    "collapsed": true
   },
   "outputs": [],
   "source": [
    "def model_recall(sub, w_size, vec_params, sem_params, corpus):\n",
    "    \n",
    "    # load recall from text file\n",
    "    recall = pd.read_csv(rawdir+'NN'+str(sub)+' transcript.txt', header=None, sep='.', error_bad_lines=False, encoding='latin-1').values.tolist()[0][:-1]\n",
    "    \n",
    "    sent = []\n",
    "    # separate sentences\n",
    "    for sentence in recall:\n",
    "        try:\n",
    "            s = sentence.encode('utf-8').strip()\n",
    "            sent.append(sentence)\n",
    "        except AttributeError:\n",
    "            pass # skip over NaNs\n",
    "        \n",
    "    # create sliding window of sentences\n",
    "    recall_windows = []\n",
    "    for idx, s in enumerate(sent):\n",
    "        recall_windows.append(','.join(sent[idx:idx+w_size]))\n",
    "    \n",
    "    # use hypertools to create recall model\n",
    "    recall_model = hyp.tools.format_data(recall_windows, vectorizer=vec_params, semantic=sem_params, corpus=corpus)\n",
    "    \n",
    "    # resample model to match sherlock movie model\n",
    "    return resample(recall_model[0], 1976)"
   ]
  },
  {
   "cell_type": "code",
   "execution_count": 9,
   "metadata": {
    "ExecuteTime": {
     "end_time": "2018-08-28T19:51:47.928773Z",
     "start_time": "2018-08-28T19:51:47.925135Z"
    },
    "code_folding": [],
    "collapsed": true
   },
   "outputs": [],
   "source": [
    "# creates a list of subjects' recall models\n",
    "def model_all_subs(subs, w_size, vec_params, sem_params, corpus):\n",
    "    return [model_recall(sub, w_size, vec_params, sem_params, corpus) for sub in subs]"
   ]
  },
  {
   "cell_type": "code",
   "execution_count": 10,
   "metadata": {
    "ExecuteTime": {
     "end_time": "2018-08-28T19:51:48.156362Z",
     "start_time": "2018-08-28T19:51:48.150981Z"
    },
    "code_folding": [],
    "collapsed": true
   },
   "outputs": [],
   "source": [
    "# drop a single feature from the model\n",
    "def drop_feature(df, feature):\n",
    "    return df.drop(feature, axis=1)\n",
    "\n",
    "# computes correlation between movie model and recall model and standard error\n",
    "def compare_mr_models(m_model, r_model):\n",
    "    return corr(pd.DataFrame(m_model).T.corr().values.ravel(), pd.DataFrame(r_model).T.corr().values.ravel())[0]"
   ]
  },
  {
   "cell_type": "markdown",
   "metadata": {},
   "source": [
    "## Which features are important to the movie/recall model relationship?"
   ]
  },
  {
   "cell_type": "code",
   "execution_count": 9,
   "metadata": {
    "ExecuteTime": {
     "end_time": "2018-08-28T19:51:49.261045Z",
     "start_time": "2018-08-28T19:51:48.927505Z"
    },
    "code_folding": [],
    "collapsed": true
   },
   "outputs": [],
   "source": [
    "# load in full movie model and resampled recall models\n",
    "full_movie_model = np.load(datadir+'models_t100_v50_r10_resampled.npy')[0]\n",
    "full_recall_models_rs = np.load(datadir+'models_t100_v50_r10_resampled.npy')[1]"
   ]
  },
  {
   "cell_type": "code",
   "execution_count": 10,
   "metadata": {
    "ExecuteTime": {
     "end_time": "2018-08-28T19:51:49.764575Z",
     "start_time": "2018-08-28T19:51:49.758765Z"
    },
    "code_folding": [],
    "collapsed": true
   },
   "outputs": [],
   "source": [
    "# isolate features used in model\n",
    "features_df = movie_annotations.loc[:,'Scene Details - A Level ':'Words on Screen ']\n",
    "features_df.columns = ['Narrative details', 'Indoor vs outdoor', 'Characters on screen', 'Character in focus', \n",
    "                       'Character speaking', 'location', 'Camera angle', 'Music presence', 'Text on screen']"
   ]
  },
  {
   "cell_type": "code",
   "execution_count": 11,
   "metadata": {
    "ExecuteTime": {
     "end_time": "2018-08-28T20:37:47.682350Z",
     "start_time": "2018-08-28T19:51:50.320206Z"
    },
    "code_folding": [],
    "scrolled": false
   },
   "outputs": [
    {
     "name": "stdout",
     "output_type": "stream",
     "text": [
      "with all features, correlation is 0.6280980859010863, standard error is 0.01115385259393097\n",
      "\n",
      "dropping Narrative details\n",
      "computing movie model\n",
      "computing recall models\n",
      "avg correlation is 0.464799291277212\n",
      "standard error is 0.01767904009551159\n",
      "saving partial models\n",
      "\n",
      "dropping Indoor vs outdoor\n",
      "computing movie model\n",
      "computing recall models\n",
      "avg correlation is 0.6355581177914257\n",
      "standard error is 0.009303249234474655\n",
      "saving partial models\n",
      "\n",
      "dropping Characters on screen\n",
      "computing movie model\n",
      "computing recall models\n",
      "avg correlation is 0.6438028594688109\n",
      "standard error is 0.010528891113398988\n",
      "saving partial models\n",
      "\n",
      "dropping Character in focus\n",
      "computing movie model\n",
      "computing recall models\n",
      "avg correlation is 0.6370501016759813\n",
      "standard error is 0.010861663192204545\n",
      "saving partial models\n",
      "\n",
      "dropping Character speaking\n",
      "computing movie model\n",
      "computing recall models\n",
      "avg correlation is 0.621218289752842\n",
      "standard error is 0.008830722653226656\n",
      "saving partial models\n",
      "\n",
      "dropping location\n",
      "computing movie model\n",
      "computing recall models\n",
      "avg correlation is 0.6198380998457419\n",
      "standard error is 0.010215300641375206\n",
      "saving partial models\n",
      "\n",
      "dropping Camera angle\n",
      "computing movie model\n",
      "computing recall models\n",
      "avg correlation is 0.6524107852497023\n",
      "standard error is 0.00856104929524171\n",
      "saving partial models\n",
      "\n",
      "dropping Music presence\n",
      "computing movie model\n",
      "computing recall models\n",
      "avg correlation is 0.5911760995536692\n",
      "standard error is 0.015129196196460824\n",
      "saving partial models\n",
      "\n",
      "dropping Text on screen\n",
      "computing movie model\n",
      "computing recall models\n",
      "avg correlation is 0.6298281435992362\n",
      "standard error is 0.01077672182046298\n",
      "saving partial models\n"
     ]
    }
   ],
   "source": [
    "allsubs = [sub for sub in range(1,18)]\n",
    "dropfeat_corrs = {}\n",
    "standard_errors = {}\n",
    "\n",
    "# compute average recall model correlation to full movie model and average standard error\n",
    "corrs_full = [compare_mr_models(full_movie_model, full_recall_models_rs[sub]) for sub in range(17)]\n",
    "avg_corr_full = np.mean([r for r in corrs_full])\n",
    "SE_full = sem(corrs_full)\n",
    "print('with all features, correlation is ' + str(avg_corr_full) + ', standard error is ' + str(SE_full))\n",
    "dropfeat_corrs['Full model'] = avg_corr_full\n",
    "standard_errors['Full model'] = SE_full\n",
    "\n",
    "# iteratively leave out one feature from model and recompute correlation\n",
    "for feat in features_df.columns:\n",
    "    print('\\ndropping '+str(feat))\n",
    "    partial_df = drop_feature(features_df,feat)\n",
    "    \n",
    "    # model partial movie features\n",
    "    print('computing movie model')\n",
    "    m_model_with_windows = model_movie(partial_df, m_wsize, vectorizer, semantic)\n",
    "    partial_movie_model = m_model_with_windows[0]\n",
    "    \n",
    "    # remodel recalls based on partial movie model windows\n",
    "    print('computing recall models')\n",
    "    recall_models = model_all_subs(allsubs, r_wsize, vectorizer, semantic, m_model_with_windows[1])\n",
    "    \n",
    "    # correlate each recall model to the movie model\n",
    "    sub_corrs = []\n",
    "    for rec_mod in recall_models:\n",
    "        r = (compare_mr_models(partial_movie_model, rec_mod))\n",
    "        sub_corrs.append(r)\n",
    "\n",
    "    # compute mean correaltion and standard error\n",
    "    feat_corr = np.mean(sub_corrs)\n",
    "    feat_se = sem(sub_corrs)\n",
    "    print('avg correlation is '+ str(feat_corr))\n",
    "    print('standard error is '+ str(feat_se))\n",
    "    dropfeat_corrs[feat] = feat_corr\n",
    "    standard_errors[feat] = feat_se\n",
    "    \n",
    "    # save out partial movie and recall models\n",
    "    print('saving partial models')\n",
    "    np.save(datadir+'dropfeat_models/%s_dropped_models' % (str(feat)), [partial_movie_model, recall_models])"
   ]
  },
  {
   "cell_type": "code",
   "execution_count": 12,
   "metadata": {
    "ExecuteTime": {
     "end_time": "2018-08-28T20:37:47.689267Z",
     "start_time": "2018-08-28T20:37:47.683927Z"
    },
    "collapsed": true
   },
   "outputs": [],
   "source": [
    "# export data to plot\n",
    "np.save(datadir+'dropfeat_models/dropfeat_m_r_models_impact', [dropfeat_corrs, standard_errors])"
   ]
  },
  {
   "cell_type": "code",
   "execution_count": 74,
   "metadata": {
    "ExecuteTime": {
     "end_time": "2018-08-27T00:29:28.384176Z",
     "start_time": "2018-08-27T00:29:28.379637Z"
    },
    "collapsed": true
   },
   "outputs": [],
   "source": [
    "# plot correlations\n",
    "# sns.set_palette('muted')\n",
    "# order = ['Full Model','Narrative Details','Music Presence', 'Location','Character Speaking','Text on Screen',\n",
    "#                  'Indoor vs Outdoor','Character in Focus','Characters on Screen','Camera Angle']\n",
    "\n",
    "# series_ord = pd.Series(dropfeat_corrs).reindex(order)\n",
    "\n",
    "# series_ord.plot(kind='bar', ylim=[0,0.7], yerr=pd.Series(standard_errors))\n",
    "# plt.axvline(0.5, color='black', linestyle='dashed')\n",
    "\n",
    "# plt.ylabel('Average movie/recall model \\ncorrelation (across subjects)', labelpad=15)\n",
    "# plt.xlabel('Feature removed')\n",
    "\n",
    "# for idx, corr in enumerate(series_ord.values):\n",
    "#     plt.text(idx-.13, 0.3, '%.5f'%corr, rotation=90)\n",
    "    \n",
    "# plt.savefig('../../paper/figs/5.2_dropfeat_m_r_corr.pdf', bbox_inches='tight')"
   ]
  }
 ],
 "metadata": {
  "kernelspec": {
   "display_name": "Python 3",
   "language": "python",
   "name": "python3"
  },
  "language_info": {
   "codemirror_mode": {
    "name": "ipython",
    "version": 3
   },
   "file_extension": ".py",
   "mimetype": "text/x-python",
   "name": "python",
   "nbconvert_exporter": "python",
   "pygments_lexer": "ipython3",
   "version": "3.6.1"
  }
 },
 "nbformat": 4,
 "nbformat_minor": 2
}
