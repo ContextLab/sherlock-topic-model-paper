{
 "cells": [
  {
   "cell_type": "markdown",
   "metadata": {},
   "source": [
    "## Imports"
   ]
  },
  {
   "cell_type": "code",
   "execution_count": 1,
   "metadata": {},
   "outputs": [
    {
     "data": {
      "text/markdown": [
       "Helper functions and variables used across multiple notebooks can be found in `/mnt/code/sherlock_helpers/sherlock_helpers`, or on GitHub, [here](https://github.com/ContextLab/sherlock-topic-model-paper/tree/master/code/sherlock_helpers).<br />You can also view source code directly from the notebook with:<br /><pre>    from sherlock_helpers.functions import show_source<br />    show_source(foo)</pre>"
      ],
      "text/plain": [
       "<IPython.core.display.Markdown object>"
      ]
     },
     "metadata": {},
     "output_type": "display_data"
    }
   ],
   "source": [
    "import numpy as np\n",
    "import pandas as pd\n",
    "\n",
    "from sherlock_helpers.constants import DATA_DIR\n",
    "from sherlock_helpers.functions import (\n",
    "    get_topic_words, \n",
    "    multicol_display, \n",
    "    show_source\n",
    ")"
   ]
  },
  {
   "cell_type": "markdown",
   "metadata": {},
   "source": [
    "## Inspect `get_topic_words` function"
   ]
  },
  {
   "cell_type": "code",
   "execution_count": 2,
   "metadata": {},
   "outputs": [
    {
     "data": {
      "text/html": [
       "<div class=\"highlight\" style=\"background: #f8f8f8\"><pre style=\"line-height: 125%\"><span></span><span style=\"color: #008000; font-weight: bold\">def</span> <span style=\"color: #0000FF\">get_topic_words</span>(cv, lda, topics<span style=\"color: #666666\">=</span><span style=\"color: #008000\">None</span>, n_words<span style=\"color: #666666\">=10</span>):\n",
       "    <span style=\"color: #008000; font-weight: bold\">if</span> topics <span style=\"color: #AA22FF; font-weight: bold\">is</span> <span style=\"color: #008000\">None</span>:\n",
       "        topics <span style=\"color: #666666\">=</span> np<span style=\"color: #666666\">.</span>arange(lda<span style=\"color: #666666\">.</span>components_<span style=\"color: #666666\">.</span>shape[<span style=\"color: #666666\">0</span>])\n",
       "    <span style=\"color: #008000; font-weight: bold\">elif</span> <span style=\"color: #008000\">isinstance</span>(topics, <span style=\"color: #008000\">int</span>):\n",
       "        topics <span style=\"color: #666666\">=</span> [topics]\n",
       "\n",
       "    topic_words <span style=\"color: #666666\">=</span> <span style=\"color: #008000\">dict</span>()\n",
       "    vocab <span style=\"color: #666666\">=</span> np<span style=\"color: #666666\">.</span>array(cv<span style=\"color: #666666\">.</span>get_feature_names())\n",
       "    <span style=\"color: #008000; font-weight: bold\">for</span> topic <span style=\"color: #AA22FF; font-weight: bold\">in</span> topics:\n",
       "        weights <span style=\"color: #666666\">=</span> lda<span style=\"color: #666666\">.</span>components_[topic]\n",
       "        word_ixs <span style=\"color: #666666\">=</span> np<span style=\"color: #666666\">.</span>argsort(weights)[::<span style=\"color: #666666\">-1</span>][:n_words]\n",
       "        topic_words[topic] <span style=\"color: #666666\">=</span> vocab[word_ixs]\n",
       "\n",
       "    <span style=\"color: #008000; font-weight: bold\">return</span> topic_words\n",
       "</pre></div>\n"
      ],
      "text/plain": [
       "<IPython.core.display.HTML object>"
      ]
     },
     "execution_count": 2,
     "metadata": {},
     "output_type": "execute_result"
    }
   ],
   "source": [
    "show_source(get_topic_words)"
   ]
  },
  {
   "cell_type": "markdown",
   "metadata": {},
   "source": [
    "## Load data"
   ]
  },
  {
   "cell_type": "code",
   "execution_count": 3,
   "metadata": {
    "collapsed": true
   },
   "outputs": [],
   "source": [
    "video_model = np.load(DATA_DIR.joinpath('models_t100_v50_r10.npy'), \n",
    "                      allow_pickle=True)[0]\n",
    "cv = np.load(DATA_DIR.joinpath('count_vectorizer_model.npy'), \n",
    "             allow_pickle=True).item()\n",
    "lda = np.load(DATA_DIR.joinpath('topic_model.npy'), allow_pickle=True).item()"
   ]
  },
  {
   "cell_type": "markdown",
   "metadata": {},
   "source": [
    "## Find topics used to describe video content"
   ]
  },
  {
   "cell_type": "code",
   "execution_count": 4,
   "metadata": {},
   "outputs": [
    {
     "name": "stdout",
     "output_type": "stream",
     "text": [
      "Number of topics utilized by video model: 32\n"
     ]
    }
   ],
   "source": [
    "used_dims = np.where(video_model.var(axis=0) > 1e-5)[0]\n",
    "print(f'Number of topics utilized by video model: {len(used_dims)}')"
   ]
  },
  {
   "cell_type": "markdown",
   "metadata": {},
   "source": [
    "## Get top words from each topic"
   ]
  },
  {
   "cell_type": "code",
   "execution_count": 5,
   "metadata": {
    "scrolled": false
   },
   "outputs": [
    {
     "data": {
      "text/html": [
       "<table style='width:100%;border:0px;margin-left:auto;margin-right:auto;border-collapse:separate;border-spacing:0 1.5em'><caption style='color:unset;text-align:center;font-size:2em;font-weight:bold'>Top 10 words by topic</caption><th style='border:0px;font-size:16px;text-align:center'>Topic ID</th><th style='border:0px;font-size:16px;text-align:center'>Top words</th><tr style='border:0px'><td style='border:0px;width:50.0%;vertical-align:top;font-size:14px;text-align:center'>1</td><td style='border:0px;width:50.0%;vertical-align:top;font-size:14px;text-align:center'>john, outdoor, yes, phone, road, brixton, box, medium, donovan, street</td></tr><tr style='border:0px'><td style='border:0px;width:50.0%;vertical-align:top;font-size:14px;text-align:center'>2</td><td style='border:0px;width:50.0%;vertical-align:top;font-size:14px;text-align:center'>sherlock, john, indoor, laboratory, hospital, st, bartholomew, medium, yes, mike</td></tr><tr style='border:0px'><td style='border:0px;width:50.0%;vertical-align:top;font-size:14px;text-align:center'>4</td><td style='border:0px;width:50.0%;vertical-align:top;font-size:14px;text-align:center'>man, john, warehouse, indoor, yes, medium, shoulder, says, hand, asks</td></tr><tr style='border:0px'><td style='border:0px;width:50.0%;vertical-align:top;font-size:14px;text-align:center'>5</td><td style='border:0px;width:50.0%;vertical-align:top;font-size:14px;text-align:center'>john, mike, sherlock, medium, molly, park, russell, square, outdoor, bench</td></tr><tr style='border:0px'><td style='border:0px;width:50.0%;vertical-align:top;font-size:14px;text-align:center'>7</td><td style='border:0px;width:50.0%;vertical-align:top;font-size:14px;text-align:center'>yes, jeffrey, sir, jimmy, indoor, aide, medium, helen, woman, gary</td></tr><tr style='border:0px'><td style='border:0px;width:50.0%;vertical-align:top;font-size:14px;text-align:center'>9</td><td style='border:0px;width:50.0%;vertical-align:top;font-size:14px;text-align:center'>sherlock, floor, room, crime, scene, lauriston, indoor, gardens, john, yes</td></tr><tr style='border:0px'><td style='border:0px;width:50.0%;vertical-align:top;font-size:14px;text-align:center'>17</td><td style='border:0px;width:50.0%;vertical-align:top;font-size:14px;text-align:center'>sherlock, lestrade, john, indoor, gardens, lauriston, room, medium, floor, scene</td></tr><tr style='border:0px'><td style='border:0px;width:50.0%;vertical-align:top;font-size:14px;text-align:center'>20</td><td style='border:0px;width:50.0%;vertical-align:top;font-size:14px;text-align:center'>soldiers, singers, cartoon, background, medium, indoor, world, yes, afghanistan, lobby</td></tr><tr style='border:0px'><td style='border:0px;width:50.0%;vertical-align:top;font-size:14px;text-align:center'>22</td><td style='border:0px;width:50.0%;vertical-align:top;font-size:14px;text-align:center'>sherlock, john, street, baker, 221b, indoor, mrs, hudson, suite, yes</td></tr><tr style='border:0px'><td style='border:0px;width:50.0%;vertical-align:top;font-size:14px;text-align:center'>27</td><td style='border:0px;width:50.0%;vertical-align:top;font-size:14px;text-align:center'>sherlock, john, outdoor, medium, taxi, road, yes, says, phone, lauriston</td></tr><tr style='border:0px'><td style='border:0px;width:50.0%;vertical-align:top;font-size:14px;text-align:center'>28</td><td style='border:0px;width:50.0%;vertical-align:top;font-size:14px;text-align:center'>sherlock, john, lestrade, lauriston, gardens, medium, anderson, donovan, indoor, yes</td></tr><tr style='border:0px'><td style='border:0px;width:50.0%;vertical-align:top;font-size:14px;text-align:center'>30</td><td style='border:0px;width:50.0%;vertical-align:top;font-size:14px;text-align:center'>sherlock, john, indoor, medium, baker, street, 221b, suite, yes, phone</td></tr><tr style='border:0px'><td style='border:0px;width:50.0%;vertical-align:top;font-size:14px;text-align:center'>32</td><td style='border:0px;width:50.0%;vertical-align:top;font-size:14px;text-align:center'>donovan, lestrade, indoor, medium, aide, jimmy, press, room, conference, yes</td></tr><tr style='border:0px'><td style='border:0px;width:50.0%;vertical-align:top;font-size:14px;text-align:center'>35</td><td style='border:0px;width:50.0%;vertical-align:top;font-size:14px;text-align:center'>john, sherlock, street, baker, medium, says, indoor, mrs, hudson, sequence</td></tr><tr style='border:0px'><td style='border:0px;width:50.0%;vertical-align:top;font-size:14px;text-align:center'>37</td><td style='border:0px;width:50.0%;vertical-align:top;font-size:14px;text-align:center'>sherlock, john, street, suite, 221b, baker, indoor, medium, says, asks</td></tr><tr style='border:0px'><td style='border:0px;width:50.0%;vertical-align:top;font-size:14px;text-align:center'>40</td><td style='border:0px;width:50.0%;vertical-align:top;font-size:14px;text-align:center'>sherlock, lestrade, yes, room, gardens, indoor, lauriston, floor, john, scene</td></tr><tr style='border:0px'><td style='border:0px;width:50.0%;vertical-align:top;font-size:14px;text-align:center'>42</td><td style='border:0px;width:50.0%;vertical-align:top;font-size:14px;text-align:center'>sherlock, molly, john, bartholomew, st, hospital, medium, indoor, mike, room</td></tr><tr style='border:0px'><td style='border:0px;width:50.0%;vertical-align:top;font-size:14px;text-align:center'>46</td><td style='border:0px;width:50.0%;vertical-align:top;font-size:14px;text-align:center'>singers, cartoon, background, indoor, world, lobby, popcorn, yes, people, medium</td></tr><tr style='border:0px'><td style='border:0px;width:50.0%;vertical-align:top;font-size:14px;text-align:center'>48</td><td style='border:0px;width:50.0%;vertical-align:top;font-size:14px;text-align:center'>john, donovan, gardens, lauriston, yes, street, outdoor, medium, shoulder, policeman</td></tr><tr style='border:0px'><td style='border:0px;width:50.0%;vertical-align:top;font-size:14px;text-align:center'>65</td><td style='border:0px;width:50.0%;vertical-align:top;font-size:14px;text-align:center'>lestrade, donovan, indoor, room, press, conference, police, reporter, medium, reporters</td></tr><tr style='border:0px'><td style='border:0px;width:50.0%;vertical-align:top;font-size:14px;text-align:center'>68</td><td style='border:0px;width:50.0%;vertical-align:top;font-size:14px;text-align:center'>john, medium, anthea, yes, indoor, street, baker, sherlock, outdoor, man</td></tr><tr style='border:0px'><td style='border:0px;width:50.0%;vertical-align:top;font-size:14px;text-align:center'>70</td><td style='border:0px;width:50.0%;vertical-align:top;font-size:14px;text-align:center'>john, man, yes, warehouse, indoor, medium, shoulder, says, anthea, continues</td></tr><tr style='border:0px'><td style='border:0px;width:50.0%;vertical-align:top;font-size:14px;text-align:center'>72</td><td style='border:0px;width:50.0%;vertical-align:top;font-size:14px;text-align:center'>sherlock, john, lestrade, lauriston, gardens, medium, indoor, yes, stairway, stairs</td></tr><tr style='border:0px'><td style='border:0px;width:50.0%;vertical-align:top;font-size:14px;text-align:center'>73</td><td style='border:0px;width:50.0%;vertical-align:top;font-size:14px;text-align:center'>jimmy, yes, sir, jeffrey, indoor, medium, gary, psychotherapist, helen, john</td></tr><tr style='border:0px'><td style='border:0px;width:50.0%;vertical-align:top;font-size:14px;text-align:center'>75</td><td style='border:0px;width:50.0%;vertical-align:top;font-size:14px;text-align:center'>sherlock, john, donovan, outdoor, medium, gardens, lauriston, street, anderson, says</td></tr><tr style='border:0px'><td style='border:0px;width:50.0%;vertical-align:top;font-size:14px;text-align:center'>78</td><td style='border:0px;width:50.0%;vertical-align:top;font-size:14px;text-align:center'>john, lestrade, mike, medium, donovan, indoor, park, room, conference, press</td></tr><tr style='border:0px'><td style='border:0px;width:50.0%;vertical-align:top;font-size:14px;text-align:center'>80</td><td style='border:0px;width:50.0%;vertical-align:top;font-size:14px;text-align:center'>john, sherlock, yes, indoor, laboratory, bartholomew, st, hospital, medium, mike</td></tr><tr style='border:0px'><td style='border:0px;width:50.0%;vertical-align:top;font-size:14px;text-align:center'>84</td><td style='border:0px;width:50.0%;vertical-align:top;font-size:14px;text-align:center'>john, anthea, yes, road, man, outdoor, phone, medium, brixton, car</td></tr><tr style='border:0px'><td style='border:0px;width:50.0%;vertical-align:top;font-size:14px;text-align:center'>85</td><td style='border:0px;width:50.0%;vertical-align:top;font-size:14px;text-align:center'>sherlock, john, yes, taxi, outdoor, road, medium, says, phone, continues</td></tr><tr style='border:0px'><td style='border:0px;width:50.0%;vertical-align:top;font-size:14px;text-align:center'>87</td><td style='border:0px;width:50.0%;vertical-align:top;font-size:14px;text-align:center'>john, indoor, jeffrey, sir, psychotherapist, medium, yes, room, london, helen</td></tr><tr style='border:0px'><td style='border:0px;width:50.0%;vertical-align:top;font-size:14px;text-align:center'>91</td><td style='border:0px;width:50.0%;vertical-align:top;font-size:14px;text-align:center'>sherlock, john, lestrade, room, floor, crime, scene, gardens, lauriston, indoor</td></tr><tr style='border:0px'><td style='border:0px;width:50.0%;vertical-align:top;font-size:14px;text-align:center'>93</td><td style='border:0px;width:50.0%;vertical-align:top;font-size:14px;text-align:center'>john, room, indoor, medium, soldiers, psychotherapist, yes, outdoor, close, soldier</td></tr></table>"
      ],
      "text/plain": [
       "<IPython.core.display.HTML object>"
      ]
     },
     "metadata": {},
     "output_type": "display_data"
    }
   ],
   "source": [
    "topic_words = get_topic_words(cv, lda, used_dims, n_words=10)\n",
    "display_vals = []\n",
    "list(map(display_vals.extend, topic_words.items()))\n",
    "\n",
    "multicol_display(*display_vals, \n",
    "                 caption='Top 10 words by topic', \n",
    "                 col_headers=('Topic ID', 'Top words'),\n",
    "                 table_css={'border-collapse': 'separate', \n",
    "                            'border-spacing': '0 1.5em'})"
   ]
  }
 ],
 "metadata": {
  "kernelspec": {
   "display_name": "Python 3",
   "language": "python",
   "name": "python3"
  },
  "language_info": {
   "codemirror_mode": {
    "name": "ipython",
    "version": 3
   },
   "file_extension": ".py",
   "mimetype": "text/x-python",
   "name": "python",
   "nbconvert_exporter": "python",
   "pygments_lexer": "ipython3",
   "version": "3.6.1"
  }
 },
 "nbformat": 4,
 "nbformat_minor": 2
}
