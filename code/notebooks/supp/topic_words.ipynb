{
 "cells": [
  {
   "cell_type": "code",
   "execution_count": 1,
   "metadata": {
    "collapsed": true
   },
   "outputs": [],
   "source": [
    "from os.path import join as opj\n",
    "import numpy as np\n",
    "import pandas as pd"
   ]
  },
  {
   "cell_type": "code",
   "execution_count": 2,
   "metadata": {
    "collapsed": true
   },
   "outputs": [],
   "source": [
    "datadir = '../../../data/processed/'"
   ]
  },
  {
   "cell_type": "code",
   "execution_count": 3,
   "metadata": {},
   "outputs": [],
   "source": [
    "video_model, _ = np.load(opj(datadir, 'models_t100_v50_r10.npy'), allow_pickle=True)\n",
    "cv = np.load(opj(datadir, 'count_vectorizer_model.npy'), allow_pickle=True).item()\n",
    "tm = np.load(opj(datadir, 'topic_model.npy'), allow_pickle=True).item()"
   ]
  },
  {
   "cell_type": "code",
   "execution_count": 4,
   "metadata": {},
   "outputs": [
    {
     "name": "stdout",
     "output_type": "stream",
     "text": [
      "Number of topics utilized: 32\n"
     ]
    }
   ],
   "source": [
    "used_dims = np.where(video_model.var(axis=0) > 1e-5)[0]\n",
    "print(f'Number of topics utilized: {len(used_dims)}')"
   ]
  },
  {
   "cell_type": "code",
   "execution_count": 5,
   "metadata": {},
   "outputs": [],
   "source": [
    "n_words = 10\n",
    "topic_words = {}\n",
    "vocab = cv.get_feature_names()\n",
    "\n",
    "for topic_n, dim in enumerate(used_dims):\n",
    "    component = tm.components_[dim]\n",
    "    word_ix = np.argsort(component)[::-1][:n_words]\n",
    "    topic_words[topic_n] = [vocab[i] for i in word_ix]"
   ]
  },
  {
   "cell_type": "code",
   "execution_count": 6,
   "metadata": {
    "scrolled": true
   },
   "outputs": [
    {
     "name": "stdout",
     "output_type": "stream",
     "text": [
      "topic 1:\n",
      "\tjohn, outdoor, yes, phone, road, brixton, box, medium, donovan, street\n",
      "topic 2:\n",
      "\tsherlock, john, indoor, laboratory, hospital, st, bartholomew, medium, yes, mike\n",
      "topic 3:\n",
      "\tman, john, warehouse, indoor, yes, medium, shoulder, says, hand, asks\n",
      "topic 4:\n",
      "\tjohn, mike, sherlock, medium, molly, park, russell, square, outdoor, bench\n",
      "topic 5:\n",
      "\tyes, jeffrey, sir, jimmy, indoor, aide, medium, helen, woman, gary\n",
      "topic 6:\n",
      "\tsherlock, floor, room, crime, scene, lauriston, indoor, gardens, john, yes\n",
      "topic 7:\n",
      "\tsherlock, lestrade, john, indoor, gardens, lauriston, room, medium, floor, scene\n",
      "topic 8:\n",
      "\tsoldiers, singers, cartoon, background, medium, indoor, world, yes, afghanistan, lobby\n",
      "topic 9:\n",
      "\tsherlock, john, street, baker, 221b, indoor, mrs, hudson, suite, yes\n",
      "topic 10:\n",
      "\tsherlock, john, outdoor, medium, taxi, road, yes, says, phone, lauriston\n",
      "topic 11:\n",
      "\tsherlock, john, lestrade, lauriston, gardens, medium, anderson, donovan, indoor, yes\n",
      "topic 12:\n",
      "\tsherlock, john, indoor, medium, baker, street, 221b, suite, yes, phone\n",
      "topic 13:\n",
      "\tdonovan, lestrade, indoor, medium, aide, jimmy, press, room, conference, yes\n",
      "topic 14:\n",
      "\tjohn, sherlock, street, baker, medium, says, indoor, mrs, hudson, sequence\n",
      "topic 15:\n",
      "\tsherlock, john, street, suite, 221b, baker, indoor, medium, says, asks\n",
      "topic 16:\n",
      "\tsherlock, lestrade, yes, room, gardens, indoor, lauriston, floor, john, scene\n",
      "topic 17:\n",
      "\tsherlock, molly, john, bartholomew, st, hospital, medium, indoor, mike, room\n",
      "topic 18:\n",
      "\tsingers, cartoon, background, indoor, world, lobby, popcorn, yes, people, medium\n",
      "topic 19:\n",
      "\tjohn, donovan, gardens, lauriston, yes, street, outdoor, medium, shoulder, policeman\n",
      "topic 20:\n",
      "\tlestrade, donovan, indoor, room, press, conference, police, reporter, medium, reporters\n",
      "topic 21:\n",
      "\tjohn, medium, anthea, yes, indoor, street, baker, sherlock, outdoor, man\n",
      "topic 22:\n",
      "\tjohn, man, yes, warehouse, indoor, medium, shoulder, says, anthea, continues\n",
      "topic 23:\n",
      "\tsherlock, john, lestrade, lauriston, gardens, medium, indoor, yes, stairway, stairs\n",
      "topic 24:\n",
      "\tjimmy, yes, sir, jeffrey, indoor, medium, gary, psychotherapist, helen, john\n",
      "topic 25:\n",
      "\tsherlock, john, donovan, outdoor, medium, gardens, lauriston, street, anderson, says\n",
      "topic 26:\n",
      "\tjohn, lestrade, mike, medium, donovan, indoor, park, room, conference, press\n",
      "topic 27:\n",
      "\tjohn, sherlock, yes, indoor, laboratory, bartholomew, st, hospital, medium, mike\n",
      "topic 28:\n",
      "\tjohn, anthea, yes, road, man, outdoor, phone, medium, brixton, car\n",
      "topic 29:\n",
      "\tsherlock, john, yes, taxi, outdoor, road, medium, says, phone, continues\n",
      "topic 30:\n",
      "\tjohn, indoor, jeffrey, sir, psychotherapist, medium, yes, room, london, helen\n",
      "topic 31:\n",
      "\tsherlock, john, lestrade, room, floor, crime, scene, gardens, lauriston, indoor\n",
      "topic 32:\n",
      "\tjohn, room, indoor, medium, soldiers, psychotherapist, yes, outdoor, close, soldier\n"
     ]
    }
   ],
   "source": [
    "for topic, words in topic_words.items():\n",
    "    print(f\"topic {topic + 1}:\\n\\t{', '.join(words)}\")"
   ]
  }
 ],
 "metadata": {
  "kernelspec": {
   "display_name": "Python 3",
   "language": "python",
   "name": "python3"
  },
  "language_info": {
   "codemirror_mode": {
    "name": "ipython",
    "version": 3
   },
   "file_extension": ".py",
   "mimetype": "text/x-python",
   "name": "python",
   "nbconvert_exporter": "python",
   "pygments_lexer": "ipython3",
   "version": "3.6.1"
  }
 },
 "nbformat": 4,
 "nbformat_minor": 2
}
