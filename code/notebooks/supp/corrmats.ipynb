{
 "cells": [
  {
   "cell_type": "markdown",
   "metadata": {},
   "source": [
    "This notebook reproduces the timepoint-by-timepoint recall temporal correlation matrices"
   ]
  },
  {
   "cell_type": "code",
   "execution_count": null,
   "metadata": {},
   "outputs": [],
   "source": [
    "import numpy as np\n",
    "import matplotlib.pyplot as plt\n",
    "import matplotlib as mpl\n",
    "import matplotlib.patches as patches\n",
    "import seaborn as sns\n",
    "import pandas as pd\n",
    "from scipy.spatial.distance import cdist\n",
    "\n",
    "def draw_bounds(ax, model):\n",
    "    bounds = np.where(np.diff(np.argmax(model.segments_[0], axis=1)))[0]\n",
    "    bounds_aug = np.concatenate(([0],bounds,[model.segments_[0].shape[0]]))\n",
    "    for i in range(len(bounds_aug)-1):\n",
    "        rect = patches.Rectangle((bounds_aug[i], bounds_aug[i]), bounds_aug[i+1]-bounds_aug[i], \n",
    "                                 bounds_aug[i+1]-bounds_aug[i], linewidth=1, edgecolor='#FFF9AE', \n",
    "                                 facecolor='none')\n",
    "        ax.add_patch(rect)\n",
    "    return ax\n"
   ]
  },
  {
   "cell_type": "markdown",
   "metadata": {},
   "source": [
    "## Load the data"
   ]
  },
  {
   "cell_type": "code",
   "execution_count": null,
   "metadata": {},
   "outputs": [],
   "source": [
    "video_model, recall_models = np.load('../../../data/processed/models_t100_v50_r10.npy')\n",
    "boundary_models = np.load('../../../data/processed/recall_eventseg_models')"
   ]
  },
  {
   "cell_type": "markdown",
   "metadata": {},
   "source": [
    "## Compute correlation matrices"
   ]
  },
  {
   "cell_type": "code",
   "execution_count": null,
   "metadata": {},
   "outputs": [],
   "source": [
    "corrmats = [1 - cdist(r, r, 'correlation') for r in recall_models]"
   ]
  },
  {
   "cell_type": "markdown",
   "metadata": {},
   "source": [
    "## Plot figure"
   ]
  },
  {
   "cell_type": "code",
   "execution_count": null,
   "metadata": {},
   "outputs": [],
   "source": [
    "sns.set_context('paper')\n",
    "fig, axarr = plt.subplots(5, 4)\n",
    "axarr = axarr.flatten()\n",
    "fig.set_size_inches(8, 10)\n",
    "cmap = plt.cm.bone_r\n",
    "mpl.rcParams['pdf.fonttype'] = 42\n",
    "\n",
    "for i, (c, ax, b) in enumerate(zip(corrmats, axarr, boundary_models)):\n",
    "    data = pd.DataFrame(c)\n",
    "    a = sns.heatmap(data, \n",
    "                     cmap=cmap, xticklabels=25, yticklabels=25, \n",
    "                     vmin=0, vmax=1, ax=ax, cbar=False)\n",
    "    a.set_ylabel('Recall time (sentence)')\n",
    "    a.set_xlabel('Recall time (sentence)')\n",
    "    a.set_title('P%s' % str(i+1))\n",
    "    \n",
    "    for _, spine in a.spines.items():\n",
    "        spine.set_visible(True)\n",
    "        \n",
    "    a.collections[0].remove()\n",
    "    a.imshow(data, aspect='auto', cmap=cmap)\n",
    "        \n",
    "    draw_bounds(ax, b)\n",
    "        \n",
    "axarr[17].axis('off')\n",
    "axarr[18].axis('off')\n",
    "axarr[19].axis('off')\n",
    "plt.tight_layout()\n",
    "# plt.savefig('../../paper/figs/video_recall_corrmats.pdf')\n",
    "plt.savefig('/mnt/corrmats.pdf')\n",
    "plt.show()"
   ]
  }
 ],
 "metadata": {
  "kernelspec": {
   "display_name": "Python 3",
   "language": "python",
   "name": "python3"
  },
  "language_info": {
   "codemirror_mode": {
    "name": "ipython",
    "version": 3
   },
   "file_extension": ".py",
   "mimetype": "text/x-python",
   "name": "python",
   "nbconvert_exporter": "python",
   "pygments_lexer": "ipython3",
   "version": "3.6.1"
  }
 },
 "nbformat": 4,
 "nbformat_minor": 2
}
