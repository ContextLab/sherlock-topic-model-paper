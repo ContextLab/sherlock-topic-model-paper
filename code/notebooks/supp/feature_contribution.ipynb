{
 "cells": [
  {
   "cell_type": "markdown",
   "metadata": {},
   "source": [
    "## Import libraries"
   ]
  },
  {
   "cell_type": "code",
   "execution_count": 5,
   "metadata": {
    "ExecuteTime": {
     "end_time": "2019-08-25T16:08:46.665750Z",
     "start_time": "2019-08-25T16:08:43.103145Z"
    },
    "collapsed": true
   },
   "outputs": [],
   "source": [
    "import sys\n",
    "import numpy as np\n",
    "import pandas as pd\n",
    "import hypertools as hyp\n",
    "from os.path import abspath, join as opj\n",
    "from scipy.stats import pearsonr, sem\n",
    "from scipy.interpolate import interp1d\n",
    "\n",
    "%matplotlib inline"
   ]
  },
  {
   "cell_type": "markdown",
   "metadata": {},
   "source": [
    "## Import analysis helpers"
   ]
  },
  {
   "cell_type": "code",
   "execution_count": 6,
   "metadata": {},
   "outputs": [
    {
     "data": {
      "text/markdown": [
       "Functions and variables used across multiple notebooks can be found [here](https://github.com/contextlab/sherlock-topic-model-paper/blob/master/code/helpers/analysis_helpers.py)"
      ],
      "text/plain": [
       "<IPython.core.display.Markdown object>"
      ]
     },
     "metadata": {},
     "output_type": "display_data"
    }
   ],
   "source": [
    "sys.path.insert(0, abspath('../../helpers/'))\n",
    "from analysis_helpers import (\n",
    "    N_TOPICS,\n",
    "    VIDEO_WSIZE,\n",
    "    RECALL_WSIZE,\n",
    "    VECTORIZER_PARAMS,\n",
    "    SEMANTIC_PARAMS,\n",
    "    format_text,\n",
    "    parse_windows,\n",
    "    get_video_timepoints\n",
    ")"
   ]
  },
  {
   "cell_type": "markdown",
   "metadata": {},
   "source": [
    "## Set paths & parameters"
   ]
  },
  {
   "cell_type": "code",
   "execution_count": 2,
   "metadata": {
    "ExecuteTime": {
     "end_time": "2019-08-25T16:08:46.670239Z",
     "start_time": "2019-08-25T16:08:46.667549Z"
    },
    "collapsed": true
   },
   "outputs": [],
   "source": [
    "rawdir = '../../../data/raw/'\n",
    "datadir = '../../../data/processed/'"
   ]
  },
  {
   "cell_type": "markdown",
   "metadata": {},
   "source": [
    "## Define some functions"
   ]
  },
  {
   "cell_type": "code",
   "execution_count": 5,
   "metadata": {
    "collapsed": true
   },
   "outputs": [],
   "source": [
    "# wrap full topic modeling pipeline\n",
    "def transform_video(annotations):\n",
    "    scenes_list = annotations.apply(format_text, axis=1).tolist()\n",
    "    video_windows, window_bounds = parse_windows(scenes_list, VIDEO_WSIZE)\n",
    "    \n",
    "    video_model = hyp.tools.format_data(video_windows, \n",
    "                                    vectorizer=VECTORIZER_PARAMS, \n",
    "                                    semantic=SEMANTIC_PARAMS, \n",
    "                                    corpus=video_windows)[0]\n",
    "    \n",
    "    tr_spans = video_text[['Start Time (TRs, 1.5s)', 'End Time (TRs, 1.5s)']]\n",
    "    starts, stops = tr_spans.values.T\n",
    "    video_model_TRs = np.empty((1976, 100))\n",
    "    xvals = get_video_timepoints(window_bounds)\n",
    "    xvals_TR = np.array(xvals) * 1976 / 2963\n",
    "    TR_times = np.arange(1, 1977)\n",
    "    interp_func = interp1d(xvals_TR, video_model, axis=0, fill_value='extrapolate')\n",
    "    video_model_TRs = interp_func(TR_times)\n",
    "    return video_model_TRs, video_windows"
   ]
  },
  {
   "cell_type": "code",
   "execution_count": 6,
   "metadata": {
    "collapsed": true
   },
   "outputs": [],
   "source": [
    "def interpolate_recall(recall_traj):\n",
    "    n_windows = recall_traj.shape[0]\n",
    "    window_xvals = np.linspace(0, 1976, n_windows)\n",
    "    TR_times = np.arange(1, 1977)\n",
    "    interp_func = interp1d(window_xvals, recall_traj, axis=0, fill_value='extrapolate')\n",
    "    recall_interp = interp_func(TR_times)\n",
    "    return recall_interp"
   ]
  },
  {
   "cell_type": "code",
   "execution_count": 7,
   "metadata": {
    "collapsed": true
   },
   "outputs": [],
   "source": [
    "def transform_recalls(recall_windows, video_windows):\n",
    "    recall_models = hyp.tools.format_data(recall_windows, \n",
    "                                          vectorizer=VECTORIZER_PARAMS, \n",
    "                                          semantic=SEMANTIC_PARAMS, \n",
    "                                          corpus=video_windows)\n",
    "    # need to interpolate recall trajectores to video trajectory \n",
    "    # length in order to correlate structure by timepoint\n",
    "    recalls_interp = [interpolate_recall(r) for r in recall_models]\n",
    "    return recalls_interp"
   ]
  },
  {
   "cell_type": "code",
   "execution_count": 8,
   "metadata": {
    "collapsed": true
   },
   "outputs": [],
   "source": [
    "def correlate_structures(traj1, traj2):\n",
    "    corrmat1 = np.corrcoef(traj1)\n",
    "    corrmat2 = np.corrcoef(traj2)\n",
    "    triu1 = corrmat1[np.triu_indices_from(corrmat1, k=1)]\n",
    "    triu2 = corrmat2[np.triu_indices_from(corrmat2, k=1)]\n",
    "    return pearsonr(triu1, triu2)[0]"
   ]
  },
  {
   "cell_type": "markdown",
   "metadata": {},
   "source": [
    "## Load & format data"
   ]
  },
  {
   "cell_type": "code",
   "execution_count": 9,
   "metadata": {
    "ExecuteTime": {
     "end_time": "2019-08-25T16:08:46.908326Z",
     "start_time": "2019-08-25T16:08:46.671869Z"
    },
    "collapsed": true
   },
   "outputs": [],
   "source": [
    "video_text = pd.read_excel(opj(rawdir, 'Sherlock_Segments_1000_NN_2017.xlsx'))\n",
    "video_text['Scene Segments'].fillna(method='ffill', inplace=True)\n",
    "video_text.drop(index=[480, 481], inplace=True)\n",
    "video_text.reset_index(drop=True, inplace=True)\n",
    "video_text.loc[480:, 'Start Time (s) ': 'End Time (s) '] += video_text.loc[479, 'End Time (s) ']\n",
    "keep_cols = np.append(video_text.columns[1:5], video_text.columns[6:15])\n",
    "video_text = video_text.loc[:, keep_cols]\n",
    "video_text.columns = list(video_text.columns[:4]) + ['Narrative details', 'Indoor vs outdoor', \n",
    "                                                     'Characters on screen', 'Character in focus', \n",
    "                                                     'Character speaking', 'Location', 'Camera angle', \n",
    "                                                     'Music presence', 'Text on screen']\n",
    "\n",
    "# trajectories created from all features\n",
    "full_trajs = np.load(opj(datadir, 'models_t100_v50_r10.npy'), allow_pickle=True)\n",
    "full_video, full_recalls = full_trajs"
   ]
  },
  {
   "cell_type": "code",
   "execution_count": 10,
   "metadata": {
    "collapsed": true
   },
   "outputs": [],
   "source": [
    "recall_w = []\n",
    "for sub in range(1, 18):\n",
    "    transcript_path = opj(rawdir, f'NN{sub} transcript.txt')\n",
    "    with open(transcript_path, 'r', encoding='cp1252') as f:\n",
    "        recall = f.read().replace(b'\\x92'.decode('cp1252'), \"'\").strip()\n",
    "    recall_fmt = format_text(recall).split('.')\n",
    "    if not recall_fmt[-1]:\n",
    "        recall_fmt = recall_fmt[:-1]\n",
    "    sub_recall_w = parse_windows(recall_fmt, RECALL_WSIZE)[0]\n",
    "    recall_w.append(sub_recall_w)"
   ]
  },
  {
   "cell_type": "markdown",
   "metadata": {},
   "source": [
    "## Iteratively hold out one feature and transform remaining"
   ]
  },
  {
   "cell_type": "code",
   "execution_count": 11,
   "metadata": {
    "ExecuteTime": {
     "end_time": "2019-08-25T16:12:20.469876Z",
     "start_time": "2019-08-25T16:08:47.110997Z"
    },
    "scrolled": true
   },
   "outputs": [
    {
     "name": "stdout",
     "output_type": "stream",
     "text": [
      "Narrative details:\n",
      "\tsimilarity to full video: 0.8427530972814554\n",
      "\tvideo-recall structure similarity: 0.47881343463084924, SEM: 0.0169736012057851\n",
      "\n",
      "Indoor vs outdoor:\n",
      "\tsimilarity to full video: 0.8959913399253916\n",
      "\tvideo-recall structure similarity: 0.645185590517598, SEM: 0.008412575567573256\n",
      "\n",
      "Characters on screen:\n",
      "\tsimilarity to full video: 0.8534465690888688\n",
      "\tvideo-recall structure similarity: 0.5982795896546166, SEM: 0.010783902667291978\n",
      "\n",
      "Character in focus:\n",
      "\tsimilarity to full video: 0.903622118494242\n",
      "\tvideo-recall structure similarity: 0.6340881813370098, SEM: 0.0086163187657276\n",
      "\n",
      "Character speaking:\n",
      "\tsimilarity to full video: 0.9020093499625522\n",
      "\tvideo-recall structure similarity: 0.6639561160690202, SEM: 0.006833808429800328\n",
      "\n",
      "Location:\n",
      "\tsimilarity to full video: 0.7814560702226314\n",
      "\tvideo-recall structure similarity: 0.5315939231688214, SEM: 0.012587585195835284\n",
      "\n",
      "Camera angle:\n",
      "\tsimilarity to full video: 0.8744348125095095\n",
      "\tvideo-recall structure similarity: 0.5782115732347987, SEM: 0.01380766217018813\n",
      "\n",
      "Music presence:\n",
      "\tsimilarity to full video: 0.895796948770045\n",
      "\tvideo-recall structure similarity: 0.6298858235509536, SEM: 0.00783599649374028\n",
      "\n",
      "Text on screen:\n",
      "\tsimilarity to full video: 0.8993962402509347\n",
      "\tvideo-recall structure similarity: 0.5950531155403065, SEM: 0.009224785530987411\n",
      "\n",
      "All features\n",
      "\tvideo-recall structure similarity: 0.6516304490581506, SEM: 0.007972718107356518\n"
     ]
    }
   ],
   "source": [
    "features = video_text.columns[4:]\n",
    "# dropfeat_corrs = dict.fromkeys(features)\n",
    "analyses = ['full vid corr', 'vid rec corr', 'vid rec sem']\n",
    "dropfeat_corrs = pd.DataFrame(index=features, columns=analyses)\n",
    "\n",
    "for feature in features:\n",
    "    print(f'{feature}:')\n",
    "    # transform remaining annotations\n",
    "    partial_df = video_text.drop(feature, axis=1)\n",
    "    other_features = partial_df.loc[:, partial_df.columns[4:]]\n",
    "    dropfeat_traj, dropfeat_windows = transform_video(other_features)\n",
    "    \n",
    "    # compute similarity with full-feature video trajectory structure\n",
    "    full_video_corr = correlate_structures(dropfeat_traj, full_video)\n",
    "    \n",
    "    # transform recalls using feature-removed corpus\n",
    "    recall_trajs = transform_recalls(recall_w, dropfeat_windows)\n",
    "    \n",
    "    # compare structures to partial video model\n",
    "    rec_corrs = np.array([correlate_structures(r, dropfeat_traj) \n",
    "                          for r in recall_trajs])\n",
    "    feat_corr, feat_sem = rec_corrs.mean(), sem(rec_corrs)\n",
    "\n",
    "    dropfeat_corrs.loc[feature] = [full_video_corr, feat_corr, feat_sem]\n",
    "    print(f'\\tsimilarity to full video: {full_video_corr}')\n",
    "    print(f'\\tvideo-recall structure similarity: {feat_corr}, SEM: {feat_sem}\\n')\n",
    "    \n",
    "# add data for full model\n",
    "rec_corr_full = np.array([correlate_structures(interpolate_recall(r), full_video) \n",
    "                          for r in full_recalls])\n",
    "dropfeat_corrs.loc['All features'] = [1, rec_corr_full.mean(), sem(rec_corr_full)]\n",
    "print('All features')\n",
    "print(f'\\tvideo-recall structure similarity: {rec_corr_full.mean()}, SEM: {sem(rec_corr_full)}')"
   ]
  },
  {
   "cell_type": "code",
   "execution_count": 12,
   "metadata": {
    "collapsed": true
   },
   "outputs": [],
   "source": [
    "dropfeat_corrs.to_pickle(opj(datadir, 'feature_contribution.p'))"
   ]
  }
 ],
 "metadata": {
  "kernelspec": {
   "display_name": "Python 3",
   "language": "python",
   "name": "python3"
  },
  "language_info": {
   "codemirror_mode": {
    "name": "ipython",
    "version": 3
   },
   "file_extension": ".py",
   "mimetype": "text/x-python",
   "name": "python",
   "nbconvert_exporter": "python",
   "pygments_lexer": "ipython3",
   "version": "3.6.1"
  }
 },
 "nbformat": 4,
 "nbformat_minor": 2
}
