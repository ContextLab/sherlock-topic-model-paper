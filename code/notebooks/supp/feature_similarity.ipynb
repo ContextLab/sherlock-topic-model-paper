{
 "cells": [
  {
   "cell_type": "markdown",
   "metadata": {},
   "source": [
    "## Imports"
   ]
  },
  {
   "cell_type": "code",
   "execution_count": 1,
   "metadata": {
    "ExecuteTime": {
     "end_time": "2019-08-24T01:19:35.130115Z",
     "start_time": "2019-08-24T01:19:32.830826Z"
    },
    "collapsed": true
   },
   "outputs": [],
   "source": [
    "import numpy as np\n",
    "import pandas as pd\n",
    "import hypertools as hyp\n",
    "from scipy.stats import pearsonr, sem\n",
    "from scipy.interpolate import interp1d\n",
    "from tqdm.notebook import tqdm\n",
    "\n",
    "from sherlock_helpers.constants import (\n",
    "    DATA_DIR, RAW_DIR, \n",
    "    SEMANTIC_PARAMS, \n",
    "    VECTORIZER_PARAMS, \n",
    "    VIDEO_WSIZE\n",
    ")\n",
    "from sherlock_helpers.functions import (\n",
    "    create_diag_mask, \n",
    "    format_text, \n",
    "    get_video_timepoints, \n",
    "    parse_windows, \n",
    "    show_source\n",
    ")\n",
    "\n",
    "%matplotlib inline"
   ]
  },
  {
   "cell_type": "markdown",
   "metadata": {},
   "source": [
    "## Define/inspect some functions"
   ]
  },
  {
   "cell_type": "code",
   "execution_count": 2,
   "metadata": {},
   "outputs": [
    {
     "data": {
      "text/html": [
       "<div class=\"highlight\" style=\"background: #f8f8f8\"><pre style=\"line-height: 125%\"><span></span><span style=\"color: #008000; font-weight: bold\">def</span> <span style=\"color: #0000FF\">format_text</span>(text):\n",
       "    <span style=\"color: #008000; font-weight: bold\">if</span> <span style=\"color: #008000\">isinstance</span>(text, pd<span style=\"color: #666666\">.</span>Series):\n",
       "        text <span style=\"color: #666666\">=</span> <span style=\"color: #BA2121\">&#39; &#39;</span><span style=\"color: #666666\">.</span>join(<span style=\"color: #008000\">list</span>(text<span style=\"color: #666666\">.</span>dropna()))\n",
       "        pattern <span style=\"color: #666666\">=</span> <span style=\"color: #BA2121\">&quot;[^\\w\\s]+&quot;</span>\n",
       "    <span style=\"color: #008000; font-weight: bold\">else</span>:\n",
       "        pattern <span style=\"color: #666666\">=</span> <span style=\"color: #BA2121\">&quot;[^.\\w\\s]+&quot;</span>\n",
       "\n",
       "    no_possessive <span style=\"color: #666666\">=</span> text<span style=\"color: #666666\">.</span>lower()<span style=\"color: #666666\">.</span>replace(<span style=\"color: #BA2121\">&quot;&#39;s&quot;</span>, <span style=\"color: #BA2121\">&#39;&#39;</span>)\n",
       "    <span style=\"color: #008000; font-weight: bold\">return</span> re<span style=\"color: #666666\">.</span>sub(pattern, <span style=\"color: #BA2121\">&#39;&#39;</span>, no_possessive)\n",
       "</pre></div>\n"
      ],
      "text/plain": [
       "<IPython.core.display.HTML object>"
      ]
     },
     "execution_count": 2,
     "metadata": {},
     "output_type": "execute_result"
    }
   ],
   "source": [
    "show_source(format_text)"
   ]
  },
  {
   "cell_type": "code",
   "execution_count": 3,
   "metadata": {},
   "outputs": [
    {
     "data": {
      "text/html": [
       "<div class=\"highlight\" style=\"background: #f8f8f8\"><pre style=\"line-height: 125%\"><span></span><span style=\"color: #008000; font-weight: bold\">def</span> <span style=\"color: #0000FF\">parse_windows</span>(textlist, wsize):\n",
       "    windows <span style=\"color: #666666\">=</span> []\n",
       "    window_bounds <span style=\"color: #666666\">=</span> []\n",
       "    <span style=\"color: #008000; font-weight: bold\">for</span> ix <span style=\"color: #AA22FF; font-weight: bold\">in</span> <span style=\"color: #008000\">range</span>(<span style=\"color: #666666\">1</span>, wsize):\n",
       "        start, end <span style=\"color: #666666\">=</span> <span style=\"color: #666666\">0</span>, ix\n",
       "        window_bounds<span style=\"color: #666666\">.</span>append((start, end))\n",
       "        windows<span style=\"color: #666666\">.</span>append(<span style=\"color: #BA2121\">&#39; &#39;</span><span style=\"color: #666666\">.</span>join(textlist[start:end]))\n",
       "\n",
       "    <span style=\"color: #008000; font-weight: bold\">for</span> ix <span style=\"color: #AA22FF; font-weight: bold\">in</span> <span style=\"color: #008000\">range</span>(<span style=\"color: #008000\">len</span>(textlist)):\n",
       "        start <span style=\"color: #666666\">=</span> ix\n",
       "        end <span style=\"color: #666666\">=</span> ix <span style=\"color: #666666\">+</span> wsize <span style=\"color: #008000; font-weight: bold\">if</span> ix <span style=\"color: #666666\">+</span> wsize <span style=\"color: #666666\">&lt;=</span> <span style=\"color: #008000\">len</span>(textlist) <span style=\"color: #008000; font-weight: bold\">else</span> <span style=\"color: #008000\">len</span>(textlist)\n",
       "        window_bounds<span style=\"color: #666666\">.</span>append((start, end))\n",
       "        windows<span style=\"color: #666666\">.</span>append(<span style=\"color: #BA2121\">&#39; &#39;</span><span style=\"color: #666666\">.</span>join(textlist[start:end]))\n",
       "\n",
       "    <span style=\"color: #008000; font-weight: bold\">return</span> windows, window_bounds\n",
       "</pre></div>\n"
      ],
      "text/plain": [
       "<IPython.core.display.HTML object>"
      ]
     },
     "execution_count": 3,
     "metadata": {},
     "output_type": "execute_result"
    }
   ],
   "source": [
    "show_source(parse_windows)"
   ]
  },
  {
   "cell_type": "code",
   "execution_count": 4,
   "metadata": {},
   "outputs": [
    {
     "data": {
      "text/html": [
       "<div class=\"highlight\" style=\"background: #f8f8f8\"><pre style=\"line-height: 125%\"><span></span><span style=\"color: #008000; font-weight: bold\">def</span> <span style=\"color: #0000FF\">get_video_timepoints</span>(window_spans, annotations):\n",
       "    timepoints <span style=\"color: #666666\">=</span> []\n",
       "    <span style=\"color: #008000; font-weight: bold\">for</span> first, last <span style=\"color: #AA22FF; font-weight: bold\">in</span> window_spans:\n",
       "        window_onset <span style=\"color: #666666\">=</span> annotations<span style=\"color: #666666\">.</span>loc[first, <span style=\"color: #BA2121\">&#39;Start Time (s) &#39;</span>]\n",
       "        window_offset <span style=\"color: #666666\">=</span> annotations<span style=\"color: #666666\">.</span>loc[last <span style=\"color: #666666\">-</span> <span style=\"color: #666666\">1</span>, <span style=\"color: #BA2121\">&#39;End Time (s) &#39;</span>]\n",
       "        timepoints<span style=\"color: #666666\">.</span>append((window_onset <span style=\"color: #666666\">+</span> window_offset) <span style=\"color: #666666\">/</span> <span style=\"color: #666666\">2</span>)\n",
       "\n",
       "    <span style=\"color: #008000; font-weight: bold\">return</span> np<span style=\"color: #666666\">.</span>array(timepoints)\n",
       "</pre></div>\n"
      ],
      "text/plain": [
       "<IPython.core.display.HTML object>"
      ]
     },
     "execution_count": 4,
     "metadata": {},
     "output_type": "execute_result"
    }
   ],
   "source": [
    "show_source(get_video_timepoints)"
   ]
  },
  {
   "cell_type": "code",
   "execution_count": 5,
   "metadata": {},
   "outputs": [
    {
     "data": {
      "text/html": [
       "<div class=\"highlight\" style=\"background: #f8f8f8\"><pre style=\"line-height: 125%\"><span></span><span style=\"color: #008000; font-weight: bold\">def</span> <span style=\"color: #0000FF\">create_diag_mask</span>(arr, diag_start<span style=\"color: #666666\">=0</span>, diag_limit<span style=\"color: #666666\">=</span><span style=\"color: #008000\">None</span>):\n",
       "    diag_mask <span style=\"color: #666666\">=</span> np<span style=\"color: #666666\">.</span>zeros_like(arr, dtype<span style=\"color: #666666\">=</span><span style=\"color: #008000\">bool</span>)\n",
       "    <span style=\"color: #008000; font-weight: bold\">if</span> diag_limit <span style=\"color: #AA22FF; font-weight: bold\">is</span> <span style=\"color: #008000\">None</span>:\n",
       "        diag_limit <span style=\"color: #666666\">=</span> find_diag_limit(arr)\n",
       "\n",
       "    <span style=\"color: #008000; font-weight: bold\">for</span> k <span style=\"color: #AA22FF; font-weight: bold\">in</span> <span style=\"color: #008000\">range</span>(diag_start, diag_limit):\n",
       "        ix <span style=\"color: #666666\">=</span> kth_diag_indices(diag_mask, k)\n",
       "        diag_mask[ix] <span style=\"color: #666666\">=</span> <span style=\"color: #008000\">True</span>\n",
       "\n",
       "    <span style=\"color: #008000; font-weight: bold\">return</span> diag_mask\n",
       "</pre></div>\n"
      ],
      "text/plain": [
       "<IPython.core.display.HTML object>"
      ]
     },
     "execution_count": 5,
     "metadata": {},
     "output_type": "execute_result"
    }
   ],
   "source": [
    "show_source(create_diag_mask)"
   ]
  },
  {
   "cell_type": "code",
   "execution_count": 6,
   "metadata": {
    "collapsed": true
   },
   "outputs": [],
   "source": [
    "def transform_single_feature(feature, annotations):\n",
    "    feat_list = annotations[feature].fillna('').apply(format_text).tolist()\n",
    "    feature_windows, feature_bounds = parse_windows(feat_list, VIDEO_WSIZE)\n",
    "    feature_model = hyp.tools.format_data(feature_windows, \n",
    "                                          vectorizer=VECTORIZER_PARAMS, \n",
    "                                          semantic=SEMANTIC_PARAMS,\n",
    "                                          corpus=corpus)[0]\n",
    "    \n",
    "    feature_model_TRs = np.empty((1976, 100))\n",
    "    xvals = get_video_timepoints(feature_bounds, video_text)\n",
    "    xvals_TR = np.array(xvals) * 1976 / 2963\n",
    "    TR_times = np.arange(1, 1977)\n",
    "    interp_func = interp1d(xvals_TR, \n",
    "                           feature_model, \n",
    "                           axis=0, \n",
    "                           fill_value='extrapolate')\n",
    "    return interp_func(TR_times)"
   ]
  },
  {
   "cell_type": "markdown",
   "metadata": {},
   "source": [
    "## Load & format data"
   ]
  },
  {
   "cell_type": "code",
   "execution_count": 7,
   "metadata": {
    "collapsed": true
   },
   "outputs": [],
   "source": [
    "features = ['Narrative details', 'Indoor vs outdoor', 'Characters on screen', \n",
    "            'Character in focus', 'Character speaking', 'Location', \n",
    "            'Camera angle', 'Music presence', 'Text on screen']"
   ]
  },
  {
   "cell_type": "code",
   "execution_count": 8,
   "metadata": {
    "collapsed": true
   },
   "outputs": [],
   "source": [
    "video_text = pd.read_excel(RAW_DIR.joinpath('Sherlock_Segments_1000_NN_2017.xlsx'))\n",
    "video_text['Scene Segments'].fillna(method='ffill', inplace=True)\n",
    "\n",
    "# drop 1s shot & 6s of black screen after end of 1st scan\n",
    "video_text.drop(index=[480, 481], inplace=True)\n",
    "video_text.reset_index(drop=True, inplace=True)\n",
    "\n",
    "# timestamps for 2nd scan restart from 0; add duration of 1st scan to values\n",
    "video_text.loc[480:, 'Start Time (s) ': 'End Time (s) '] += video_text.loc[479, 'End Time (s) ']\n",
    "\n",
    "keep_cols = np.append(video_text.columns[1:5], video_text.columns[6:15])\n",
    "video_text = video_text.loc[:, keep_cols]\n",
    "video_text.columns = list(video_text.columns[:4]) + features\n",
    "\n",
    "# trajectories created from all features\n",
    "full_traj = np.load(DATA_DIR.joinpath('models_t100_v50_r10.npy'), \n",
    "                    allow_pickle=True)[0]\n",
    "\n",
    "# create corpus from all features for fitting each individual feature topic model\n",
    "features_df = video_text.loc[:, 'Narrative details':]\n",
    "corpus = parse_windows(features_df.apply(format_text, axis=1).tolist(), \n",
    "                       VIDEO_WSIZE)[0]"
   ]
  },
  {
   "cell_type": "markdown",
   "metadata": {},
   "source": [
    "## Transform each individual feature"
   ]
  },
  {
   "cell_type": "code",
   "execution_count": 9,
   "metadata": {
    "ExecuteTime": {
     "end_time": "2019-08-24T01:23:41.122907Z",
     "start_time": "2019-08-24T01:19:35.902587Z"
    },
    "scrolled": true
   },
   "outputs": [
    {
     "data": {
      "application/vnd.jupyter.widget-view+json": {
       "model_id": "d7667f394d2442ea8e146fd4e07873f9"
      }
     },
     "metadata": {},
     "output_type": "display_data"
    },
    {
     "name": "stdout",
     "output_type": "stream",
     "text": [
      "transforming Narrative details...\n",
      "transforming Indoor vs outdoor...\n",
      "transforming Characters on screen...\n",
      "transforming Character in focus...\n",
      "transforming Character speaking...\n",
      "transforming Location...\n",
      "transforming Camera angle...\n",
      "transforming Music presence...\n",
      "transforming Text on screen...\n"
     ]
    }
   ],
   "source": [
    "feature_models = {}\n",
    "\n",
    "# add the intact trajectory's structure\n",
    "full_corrmat = np.corrcoef(full_traj)\n",
    "diag_mask = create_diag_mask(full_corrmat)\n",
    "proximal_corrs = full_corrmat[diag_mask]\n",
    "feature_models['All features'] = proximal_corrs\n",
    "\n",
    "# iteratively isolate one feature from the descriptions\n",
    "for feature in tqdm(features, leave=False):\n",
    "    print(f'transforming {feature}...')\n",
    "    feature_traj = transform_single_feature(feature, features_df)\n",
    "    # compute feature trajectory's temporal autocorrelation matrix\n",
    "\n",
    "    feature_corrmat = np.corrcoef(feature_traj)\n",
    "    proximal_corrs = feature_corrmat[diag_mask]\n",
    "    feature_models[feature] = proximal_corrs\n",
    "\n",
    "# compute correlation matrix of feature models' structures\n",
    "feature_corrs = pd.DataFrame({feat : cm for feat, cm in feature_models.items()}).corr()"
   ]
  },
  {
   "cell_type": "code",
   "execution_count": 10,
   "metadata": {
    "collapsed": true
   },
   "outputs": [],
   "source": [
    "# feature_corrs.to_pickle(DATA_DIR.joinpath('feature_similarity.p'))"
   ]
  }
 ],
 "metadata": {
  "kernelspec": {
   "display_name": "Python 3",
   "language": "python",
   "name": "python3"
  },
  "language_info": {
   "codemirror_mode": {
    "name": "ipython",
    "version": 3
   },
   "file_extension": ".py",
   "mimetype": "text/x-python",
   "name": "python",
   "nbconvert_exporter": "python",
   "pygments_lexer": "ipython3",
   "version": "3.6.1"
  }
 },
 "nbformat": 4,
 "nbformat_minor": 2
}
