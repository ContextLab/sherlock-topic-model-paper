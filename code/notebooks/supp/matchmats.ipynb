{
 "cells": [
  {
   "cell_type": "markdown",
   "metadata": {},
   "source": [
    "This notebook reproduces the video-recall event correlation matrices"
   ]
  },
  {
   "cell_type": "code",
   "execution_count": null,
   "metadata": {},
   "outputs": [],
   "source": [
    "import numpy as np\n",
    "import matplotlib.pyplot as plt\n",
    "import matplotlib as mpl\n",
    "import matplotlib.patches as patches\n",
    "import seaborn as sns\n",
    "import pandas as pd\n",
    "from scipy.spatial.distance import cdist"
   ]
  },
  {
   "cell_type": "markdown",
   "metadata": {},
   "source": [
    "## Load data"
   ]
  },
  {
   "cell_type": "code",
   "execution_count": null,
   "metadata": {},
   "outputs": [],
   "source": [
    "video_events = np.load('../../../data/processed/video_events.npy')\n",
    "recall_events = np.load('../../../data/processed/recall_events.npy')"
   ]
  },
  {
   "cell_type": "markdown",
   "metadata": {},
   "source": [
    "## Compute correlation matrices"
   ]
  },
  {
   "cell_type": "code",
   "execution_count": null,
   "metadata": {},
   "outputs": [],
   "source": [
    "movie_recall_corrmats = [1 - cdist(video_events, r, 'correlation') for r in recall_events]"
   ]
  },
  {
   "cell_type": "markdown",
   "metadata": {},
   "source": [
    "## Plot figure"
   ]
  },
  {
   "cell_type": "code",
   "execution_count": null,
   "metadata": {},
   "outputs": [],
   "source": [
    "sns.set_context('paper')\n",
    "fig, axarr = plt.subplots(5, 4)\n",
    "axarr = axarr.flatten()\n",
    "fig.set_size_inches(8, 10)\n",
    "cmap = plt.cm.bone_r\n",
    "mpl.rcParams['pdf.fonttype'] = 42\n",
    "\n",
    "# video model\n",
    "for i, (c, ax) in enumerate(zip(movie_recall_corrmats, axarr)):\n",
    "    data = pd.DataFrame(c)\n",
    "    a = sns.heatmap(data, \n",
    "                     cmap=cmap, xticklabels=5, yticklabels=5, \n",
    "                     vmin=0, vmax=1, ax=ax, cbar=False)\n",
    "    a.set_ylabel('Video event')\n",
    "    a.set_xlabel('Recalled event')\n",
    "    a.set_title('P%s' % str(i+1))\n",
    "    \n",
    "    for _, spine in a.spines.items():\n",
    "        spine.set_visible(True)\n",
    "        \n",
    "    a.hlines(list(range(video_events.shape[0])), *a.get_xlim(), linewidth=.25)\n",
    "    a.vlines(list(range(video_events.shape[0])), *a.get_ylim(), linewidth=.25)\n",
    "        \n",
    "    bounds = np.argmax(c, axis=0)\n",
    "    for j in range(len(bounds)):\n",
    "        rect = patches.Rectangle((j,bounds[j]), 1, 1, linewidth=1, edgecolor='#FFF9AE',facecolor='none', zorder=2)\n",
    "        a.add_patch(rect)\n",
    "        \n",
    "axarr[17].axis('off')\n",
    "axarr[18].axis('off')\n",
    "axarr[19].axis('off')\n",
    "plt.tight_layout()\n",
    "# plt.savefig('../../../paper/figs/matchmats.pdf')\n",
    "plt.show()"
   ]
  }
 ],
 "metadata": {
  "kernelspec": {
   "display_name": "Python 3",
   "language": "python",
   "name": "python3"
  },
  "language_info": {
   "codemirror_mode": {
    "name": "ipython",
    "version": 3
   },
   "file_extension": ".py",
   "mimetype": "text/x-python",
   "name": "python",
   "nbconvert_exporter": "python",
   "pygments_lexer": "ipython3",
   "version": "3.6.1"
  }
 },
 "nbformat": 4,
 "nbformat_minor": 2
}
