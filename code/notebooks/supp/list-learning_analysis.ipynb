{
 "cells": [
  {
   "cell_type": "markdown",
   "metadata": {},
   "source": [
    "This notebook runs the list-learning behavioral analyses"
   ]
  },
  {
   "cell_type": "markdown",
   "metadata": {},
   "source": [
    "## Import libraries"
   ]
  },
  {
   "cell_type": "code",
   "execution_count": null,
   "metadata": {
    "collapsed": true
   },
   "outputs": [],
   "source": [
    "import quail\n",
    "import numpy as np\n",
    "import matplotlib.pyplot as plt\n",
    "import seaborn as sns\n",
    "import pandas as pd\n",
    "import matplotlib\n",
    "from scipy.spatial.distance import cdist\n",
    "%matplotlib inline"
   ]
  },
  {
   "cell_type": "markdown",
   "metadata": {},
   "source": [
    "## Settings and parameters"
   ]
  },
  {
   "cell_type": "code",
   "execution_count": null,
   "metadata": {},
   "outputs": [],
   "source": [
    "matplotlib.rcParams['pdf.fonttype'] = 42\n",
    "datadir = '../../../data/processed/'\n",
    "palette = 'bone'"
   ]
  },
  {
   "cell_type": "markdown",
   "metadata": {},
   "source": [
    "## Load data"
   ]
  },
  {
   "cell_type": "code",
   "execution_count": null,
   "metadata": {
    "collapsed": true
   },
   "outputs": [],
   "source": [
    "video_events = np.load(datadir+'video_event_model.npy')\n",
    "recall_events = np.load(datadir+'recall_event_models.npy')"
   ]
  },
  {
   "cell_type": "markdown",
   "metadata": {},
   "source": [
    "## Convert to egg format"
   ]
  },
  {
   "cell_type": "code",
   "execution_count": null,
   "metadata": {
    "collapsed": true
   },
   "outputs": [],
   "source": [
    "pres = [[[{'item' : i, 'topics' : m} for i, m in enumerate(video_events)]] for sub in range(17)]\n",
    "\n",
    "rec = []\n",
    "for r in recall_events:\n",
    "    items = list(np.argmax(1 - cdist(video_events, r), 0).astype(int))\n",
    "    rec.append([[{'item' : item, 'topics' : t} for item, t in zip(items, r)]])"
   ]
  },
  {
   "cell_type": "markdown",
   "metadata": {},
   "source": [
    "## Make the egg"
   ]
  },
  {
   "cell_type": "code",
   "execution_count": null,
   "metadata": {
    "collapsed": true
   },
   "outputs": [],
   "source": [
    "egg = quail.Egg(pres=pres, rec=rec)\n",
    "egg.info()"
   ]
  },
  {
   "cell_type": "markdown",
   "metadata": {},
   "source": [
    "## Run probability of first recall, lagcrp and serial position curve analyses, and create a figure"
   ]
  },
  {
   "cell_type": "code",
   "execution_count": null,
   "metadata": {},
   "outputs": [],
   "source": [
    "fig, axarr = plt.subplots(1, 3)\n",
    "fig.set_size_inches(10, 3)\n",
    "\n",
    "analysis = ['pfr', 'lagcrp', 'spc']\n",
    "res = {}\n",
    "for ax, a in zip(axarr, analysis):\n",
    "    res[a] = egg.analyze(a, match='best', features=['topics'], \n",
    "                distance='correlation')\n",
    "    res[a].plot(show=False, ax=ax, legend=False, palette=palette)\n",
    "        \n",
    "# make some adjustments\n",
    "axarr[1].set_xlim(-10, 10)\n",
    "axarr[0].set_ylabel('Probability of first recall')\n",
    "axarr[1].set_ylabel('Conditional response probability')\n",
    "axarr[2].set_ylabel('Proportion recalled')\n",
    "axarr[0].set_xlabel('Event number')\n",
    "axarr[1].set_xlabel('Relative event number')\n",
    "axarr[2].set_xlabel('Event number')\n",
    "plt.subplots_adjust(wspace=.45, hspace=.75)\n",
    "plt.tight_layout()\n",
    "\n",
    "# add labels\n",
    "label=['A', 'B', 'C']\n",
    "for p, l in zip(axarr, label):\n",
    "    p.text(-.1,1.025,l,\n",
    "        horizontalalignment='center',\n",
    "        transform=p.transAxes,\n",
    "          fontsize=12)\n",
    "# plt.savefig('../figures/list_learning.pdf')\n",
    "plt.show()"
   ]
  },
  {
   "cell_type": "markdown",
   "metadata": {},
   "source": [
    "## Cluster analyses"
   ]
  },
  {
   "cell_type": "code",
   "execution_count": null,
   "metadata": {},
   "outputs": [],
   "source": [
    "clustering = egg.analyze('fingerprint')\n",
    "clustering.plot(ylim=[0, 1.2], palette=palette)"
   ]
  },
  {
   "cell_type": "markdown",
   "metadata": {},
   "source": [
    "## SEM of clustering scores"
   ]
  },
  {
   "cell_type": "code",
   "execution_count": null,
   "metadata": {},
   "outputs": [],
   "source": [
    "sem = clustering.get_data().std() / np.sqrt(17)\n",
    "print(clustering.get_data().mean())\n",
    "print(sem)\n",
    "print(clustering.get_data().mean() + sem)\n",
    "clustering.get_data().mean() - sem"
   ]
  },
  {
   "cell_type": "markdown",
   "metadata": {},
   "source": [
    "## Create a dataframe containing the analysis results"
   ]
  },
  {
   "cell_type": "code",
   "execution_count": null,
   "metadata": {
    "collapsed": true
   },
   "outputs": [],
   "source": [
    "ks = np.array([8, 14, 11, 9, 14, 10, 17, 17, 10, 20, 19, 25, 27, 14, 10, 14, 23])\n",
    "hand_rec = np.array([27, 24, 32, 33, 32, 39, 30, 39, 28, 40, 34, 38, 47, 38, 27, 37, 39])\n",
    "auto_rec = res['spc'].data.mean(1).values\n",
    "df = pd.DataFrame(np.array([clustering.data.temporal.values, clustering.data.topics.values, ks, hand_rec, auto_rec]).T, \n",
    "                  columns=['Temporal clustering', 'Semantic clustering', 'Number of events (k)', 'Memory performance - hand', \n",
    "                           'Memory performance - auto'])"
   ]
  },
  {
   "cell_type": "markdown",
   "metadata": {},
   "source": [
    "## Correlation between hand annotated memory and memory estimated from the model across subjects"
   ]
  },
  {
   "cell_type": "code",
   "execution_count": null,
   "metadata": {},
   "outputs": [],
   "source": [
    "sns.jointplot(x=df['Memory performance - hand'], y=df['Memory performance - auto'], kind='reg', \n",
    "              space=False, color='k')"
   ]
  },
  {
   "cell_type": "markdown",
   "metadata": {},
   "source": [
    "## Correlation between hand annotated memory and k (number of events) across subjects"
   ]
  },
  {
   "cell_type": "code",
   "execution_count": null,
   "metadata": {},
   "outputs": [],
   "source": [
    "sns.jointplot(y=df['Memory performance - hand'], x=df['Number of events (k)'], kind='reg', space=False, color='k')"
   ]
  },
  {
   "cell_type": "markdown",
   "metadata": {},
   "source": [
    "## Correlation between hand annotated memory and temporal clustering"
   ]
  },
  {
   "cell_type": "code",
   "execution_count": null,
   "metadata": {},
   "outputs": [],
   "source": [
    "sns.jointplot(y=df['Memory performance - hand'], x=df['Temporal clustering'], kind='reg', space=False, color='k')"
   ]
  },
  {
   "cell_type": "markdown",
   "metadata": {},
   "source": [
    "## Correlation between hand annotated memory and semantic clustering"
   ]
  },
  {
   "cell_type": "code",
   "execution_count": null,
   "metadata": {},
   "outputs": [],
   "source": [
    "sns.jointplot(y=df['Memory performance - hand'], x=df['Semantic clustering'], kind='reg', space=False, color='k')"
   ]
  }
 ],
 "metadata": {
  "kernelspec": {
   "display_name": "Python 3",
   "language": "python",
   "name": "python3"
  },
  "language_info": {
   "codemirror_mode": {
    "name": "ipython",
    "version": 3
   },
   "file_extension": ".py",
   "mimetype": "text/x-python",
   "name": "python",
   "nbconvert_exporter": "python",
   "pygments_lexer": "ipython3",
   "version": "3.6.1"
  }
 },
 "nbformat": 4,
 "nbformat_minor": 2
}
