{
 "cells": [
  {
   "cell_type": "code",
   "execution_count": 3,
   "metadata": {
    "collapsed": true
   },
   "outputs": [],
   "source": [
    "import numpy as np\n",
    "import seaborn as sns\n",
    "import hypertools as hyp\n",
    "from matplotlib import pyplot as plt\n",
    "from scipy.spatial.distance import cdist\n",
    "from sklearn.model_selection import train_test_split\n",
    "from itertools import combinations, permutations\n",
    "from collections import defaultdict\n",
    "\n",
    "%load_ext line_profiler\n",
    "%matplotlib inline"
   ]
  },
  {
   "cell_type": "code",
   "execution_count": 4,
   "metadata": {
    "collapsed": true
   },
   "outputs": [],
   "source": [
    "#generate some fake data\n",
    "N = 34 #number of events\n",
    "D = 100 #number of dimensions\n",
    "S = 17  #number of subjects\n",
    "events_template = np.random.randn(N, D)\n",
    "\n",
    "def get_subject_events(template, p_rec=0.5, var=0.1):\n",
    "    recalled = np.random.rand(template.shape[0]) <= p_rec\n",
    "    return template[recalled, :] + np.multiply(var, np.random.randn(np.sum(recalled), template.shape[1]))\n",
    "\n",
    "def get_event_labels(template, data):\n",
    "    corrs = cdist(template, data, 'correlation')\n",
    "    labels = np.zeros(data.shape[0])\n",
    "    for i in np.arange(data.shape[0]):\n",
    "        labels[i] = np.where(corrs[:, i] == np.min(corrs[:, i]))[0][0] #when in doubt, prefer earliest match\n",
    "    return list(labels)\n",
    "\n",
    "subj_data = list(map(lambda x: get_subject_events(events_template), np.arange(S)))\n",
    "labels = list(map(lambda x: get_event_labels(events_template, x), subj_data))"
   ]
  },
  {
   "cell_type": "code",
   "execution_count": 5,
   "metadata": {
    "collapsed": true
   },
   "outputs": [],
   "source": [
    "def get_event_centers(data, labels):\n",
    "    if (len(data) == 0) or (len(data) != len(labels)):\n",
    "        return None, None\n",
    "    \n",
    "    all_labels = []\n",
    "    for x in labels:\n",
    "        all_labels.extend(x)\n",
    "    unique_labels = np.unique(np.array(all_labels)).astype(int)\n",
    "    \n",
    "    centers = np.zeros([int(np.max(unique_labels)+1), data[0].shape[1]])    \n",
    "    n = np.zeros([int(np.max(unique_labels)+1), 1])\n",
    "      \n",
    "    for next_data, next_labels in zip(data, labels):\n",
    "        for x in np.arange(len(next_labels)):\n",
    "#             print(f'centers.shape = {centers.shape}; next_labels[x] = {next_labels[x]})')\n",
    "#             print(f'centers[int(next_labels[x]), :].shape = {centers[int(next_labels[x]), :].shape}')\n",
    "#             print(f'next_data[x, :].shape = {next_data[x, :].shape}')\n",
    "            centers[int(next_labels[x]), :] += next_data[x, :]\n",
    "            n[int(next_labels[x])] += 1\n",
    "    return centers/n, unique_labels"
   ]
  },
  {
   "cell_type": "code",
   "execution_count": 6,
   "metadata": {
    "collapsed": true
   },
   "outputs": [],
   "source": [
    "def sq_dist_to_point(line, point):\n",
    "    n = line[1] - line[0]\n",
    "    pa = line[0] - point\n",
    "    \n",
    "    c = np.dot(n, pa)\n",
    "    \n",
    "    #closest point is a\n",
    "    if c > 0:\n",
    "        return np.dot(pa, pa)\n",
    "    \n",
    "    pb = point - line[1]\n",
    "    \n",
    "    #closest point is b\n",
    "    if np.dot(n, pb) > 0:\n",
    "        return np.dot(pb, pb)\n",
    "    \n",
    "    #closest point is between a and b\n",
    "    e = pa - np.multiply(n, np.divide(c, np.dot(n, n)))\n",
    "    return np.dot(e, e)\n",
    "    "
   ]
  },
  {
   "cell_type": "code",
   "execution_count": 7,
   "metadata": {
    "collapsed": true
   },
   "outputs": [],
   "source": [
    "def get_hinge(data, labels, hinges=None):\n",
    "    def min_sq_dist(point, hinges):\n",
    "        min_dist = np.inf\n",
    "        for i in np.arange(hinges.shape[0]-1):            \n",
    "            next_dist = sq_dist_to_point([hinges[i, :], hinges[i+1, :]], point)\n",
    "            if (next_dist < min_dist) and (next_dist != 0):\n",
    "                min_dist = next_dist\n",
    "        return min_dist\n",
    "    \n",
    "    def mse(data, hinges):\n",
    "        sq_dist_sum = 0.\n",
    "        for i in np.arange(data.shape[0]):\n",
    "            sq_dist_sum += min_sq_dist(data[i, :], hinges)\n",
    "        return np.divide(sq_dist_sum, data.shape[0])\n",
    "    \n",
    "    mean_events, all_labels = get_event_centers(data, labels)\n",
    "    \n",
    "    def hinge_mse(data, i):\n",
    "        next_hinges = np.array([mean_events[0, :], mean_events[i, :], mean_events[-1, :]])\n",
    "        next_labels = np.array([all_labels[0], all_labels[i], all_labels[-1]])\n",
    "        next_mse = mse(data, next_hinges)\n",
    "        return next_hinges, next_labels, next_mse    \n",
    "    \n",
    "    if hinges is None:\n",
    "        best_hinges, best_labels, best_mse = hinge_mse(mean_events, 1)    \n",
    "        for i in np.arange(2, mean_events.shape[0]):\n",
    "            next_hinges, next_labels, next_mse = hinge_mse(mean_events, i)\n",
    "            if next_mse < best_mse:\n",
    "                best_hinges = next_hinges\n",
    "                best_labels = next_labels\n",
    "                best_mse = next_mse\n",
    "    \n",
    "        return best_hinges, best_labels, best_mse\n",
    "    else:\n",
    "        return np.sum(np.array(list(map(lambda d: mse(d, hinges), data))))\n",
    "            "
   ]
  },
  {
   "cell_type": "code",
   "execution_count": 12,
   "metadata": {
    "collapsed": true
   },
   "outputs": [],
   "source": [
    "def get_k_hinges(all_data, all_labels, k):\n",
    "    def add_endpoints(labels, inds):\n",
    "        all_inds = np.zeros(len(inds)+2)\n",
    "        all_inds[0] = labels[0]\n",
    "        all_inds[-1] = labels[-1]\n",
    "        all_inds[1:-1] = inds\n",
    "        return all_inds.astype(np.int)\n",
    "    \n",
    "    def replace_hinge(data, hinges, from_ind, to_ind): #from ind is relative to *hinges* and to_ind is relative to *data*\n",
    "        hinge_data = data[hinges, :]\n",
    "        hinge_data[from_ind, :] = data[to_ind, :]\n",
    "        return hinge_data\n",
    "    \n",
    "    def evenly_spaced_values(n, k):\n",
    "        targets = np.round(np.linspace(0, n, k))\n",
    "        for i in np.arange(k-1, 0, -1):\n",
    "            if targets[i-1] == targets[i]:\n",
    "                targets[i-1] -= 1\n",
    "        targets[targets > n-1] = n-1\n",
    "        targets[targets < 0] = 0\n",
    "        unique_targets = np.unique(targets).astype(np.int)\n",
    "        if len(unique_targets) != k:\n",
    "            raise Exception\n",
    "        return unique_targets.astype(np.int)\n",
    "    \n",
    "    data, labels = get_event_centers(all_data, all_labels)\n",
    "    hinges = labels[evenly_spaced_values(len(labels), k+2).astype(np.int)]\n",
    "    #hinges = add_endpoints(labels, np.sort(np.random.choice(np.arange(1, len(labels)-2), size=k, replace=False)))\n",
    "    best_hinges = np.zeros_like(hinges, dtype=np.int)\n",
    "    \n",
    "    while not np.allclose(hinges, best_hinges):\n",
    "        #for every triplet of hinges, optimize the middle point (and use it moving forward)\n",
    "        best_hinges = np.copy(hinges).astype(np.int)\n",
    "        for i in np.arange(len(hinges)-2):\n",
    "            next_inds = np.arange(int(hinges[i])+1, int(hinges[i+2])) #possible positions for next hinge are bounded by neighbors      \n",
    "            best_mse = np.inf\n",
    "            best_ind = -1\n",
    "            for j in next_inds:\n",
    "                print(j)\n",
    "                next_ind = next_inds[j]\n",
    "                next_mse = get_hinge(all_data, all_labels, replace_hinge(data, best_hinges, i+1, next_ind))\n",
    "                if next_mse < best_mse:\n",
    "                    best_mse = next_mse\n",
    "                    best_ind = j\n",
    "            if best_ind != -1:\n",
    "                hinges[i+1] = best_ind\n",
    "    return data[hinges, :]"
   ]
  },
  {
   "cell_type": "code",
   "execution_count": 13,
   "metadata": {},
   "outputs": [
    {
     "name": "stdout",
     "output_type": "stream",
     "text": [
      "1\n",
      "2\n",
      "3\n",
      "4\n",
      "5\n",
      "6\n",
      "7\n",
      "8\n",
      "9\n",
      "10\n",
      "11\n",
      "12\n",
      "13\n",
      "14\n",
      "15\n",
      "16\n",
      "17\n",
      "18\n",
      "19\n",
      "20\n",
      "21\n",
      "22\n",
      "23\n",
      "24\n",
      "25\n",
      "26\n",
      "27\n",
      "28\n",
      "29\n",
      "30\n",
      "31\n",
      "32\n"
     ]
    },
    {
     "ename": "IndexError",
     "evalue": "index 32 is out of bounds for axis 0 with size 32",
     "output_type": "error",
     "traceback": [
      "\u001b[0;31m---------------------------------------------------------------------------\u001b[0m",
      "\u001b[0;31mIndexError\u001b[0m                                Traceback (most recent call last)",
      "\u001b[0;32m<ipython-input-13-def723432151>\u001b[0m in \u001b[0;36m<module>\u001b[0;34m()\u001b[0m\n\u001b[1;32m      1\u001b[0m \u001b[0mx1\u001b[0m \u001b[0;34m=\u001b[0m \u001b[0mhyp\u001b[0m\u001b[0;34m.\u001b[0m\u001b[0mplot\u001b[0m\u001b[0;34m(\u001b[0m\u001b[0msubj_data\u001b[0m\u001b[0;34m,\u001b[0m \u001b[0mhue\u001b[0m\u001b[0;34m=\u001b[0m\u001b[0mlabels\u001b[0m\u001b[0;34m,\u001b[0m \u001b[0mshow\u001b[0m\u001b[0;34m=\u001b[0m\u001b[0;32mFalse\u001b[0m\u001b[0;34m,\u001b[0m \u001b[0mndims\u001b[0m\u001b[0;34m=\u001b[0m\u001b[0;36m2\u001b[0m\u001b[0;34m)\u001b[0m\u001b[0;34m;\u001b[0m\u001b[0;34m\u001b[0m\u001b[0m\n\u001b[0;32m----> 2\u001b[0;31m \u001b[0mhyp\u001b[0m\u001b[0;34m.\u001b[0m\u001b[0mplot\u001b[0m\u001b[0;34m(\u001b[0m\u001b[0;34m[\u001b[0m\u001b[0mx1\u001b[0m\u001b[0;34m,\u001b[0m \u001b[0mget_k_hinges\u001b[0m\u001b[0;34m(\u001b[0m\u001b[0msubj_data\u001b[0m\u001b[0;34m,\u001b[0m \u001b[0mlabels\u001b[0m\u001b[0;34m,\u001b[0m \u001b[0;36m1\u001b[0m\u001b[0;34m)\u001b[0m\u001b[0;34m]\u001b[0m\u001b[0;34m,\u001b[0m \u001b[0;34m[\u001b[0m\u001b[0;34m'r.:'\u001b[0m\u001b[0;34m]\u001b[0m\u001b[0;34m*\u001b[0m\u001b[0mlen\u001b[0m\u001b[0;34m(\u001b[0m\u001b[0msubj_data\u001b[0m\u001b[0;34m)\u001b[0m \u001b[0;34m+\u001b[0m \u001b[0;34m[\u001b[0m\u001b[0;34m'ko-'\u001b[0m\u001b[0;34m]\u001b[0m\u001b[0;34m,\u001b[0m \u001b[0mndims\u001b[0m\u001b[0;34m=\u001b[0m\u001b[0;36m2\u001b[0m\u001b[0;34m)\u001b[0m\u001b[0;34m;\u001b[0m\u001b[0;34m\u001b[0m\u001b[0m\n\u001b[0m",
      "\u001b[0;32m<ipython-input-12-7e4d6db8dc2b>\u001b[0m in \u001b[0;36mget_k_hinges\u001b[0;34m(all_data, all_labels, k)\u001b[0m\n\u001b[1;32m     38\u001b[0m             \u001b[0;32mfor\u001b[0m \u001b[0mj\u001b[0m \u001b[0;32min\u001b[0m \u001b[0mnext_inds\u001b[0m\u001b[0;34m:\u001b[0m\u001b[0;34m\u001b[0m\u001b[0m\n\u001b[1;32m     39\u001b[0m                 \u001b[0mprint\u001b[0m\u001b[0;34m(\u001b[0m\u001b[0mj\u001b[0m\u001b[0;34m)\u001b[0m\u001b[0;34m\u001b[0m\u001b[0m\n\u001b[0;32m---> 40\u001b[0;31m                 \u001b[0mnext_ind\u001b[0m \u001b[0;34m=\u001b[0m \u001b[0mnext_inds\u001b[0m\u001b[0;34m[\u001b[0m\u001b[0mj\u001b[0m\u001b[0;34m]\u001b[0m\u001b[0;34m\u001b[0m\u001b[0m\n\u001b[0m\u001b[1;32m     41\u001b[0m                 \u001b[0mnext_mse\u001b[0m \u001b[0;34m=\u001b[0m \u001b[0mget_hinge\u001b[0m\u001b[0;34m(\u001b[0m\u001b[0mall_data\u001b[0m\u001b[0;34m,\u001b[0m \u001b[0mall_labels\u001b[0m\u001b[0;34m,\u001b[0m \u001b[0mreplace_hinge\u001b[0m\u001b[0;34m(\u001b[0m\u001b[0mdata\u001b[0m\u001b[0;34m,\u001b[0m \u001b[0mbest_hinges\u001b[0m\u001b[0;34m,\u001b[0m \u001b[0mi\u001b[0m\u001b[0;34m+\u001b[0m\u001b[0;36m1\u001b[0m\u001b[0;34m,\u001b[0m \u001b[0mnext_ind\u001b[0m\u001b[0;34m)\u001b[0m\u001b[0;34m)\u001b[0m\u001b[0;34m\u001b[0m\u001b[0m\n\u001b[1;32m     42\u001b[0m                 \u001b[0;32mif\u001b[0m \u001b[0mnext_mse\u001b[0m \u001b[0;34m<\u001b[0m \u001b[0mbest_mse\u001b[0m\u001b[0;34m:\u001b[0m\u001b[0;34m\u001b[0m\u001b[0m\n",
      "\u001b[0;31mIndexError\u001b[0m: index 32 is out of bounds for axis 0 with size 32"
     ]
    }
   ],
   "source": [
    "x1 = hyp.plot(subj_data, hue=labels, show=False, ndims=2);\n",
    "hyp.plot([x1, get_k_hinges(subj_data, labels, 1)], ['r.:']*len(subj_data) + ['ko-'], ndims=2);"
   ]
  },
  {
   "cell_type": "markdown",
   "metadata": {},
   "source": [
    "Below this is random code (no longer relevant, but potentially useful for something)..."
   ]
  },
  {
   "cell_type": "markdown",
   "metadata": {},
   "source": [
    "- 1.) divide data into two parts (training and test set)\n",
    "- 2.) for k = 1…10, compute mse for each set of `k` optimal hinges using `mses[k] = get_hinge(test_data, test_labels, get_k_hinges(training_data, training_labels, k))` <-- `get_hinge` is somewhat strangely named; if you pass in pre-chosen hinges it just returns the MSE\n",
    "- 3.) repeat steps 1 and 2 for many random assignments of training/test data (probably needs to run on cluster because it takes a little while to run)…although this might be able to be approximated with just a few runs (e.g. 10 or 20ish, which i think should run OK on a laptop)\n",
    "- 4.) pick the k with the lowest average MSE\n",
    "- 5.) now compute the final hinges using `get_k_hinges(all_data, all_labels, opt_k)`"
   ]
  },
  {
   "cell_type": "code",
   "execution_count": 225,
   "metadata": {
    "scrolled": true
   },
   "outputs": [
    {
     "name": "stdout",
     "output_type": "stream",
     "text": [
      "0 0\n",
      "0 1\n",
      "0 2\n",
      "0 3\n",
      "0 4\n",
      "0 5\n",
      "0 6\n",
      "0 7\n",
      "0 8\n",
      "0 9\n"
     ]
    }
   ],
   "source": [
    "video_events, subj_data = np.load('../data/events.npy')\n",
    "labels = list(map(lambda x: list(x.astype(np.float)), np.load('../data/labels.npy')))\n",
    "\n",
    "nperms = 1\n",
    "nk = 10\n",
    "mses = np.zeros((nperms, nk))\n",
    "for n in range(nperms):\n",
    "    training_data, test_data, training_labels, test_labels = train_test_split(subj_data, labels, test_size=.2)\n",
    "    for k in range(nk):\n",
    "        mses[n, k] = get_hinge(test_data, test_labels, get_k_hinges(training_data, training_labels, k+1))\n",
    "        print(n,k)"
   ]
  },
  {
   "cell_type": "code",
   "execution_count": 226,
   "metadata": {},
   "outputs": [
    {
     "name": "stderr",
     "output_type": "stream",
     "text": [
      "/opt/conda/lib/python3.6/site-packages/seaborn/timeseries.py:183: UserWarning: The tsplot function is deprecated and will be removed or replaced (in a substantially altered version) in a future release.\n",
      "  warnings.warn(msg, UserWarning)\n"
     ]
    },
    {
     "data": {
      "image/png": "[encoded data removed]",
      "text/plain": [
       "<Figure size 640x480 with 1 Axes>"
      ]
     },
     "metadata": {},
     "output_type": "display_data"
    }
   ],
   "source": [
    "sns.reset_defaults()\n",
    "sns.tsplot(mses, err_style='unit_traces')\n",
    "plt.ylabel('MSE')\n",
    "plt.xlabel('k')\n",
    "plt.show()"
   ]
  },
  {
   "cell_type": "code",
   "execution_count": 227,
   "metadata": {},
   "outputs": [
    {
     "data": {
      "image/png": "[encoded data removed]",
      "text/plain": [
       "<Figure size 640x480 with 1 Axes>"
      ]
     },
     "metadata": {},
     "output_type": "display_data"
    }
   ],
   "source": [
    "# x1 = hyp.plot(subj_data, hue=labels, show=False, ndims=2, reduce='UMAP');\n",
    "hyp.plot(subj_data + [get_k_hinges(subj_data, labels, 4)], ['r.']*len(subj_data) + ['ko-'], ndims=2, reduce='UMAP');"
   ]
  },
  {
   "cell_type": "code",
   "execution_count": 4,
   "metadata": {
    "collapsed": true
   },
   "outputs": [],
   "source": [
    "def get_hinges(k, n):\n",
    "    return [tuple([0]+list(c)+[n-1]) for c in combinations(range(1, n-1), k)]\n",
    "\n",
    "def get_dists(segs, points):\n",
    "    dist_dict = defaultdict()\n",
    "    for p in points:\n",
    "        dist_dict[tuple(p)] = defaultdict()\n",
    "        for c in combinations(range(segs.shape[0]), 2):\n",
    "                dist_dict[tuple(p)][c] = sq_dist_to_point([segs[c[0], :], segs[c[1], :]], p)\n",
    "    return dist_dict"
   ]
  },
  {
   "cell_type": "code",
   "execution_count": 33,
   "metadata": {
    "collapsed": true
   },
   "outputs": [],
   "source": [
    "video_events, subj_data = np.load('../data/events.npy')\n",
    "labels = list(map(lambda x: list(x.astype(np.float)), np.load('../data/labels.npy')))\n",
    "subj_data = np.array(subj_data)"
   ]
  },
  {
   "cell_type": "code",
   "execution_count": 35,
   "metadata": {
    "collapsed": true
   },
   "outputs": [],
   "source": [
    "distdict = get_dists(video_events, np.vstack(subj_data))"
   ]
  },
  {
   "cell_type": "code",
   "execution_count": 3,
   "metadata": {},
   "outputs": [
    {
     "name": "stderr",
     "output_type": "stream",
     "text": [
      "ERROR:root:Cell magic `%%lprun` not found.\n"
     ]
    }
   ],
   "source": [
    "%%lprun\n",
    "\n",
    "res=[]\n",
    "n=34\n",
    "training_data, test_data = train_test_split(subj_data, test_size=.5)\n",
    "for k in range(1, 11):\n",
    "    stacked_data = np.vstack(training_data)\n",
    "    best_dist = np.inf\n",
    "    hingerator = combinations(range(n), k)\n",
    "    done=False\n",
    "    for i, h in enumerate(hingerator):\n",
    "        while (np.diff([0]+list(h)+[n-1])<=2).any():\n",
    "            try:\n",
    "                h = next(hingerator)\n",
    "                i+=1\n",
    "            except StopIteration:\n",
    "                done=True\n",
    "                break\n",
    "        if not done:\n",
    "            h = [0]+list(h)+[n-1]\n",
    "            dist = np.empty(len(stacked_data))\n",
    "            for j, p in enumerate(stacked_data):\n",
    "                dist[j] = min([distdict[tuple(p)][(h[i], h[i+1])] for i in range(len(h)-1)])\n",
    "            next_dist = np.mean(dist)\n",
    "            if next_dist < best_dist:\n",
    "                best_dist = next_dist\n",
    "                best_idx = i\n",
    "                best_hinge = h\n",
    "    \n",
    "    stacked_data = np.vstack(test_data)\n",
    "    dist = np.empty(len(stacked_data))\n",
    "    for j, p in enumerate(stacked_data):\n",
    "        dist[j] = min([distdict[tuple(p)][(best_hinge[i], best_hinge[i+1])] for i in range(len(best_hinge)-1)])\n",
    "    test_error = np.mean(dist)\n",
    "    \n",
    "    r = {'k': k, 'training_error': best_dist, 'test_error': test_error, 'hinges': best_hinge}\n",
    "    res.append(r)\n",
    "    print(r)"
   ]
  },
  {
   "cell_type": "code",
   "execution_count": 86,
   "metadata": {
    "collapsed": true
   },
   "outputs": [],
   "source": [
    "def hinge_generator(iterable, r):\n",
    "    pool = tuple(iterable)\n",
    "    n = len(pool)\n",
    "    for indices in permutations(range(n), r):\n",
    "        if sorted(indices) == list(indices) and ~(np.diff([0]+list(indices)+[n-1])<=2).any():\n",
    "            yield tuple([0]+[pool[i] for i in indices]+[n-1])\n",
    "            \n",
    "def hinges_generator(iterable, r):\n",
    "    # combinations('ABCD', 2) --> AB AC AD BC BD CD\n",
    "    # combinations(range(4), 3) --> 012 013 023 123\n",
    "    pool = tuple(iterable)\n",
    "    n = len(pool)\n",
    "    if r > n:\n",
    "        return\n",
    "    indices = range(r)\n",
    "    yield tuple(pool[i] for i in indices)\n",
    "    while True:\n",
    "        for i in reversed(range(r)):\n",
    "            if indices[i] != i + n - r:\n",
    "                break\n",
    "        else:\n",
    "            return\n",
    "        indices[i] += 1\n",
    "        for j in range(i+1, r):\n",
    "            indices[j] = indices[j-1] + 1\n",
    "        if ~(np.diff([0]+list(indices)+[n-1])<=2).any():\n",
    "            yield tuple([0]+[pool[i] for i in indices]+[n-1])"
   ]
  },
  {
   "cell_type": "code",
   "execution_count": 120,
   "metadata": {},
   "outputs": [
    {
     "data": {
      "text/plain": [
       "<matplotlib.axes._subplots.AxesSubplot at 0x7f95a489f6a0>"
      ]
     },
     "execution_count": 120,
     "metadata": {},
     "output_type": "execute_result"
    },
    {
     "data": {
      "image/png": "[encoded data removed]",
      "text/plain": [
       "<Figure size 432x288 with 1 Axes>"
      ]
     },
     "metadata": {},
     "output_type": "display_data"
    }
   ],
   "source": [
    "import pandas as pd\n",
    "pd.DataFrame(res).set_index('k').filter(['training_error', 'test_error']).plot()"
   ]
  },
  {
   "cell_type": "code",
   "execution_count": 123,
   "metadata": {},
   "outputs": [
    {
     "name": "stdout",
     "output_type": "stream",
     "text": [
      "{'k': 1, 'training_error': 0.3566195529302386, 'test_error': 0.33097098722770524, 'hinges': [0, 13, 33]}\n",
      "{'k': 2, 'training_error': 0.28127249895334866, 'test_error': 0.26562249255051795, 'hinges': [0, 13, 27, 33]}\n",
      "{'k': 3, 'training_error': 0.25786971137142295, 'test_error': 0.24103392005972993, 'hinges': [0, 8, 13, 27, 33]}\n",
      "{'k': 4, 'training_error': 0.23434988689631656, 'test_error': 0.2189699157004668, 'hinges': [0, 8, 13, 21, 27, 33]}\n",
      "{'k': 5, 'training_error': 0.21139117196505178, 'test_error': 0.20986362230973502, 'hinges': [0, 8, 13, 19, 23, 27, 33]}\n",
      "{'k': 6, 'training_error': 0.20098785702108746, 'test_error': 0.20009498495926864, 'hinges': [0, 4, 8, 13, 19, 23, 27, 33]}\n",
      "{'k': 7, 'training_error': 0.19695368913843014, 'test_error': 0.1972919068558513, 'hinges': [0, 4, 8, 13, 19, 23, 27, 30, 33]}\n",
      "{'k': 8, 'training_error': 0.19427060841349458, 'test_error': 0.19372506005894127, 'hinges': [0, 4, 8, 13, 16, 19, 23, 27, 30, 33]}\n",
      "{'k': 9, 'training_error': 0.19247994327132126, 'test_error': 0.19513737571576184, 'hinges': [0, 4, 7, 10, 13, 16, 19, 23, 27, 30, 33]}\n",
      "{'k': 10, 'training_error': 0.22097721178874602, 'test_error': 0.20830600236004043, 'hinges': [0, 3, 6, 9, 12, 15, 18, 21, 24, 27, 30, 33]}\n"
     ]
    }
   ],
   "source": [
    "res2=[]\n",
    "n=34\n",
    "training_data, test_data = train_test_split(subj_data, test_size=.5, random_state=1)\n",
    "for k in range(1, 11):\n",
    "    stacked_data = np.vstack(training_data)\n",
    "    best_dist = np.inf\n",
    "    hingerator = combinations(range(n), k)\n",
    "    done=False\n",
    "    for i, h in enumerate(hingerator):\n",
    "        while (np.diff([0]+list(h)+[n-1])<=2).any():\n",
    "            try:\n",
    "                h = next(hingerator)\n",
    "                i+=1\n",
    "            except StopIteration:\n",
    "                done=True\n",
    "                break\n",
    "        if not done:\n",
    "            h = [0]+list(h)+[n-1]\n",
    "            dist = np.empty(len(stacked_data))\n",
    "            for j, p in enumerate(stacked_data):\n",
    "                dist[j] = min([distdict[tuple(p)][(h[i], h[i+1])] for i in range(len(h)-1)])\n",
    "            next_dist = np.mean(dist)\n",
    "            if next_dist < best_dist:\n",
    "                best_dist = next_dist\n",
    "                best_idx = i\n",
    "                best_hinge = h\n",
    "    \n",
    "    stacked_data = np.vstack(test_data)\n",
    "    dist = np.empty(len(stacked_data))\n",
    "    for j, p in enumerate(stacked_data):\n",
    "        dist[j] = min([distdict[tuple(p)][(best_hinge[i], best_hinge[i+1])] for i in range(len(best_hinge)-1)])\n",
    "    test_error = np.mean(dist)\n",
    "    \n",
    "    r = {'k': k, 'training_error': best_dist, 'test_error': test_error, 'hinges': best_hinge}\n",
    "    res2.append(r)\n",
    "    print(r)"
   ]
  },
  {
   "cell_type": "code",
   "execution_count": 124,
   "metadata": {},
   "outputs": [
    {
     "data": {
      "text/plain": [
       "<matplotlib.axes._subplots.AxesSubplot at 0x7f95a450c0b8>"
      ]
     },
     "execution_count": 124,
     "metadata": {},
     "output_type": "execute_result"
    },
    {
     "data": {
      "image/png": "[encoded data removed]",
      "text/plain": [
       "<Figure size 432x288 with 1 Axes>"
      ]
     },
     "metadata": {},
     "output_type": "display_data"
    }
   ],
   "source": [
    "import pandas as pd\n",
    "pd.DataFrame(res2).set_index('k').filter(['training_error', 'test_error']).plot()"
   ]
  },
  {
   "cell_type": "code",
   "execution_count": 126,
   "metadata": {},
   "outputs": [
    {
     "name": "stdout",
     "output_type": "stream",
     "text": [
      "{'k': 1, 'training_error': 0.34857669089984805, 'test_error': 0.34044901631695573, 'hinges': [0, 13, 33]}\n",
      "{'k': 2, 'training_error': 0.2816002864993965, 'test_error': 0.2844603418608407, 'hinges': [0, 4, 13, 33]}\n",
      "{'k': 3, 'training_error': 0.25450288887076605, 'test_error': 0.2642012866189022, 'hinges': [0, 10, 13, 23, 33]}\n",
      "{'k': 4, 'training_error': 0.23146778717465408, 'test_error': 0.23635193279388148, 'hinges': [0, 10, 13, 23, 27, 33]}\n",
      "{'k': 5, 'training_error': 0.21331506279978293, 'test_error': 0.21507692416323962, 'hinges': [0, 10, 13, 19, 23, 27, 33]}\n",
      "{'k': 6, 'training_error': 0.20025240085078208, 'test_error': 0.20771713232918793, 'hinges': [0, 4, 10, 13, 19, 23, 27, 33]}\n",
      "{'k': 7, 'training_error': 0.1962608807068142, 'test_error': 0.19806263318662318, 'hinges': [0, 4, 10, 13, 17, 20, 23, 27, 33]}\n",
      "{'k': 8, 'training_error': 0.19245148352457606, 'test_error': 0.192340097614671, 'hinges': [0, 4, 10, 13, 17, 20, 23, 26, 29, 33]}\n",
      "{'k': 9, 'training_error': 0.18985443075750133, 'test_error': 0.19664115457253578, 'hinges': [0, 4, 7, 10, 13, 16, 19, 23, 26, 29, 33]}\n",
      "{'k': 10, 'training_error': 0.21994384276812998, 'test_error': 0.21035104304871416, 'hinges': [0, 3, 6, 9, 12, 15, 18, 21, 24, 27, 30, 33]}\n"
     ]
    }
   ],
   "source": [
    "res3=[]\n",
    "n=34\n",
    "training_data, test_data = train_test_split(subj_data, test_size=.5, random_state=2)\n",
    "for k in range(1, 11):\n",
    "    stacked_data = np.vstack(training_data)\n",
    "    best_dist = np.inf\n",
    "    hingerator = combinations(range(n), k)\n",
    "    done=False\n",
    "    for i, h in enumerate(hingerator):\n",
    "        while (np.diff([0]+list(h)+[n-1])<=2).any():\n",
    "            try:\n",
    "                h = next(hingerator)\n",
    "                i+=1\n",
    "            except StopIteration:\n",
    "                done=True\n",
    "                break\n",
    "        if not done:\n",
    "            h = [0]+list(h)+[n-1]\n",
    "            dist = np.empty(len(stacked_data))\n",
    "            for j, p in enumerate(stacked_data):\n",
    "                dist[j] = min([distdict[tuple(p)][(h[i], h[i+1])] for i in range(len(h)-1)])\n",
    "            next_dist = np.mean(dist)\n",
    "            if next_dist < best_dist:\n",
    "                best_dist = next_dist\n",
    "                best_idx = i\n",
    "                best_hinge = h\n",
    "    \n",
    "    stacked_data = np.vstack(test_data)\n",
    "    dist = np.empty(len(stacked_data))\n",
    "    for j, p in enumerate(stacked_data):\n",
    "        dist[j] = min([distdict[tuple(p)][(best_hinge[i], best_hinge[i+1])] for i in range(len(best_hinge)-1)])\n",
    "    test_error = np.mean(dist)\n",
    "    \n",
    "    r = {'k': k, 'training_error': best_dist, 'test_error': test_error, 'hinges': best_hinge}\n",
    "    res3.append(r)\n",
    "    print(r)"
   ]
  },
  {
   "cell_type": "code",
   "execution_count": 127,
   "metadata": {},
   "outputs": [
    {
     "data": {
      "text/plain": [
       "<matplotlib.axes._subplots.AxesSubplot at 0x7f95a4473f98>"
      ]
     },
     "execution_count": 127,
     "metadata": {},
     "output_type": "execute_result"
    },
    {
     "data": {
      "image/png": "[encoded data removed]",
      "text/plain": [
       "<Figure size 432x288 with 1 Axes>"
      ]
     },
     "metadata": {},
     "output_type": "display_data"
    }
   ],
   "source": [
    "import pandas as pd\n",
    "pd.DataFrame(res3).set_index('k').filter(['training_error', 'test_error']).plot()"
   ]
  },
  {
   "cell_type": "code",
   "execution_count": null,
   "metadata": {
    "collapsed": true
   },
   "outputs": [],
   "source": []
  }
 ],
 "metadata": {
  "kernelspec": {
   "display_name": "Python 3",
   "language": "python",
   "name": "python3"
  },
  "language_info": {
   "codemirror_mode": {
    "name": "ipython",
    "version": 3
   },
   "file_extension": ".py",
   "mimetype": "text/x-python",
   "name": "python",
   "nbconvert_exporter": "python",
   "pygments_lexer": "ipython3",
   "version": "3.6.1"
  }
 },
 "nbformat": 4,
 "nbformat_minor": 2
}
