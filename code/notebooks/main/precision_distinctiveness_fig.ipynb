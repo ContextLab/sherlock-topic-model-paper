{
 "cells": [
  {
   "cell_type": "markdown",
   "metadata": {},
   "source": [
    "## Import libraries"
   ]
  },
  {
   "cell_type": "code",
   "execution_count": 1,
   "metadata": {
    "ExecuteTime": {
     "end_time": "2019-08-29T17:39:09.992066Z",
     "start_time": "2019-08-29T17:39:08.795060Z"
    }
   },
   "outputs": [
    {
     "data": {
      "text/markdown": [
       "Helper functions and variables used across multiple notebooks can be found in `/mnt/code/sherlock_helpers/sherlock_helpers`, or on GitHub, [here](https://github.com/ContextLab/sherlock-topic-model-paper/tree/master/code/sherlock_helpers).<br />You can also view source code directly from the notebook with:<br /><pre>    from sherlock_helpers.functions import show_source<br />    show_source(foo)</pre>"
      ],
      "text/plain": [
       "<IPython.core.display.Markdown object>"
      ]
     },
     "metadata": {},
     "output_type": "display_data"
    }
   ],
   "source": [
    "import numpy as np\n",
    "import pandas as pd\n",
    "from scipy.spatial.distance import cdist\n",
    "from scipy.stats import pearsonr, zscore\n",
    "\n",
    "from sherlock_helpers.constants import DATA_DIR, EDGECOLOR, FIG_DIR, HAND_REC\n",
    "from sherlock_helpers.functions import corr_mean, r2z, show_source\n",
    "\n",
    "import matplotlib.patches as patches\n",
    "import matplotlib as mpl\n",
    "import matplotlib.pyplot as plt\n",
    "import seaborn as sns\n",
    "%matplotlib inline"
   ]
  },
  {
   "cell_type": "markdown",
   "metadata": {},
   "source": [
    "## Define/inspect some functions"
   ]
  },
  {
   "cell_type": "code",
   "execution_count": 2,
   "metadata": {},
   "outputs": [
    {
     "data": {
      "text/html": [
       "<div class=\"highlight\" style=\"background: #f8f8f8\"><pre style=\"line-height: 125%\"><span></span><span style=\"color: #008000; font-weight: bold\">def</span> <span style=\"color: #0000FF\">r2z</span>(r):\n",
       "    <span style=\"color: #008000; font-weight: bold\">with</span> np<span style=\"color: #666666\">.</span>errstate(invalid<span style=\"color: #666666\">=</span><span style=\"color: #BA2121\">&#39;ignore&#39;</span>, divide<span style=\"color: #666666\">=</span><span style=\"color: #BA2121\">&#39;ignore&#39;</span>):\n",
       "        <span style=\"color: #008000; font-weight: bold\">return</span> <span style=\"color: #666666\">0.5</span> <span style=\"color: #666666\">*</span> (np<span style=\"color: #666666\">.</span>log(<span style=\"color: #666666\">1</span> <span style=\"color: #666666\">+</span> r) <span style=\"color: #666666\">-</span> np<span style=\"color: #666666\">.</span>log(<span style=\"color: #666666\">1</span> <span style=\"color: #666666\">-</span> r))\n",
       "</pre></div>\n"
      ],
      "text/plain": [
       "<IPython.core.display.HTML object>"
      ]
     },
     "execution_count": 2,
     "metadata": {},
     "output_type": "execute_result"
    }
   ],
   "source": [
    "show_source(r2z)"
   ]
  },
  {
   "cell_type": "code",
   "execution_count": 3,
   "metadata": {},
   "outputs": [
    {
     "data": {
      "text/html": [
       "<div class=\"highlight\" style=\"background: #f8f8f8\"><pre style=\"line-height: 125%\"><span></span><span style=\"color: #008000; font-weight: bold\">def</span> <span style=\"color: #0000FF\">corr_mean</span>(rs, axis<span style=\"color: #666666\">=0</span>):\n",
       "    <span style=\"color: #008000; font-weight: bold\">return</span> z2r(np<span style=\"color: #666666\">.</span>nanmean([r2z(r) <span style=\"color: #008000; font-weight: bold\">for</span> r <span style=\"color: #AA22FF; font-weight: bold\">in</span> rs], axis<span style=\"color: #666666\">=</span>axis))\n",
       "</pre></div>\n"
      ],
      "text/plain": [
       "<IPython.core.display.HTML object>"
      ]
     },
     "execution_count": 3,
     "metadata": {},
     "output_type": "execute_result"
    }
   ],
   "source": [
    "show_source(corr_mean)"
   ]
  },
  {
   "cell_type": "code",
   "execution_count": 4,
   "metadata": {
    "collapsed": true
   },
   "outputs": [],
   "source": [
    "def corr_pearsonr(r_vals, metric2):\n",
    "    return pearsonr(r2z(np.array(r_vals)), metric2)"
   ]
  },
  {
   "cell_type": "code",
   "execution_count": 5,
   "metadata": {
    "collapsed": true
   },
   "outputs": [],
   "source": [
    "def fmt_stat(stat):\n",
    "    r, p = stat\n",
    "    if p < .001:\n",
    "        return f\"$r = {r:.2f}$\\n$p < .001$\"\n",
    "    else:\n",
    "        return f\"$r = {r:.2f}$\\n$p = {round(p, 3)}$\""
   ]
  },
  {
   "cell_type": "code",
   "execution_count": 6,
   "metadata": {
    "ExecuteTime": {
     "end_time": "2019-08-29T17:39:10.034624Z",
     "start_time": "2019-08-29T17:39:10.016641Z"
    },
    "collapsed": true
   },
   "outputs": [],
   "source": [
    "def precision_func(video, recall):\n",
    "    return corr_mean(np.max(1 - cdist(video, recall, 'correlation'), 0))"
   ]
  },
  {
   "cell_type": "code",
   "execution_count": 7,
   "metadata": {
    "collapsed": true
   },
   "outputs": [],
   "source": [
    "def distinctiveness_func(video, recall):\n",
    "    corrmat = 1 - cdist(video, recall, 'correlation')\n",
    "    z_corrs = zscore(corrmat, axis=0)\n",
    "    return z_corrs.max(axis=0).mean()"
   ]
  },
  {
   "cell_type": "markdown",
   "metadata": {},
   "source": [
    "## Set plotting params"
   ]
  },
  {
   "cell_type": "code",
   "execution_count": 8,
   "metadata": {
    "ExecuteTime": {
     "end_time": "2019-08-29T17:39:10.003476Z",
     "start_time": "2019-08-29T17:39:09.993130Z"
    },
    "collapsed": true
   },
   "outputs": [],
   "source": [
    "sns.set_context('paper')\n",
    "mpl.rcParams['pdf.fonttype'] = 42\n",
    "cmap = plt.cm.bone_r"
   ]
  },
  {
   "cell_type": "markdown",
   "metadata": {},
   "source": [
    "## Load data"
   ]
  },
  {
   "cell_type": "code",
   "execution_count": 9,
   "metadata": {
    "ExecuteTime": {
     "end_time": "2019-08-29T17:39:10.015103Z",
     "start_time": "2019-08-29T17:39:10.005205Z"
    },
    "collapsed": true
   },
   "outputs": [],
   "source": [
    "video_events = np.load(DATA_DIR.joinpath('video_events.npy'), allow_pickle=True)\n",
    "recall_events = np.load(DATA_DIR.joinpath('recall_events.npy'), allow_pickle=True)\n",
    "event_mappings = np.load(DATA_DIR.joinpath('labels.npy'), allow_pickle=True)"
   ]
  },
  {
   "cell_type": "code",
   "execution_count": 10,
   "metadata": {
    "ExecuteTime": {
     "end_time": "2019-08-29T17:39:12.159096Z",
     "start_time": "2019-08-29T17:39:10.037140Z"
    },
    "scrolled": true
   },
   "outputs": [
    {
     "data": {
      "image/png": "[encoded data removed]",
      "text/plain": [
       "<Figure size 720x360 with 5 Axes>"
      ]
     },
     "metadata": {},
     "output_type": "display_data"
    }
   ],
   "source": [
    "# general settings and parameters\n",
    "fig = plt.figure()\n",
    "fig.set_size_inches(10, 5)\n",
    "gs = fig.add_gridspec(2, 4)\n",
    "\n",
    "a = fig.add_subplot(gs[0:, :-2])\n",
    "b = fig.add_subplot(gs[0, 2])\n",
    "c = fig.add_subplot(gs[1, 2])\n",
    "d = fig.add_subplot(gs[0, 3])\n",
    "e = fig.add_subplot(gs[1, 3])\n",
    "\n",
    "# format the data\n",
    "precision = [precision_func(video_events, r) for r in recall_events]\n",
    "distinctiveness = [distinctiveness_func(video_events, r) for r in recall_events]\n",
    "n_recalled = np.array([np.unique(m).shape[0] for m in event_mappings])\n",
    "\n",
    "df = pd.DataFrame(np.array([HAND_REC, n_recalled, precision, distinctiveness]).T, \n",
    "                  columns=['Scenes recalled (hand)', \n",
    "                           'Events recalled (model)', \n",
    "                           'Precision', \n",
    "                           'Distinctiveness'])\n",
    "\n",
    "# precision schematic\n",
    "p17_matchmat = 1 - cdist(video_events, recall_events[16], 'correlation')\n",
    "sns.heatmap(p17_matchmat, \n",
    "            xticklabels=5, \n",
    "            yticklabels=5, \n",
    "            vmin=0, \n",
    "            vmax=1, \n",
    "            cmap=cmap, \n",
    "            cbar=False, \n",
    "            ax=a)\n",
    "a.set_title('Precision & Distinctiveness', fontsize=14)\n",
    "a.set_ylabel('Episode events', fontsize=12)\n",
    "a.set_xlabel('Recall events', fontsize=12)\n",
    "a.tick_params('both', labelsize=12)\n",
    "\n",
    "for spine in a.spines.values():\n",
    "    spine.set_visible(True)\n",
    "\n",
    "a.hlines(range(video_events.shape[0]), *a.get_xlim(), linewidth=.25)\n",
    "a.vlines(range(recall_events[16].shape[0]), *a.get_ylim(), linewidth=.25)\n",
    "\n",
    "bounds = np.argmax(p17_matchmat, axis=0)\n",
    "for i, bound in enumerate(bounds):\n",
    "    rect = patches.Rectangle((i, bound), \n",
    "                             1, 1, \n",
    "                             linewidth=2, \n",
    "                             edgecolor=EDGECOLOR, \n",
    "                             facecolor='none', \n",
    "                             zorder=2, \n",
    "                             alpha=1)\n",
    "    a.add_patch(rect)\n",
    "    \n",
    "# correlation plots\n",
    "sns.regplot(x='Scenes recalled (hand)', \n",
    "            y='Precision', \n",
    "            data=df, \n",
    "            color='black', \n",
    "            ax=b)\n",
    "sns.regplot(x='Scenes recalled (hand)', \n",
    "            y='Distinctiveness', \n",
    "            data=df, \n",
    "            color='black', \n",
    "            ax=c)\n",
    "sns.regplot(x='Events recalled (model)', \n",
    "            y='Precision', \n",
    "            data=df, \n",
    "            color='black', \n",
    "            ax=d)\n",
    "sns.regplot(x='Events recalled (model)', \n",
    "            y='Distinctiveness', \n",
    "            data=df, \n",
    "            color='black', \n",
    "            ax=e)\n",
    "\n",
    "# add labels\n",
    "labels = 'ABCDE'\n",
    "for ax, l in zip([a, b, c, d, e], labels):\n",
    "    ax.text(-.15, 1.07, \n",
    "            l,\n",
    "            horizontalalignment='center',\n",
    "            transform=ax.transAxes,\n",
    "            fontsize=12)\n",
    "\n",
    "# format axes\n",
    "b.set(ylim=(.6, .85), \n",
    "      xticks=np.arange(25, 50, 5), \n",
    "      yticks=np.arange(.6, .9, .05), \n",
    "      xlabel=None)\n",
    "\n",
    "c.set(ylim=(3.0, 4.2), \n",
    "      xticks=np.arange(25, 50, 5), \n",
    "      yticks=np.arange(3.0, 4.4, .2))\n",
    "\n",
    "d.set(xlim=(6, 25), \n",
    "      ylim=(.6, .85), \n",
    "      xticks=np.arange(5, 30, 5), \n",
    "      yticks=np.arange(.6, .9, .05), \n",
    "      xlabel=None, \n",
    "      ylabel=None)\n",
    "\n",
    "e.set(xlim=(6, 25), \n",
    "      ylim=(3.0, 4.2), \n",
    "      xticks=np.arange(5, 30, 5), \n",
    "      yticks=np.arange(3.0, 4.4, .2),\n",
    "      ylabel=None)\n",
    "    \n",
    "# add stats\n",
    "cols = [('Precision', 'Scenes recalled (hand)'), \n",
    "        ('Distinctiveness', 'Scenes recalled (hand)'),\n",
    "        ('Precision', 'Events recalled (model)'),\n",
    "        ('Distinctiveness', 'Events recalled (model)')]\n",
    "\n",
    "for ax, col in zip([b, c, d, e], cols):\n",
    "    corr_func = corr_pearsonr if col[0] == 'Precision' else pearsonr\n",
    "    stat = corr_func(df[col[0]], df[col[1]])\n",
    "    ax.text(.22, .75, \n",
    "            fmt_stat(stat),\n",
    "            horizontalalignment='center', \n",
    "            multialignment='left',\n",
    "            transform=ax.transAxes,\n",
    "            fontsize=10)\n",
    "\n",
    "plt.subplots_adjust(wspace=.25, hspace=.25)\n",
    "plt.tight_layout()\n",
    "\n",
    "# plt.savefig(FIG_DIR.joinpath('precision_distinctiveness.pdf'))\n",
    "plt.show()"
   ]
  },
  {
   "cell_type": "code",
   "execution_count": 11,
   "metadata": {
    "scrolled": true
   },
   "outputs": [
    {
     "name": "stdout",
     "output_type": "stream",
     "text": [
      "(0.8971982495855956, 1.0558817224530605e-06)\n"
     ]
    }
   ],
   "source": [
    "print(pearsonr(precision, distinctiveness))"
   ]
  }
 ],
 "metadata": {
  "kernelspec": {
   "display_name": "Python 3",
   "language": "python",
   "name": "python3"
  },
  "language_info": {
   "codemirror_mode": {
    "name": "ipython",
    "version": 3
   },
   "file_extension": ".py",
   "mimetype": "text/x-python",
   "name": "python",
   "nbconvert_exporter": "python",
   "pygments_lexer": "ipython3",
   "version": "3.6.1"
  }
 },
 "nbformat": 4,
 "nbformat_minor": 2
}
