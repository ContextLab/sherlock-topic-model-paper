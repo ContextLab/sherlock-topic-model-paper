{
 "cells": [
  {
   "cell_type": "markdown",
   "metadata": {},
   "source": [
    "This notebook fits a topic model to the Sherlock text descriptions and then transformed the recall transcripts with the model."
   ]
  },
  {
   "cell_type": "markdown",
   "metadata": {},
   "source": [
    "## Import libraries"
   ]
  },
  {
   "cell_type": "code",
   "execution_count": 1,
   "metadata": {
    "ExecuteTime": {
     "end_time": "2019-12-01T17:51:01.902342Z",
     "start_time": "2019-12-01T17:50:57.154117Z"
    }
   },
   "outputs": [
    {
     "data": {
      "text/markdown": [
       "Helper functions and variables used across multiple notebooks can be found in `/mnt/code/sherlock_helpers/sherlock_helpers`, or on GitHub, [here](https://github.com/ContextLab/sherlock-topic-model-paper/tree/master/code/sherlock_helpers).<br />You can also view source code directly from the notebook with:<br /><pre>    from sherlock_helpers.functions import show_source<br />    show_source(foo)</pre>"
      ],
      "text/plain": [
       "<IPython.core.display.Markdown object>"
      ]
     },
     "metadata": {},
     "output_type": "display_data"
    }
   ],
   "source": [
    "import numpy as np\n",
    "import pandas as pd\n",
    "import hypertools as hyp\n",
    "from scipy.interpolate import interp1d\n",
    "\n",
    "from sherlock_helpers.constants import (\n",
    "    DATA_DIR, \n",
    "    RAW_DIR, \n",
    "    RECALL_WSIZE, \n",
    "    SEMANTIC_PARAMS,\n",
    "    VECTORIZER_PARAMS,\n",
    "    VIDEO_WSIZE\n",
    ")\n",
    "from sherlock_helpers.functions import (\n",
    "    format_text, \n",
    "    get_video_timepoints, \n",
    "    multicol_display,\n",
    "    parse_windows,\n",
    "    show_source\n",
    ")\n",
    "\n",
    "%matplotlib inline"
   ]
  },
  {
   "cell_type": "markdown",
   "metadata": {},
   "source": [
    "## Inspect some things defined in `sherlock_helpers` "
   ]
  },
  {
   "cell_type": "code",
   "execution_count": 2,
   "metadata": {},
   "outputs": [
    {
     "data": {
      "text/html": [
       "<div class=\"highlight\" style=\"background: #f8f8f8\"><pre style=\"line-height: 125%\"><span></span><span style=\"color: #008000; font-weight: bold\">def</span> <span style=\"color: #0000FF\">format_text</span>(text):\n",
       "    <span style=\"color: #008000; font-weight: bold\">if</span> <span style=\"color: #008000\">isinstance</span>(text, pd<span style=\"color: #666666\">.</span>Series):\n",
       "        text <span style=\"color: #666666\">=</span> <span style=\"color: #BA2121\">&#39; &#39;</span><span style=\"color: #666666\">.</span>join(<span style=\"color: #008000\">list</span>(text<span style=\"color: #666666\">.</span>dropna()))\n",
       "        pattern <span style=\"color: #666666\">=</span> <span style=\"color: #BA2121\">&quot;[^\\w\\s]+&quot;</span>\n",
       "    <span style=\"color: #008000; font-weight: bold\">else</span>:\n",
       "        pattern <span style=\"color: #666666\">=</span> <span style=\"color: #BA2121\">&quot;[^.\\w\\s]+&quot;</span>\n",
       "\n",
       "    no_possessive <span style=\"color: #666666\">=</span> text<span style=\"color: #666666\">.</span>lower()<span style=\"color: #666666\">.</span>replace(<span style=\"color: #BA2121\">&quot;&#39;s&quot;</span>, <span style=\"color: #BA2121\">&#39;&#39;</span>)\n",
       "    <span style=\"color: #008000; font-weight: bold\">return</span> re<span style=\"color: #666666\">.</span>sub(pattern, <span style=\"color: #BA2121\">&#39;&#39;</span>, no_possessive)\n",
       "</pre></div>\n"
      ],
      "text/plain": [
       "<IPython.core.display.HTML object>"
      ]
     },
     "execution_count": 2,
     "metadata": {},
     "output_type": "execute_result"
    }
   ],
   "source": [
    "show_source(format_text)"
   ]
  },
  {
   "cell_type": "code",
   "execution_count": 3,
   "metadata": {},
   "outputs": [
    {
     "data": {
      "text/html": [
       "<div class=\"highlight\" style=\"background: #f8f8f8\"><pre style=\"line-height: 125%\"><span></span><span style=\"color: #008000; font-weight: bold\">def</span> <span style=\"color: #0000FF\">parse_windows</span>(textlist, wsize):\n",
       "    windows <span style=\"color: #666666\">=</span> []\n",
       "    window_bounds <span style=\"color: #666666\">=</span> []\n",
       "    <span style=\"color: #008000; font-weight: bold\">for</span> ix <span style=\"color: #AA22FF; font-weight: bold\">in</span> <span style=\"color: #008000\">range</span>(<span style=\"color: #666666\">1</span>, wsize):\n",
       "        start, end <span style=\"color: #666666\">=</span> <span style=\"color: #666666\">0</span>, ix\n",
       "        window_bounds<span style=\"color: #666666\">.</span>append((start, end))\n",
       "        windows<span style=\"color: #666666\">.</span>append(<span style=\"color: #BA2121\">&#39; &#39;</span><span style=\"color: #666666\">.</span>join(textlist[start:end]))\n",
       "\n",
       "    <span style=\"color: #008000; font-weight: bold\">for</span> ix <span style=\"color: #AA22FF; font-weight: bold\">in</span> <span style=\"color: #008000\">range</span>(<span style=\"color: #008000\">len</span>(textlist)):\n",
       "        start <span style=\"color: #666666\">=</span> ix\n",
       "        end <span style=\"color: #666666\">=</span> ix <span style=\"color: #666666\">+</span> wsize <span style=\"color: #008000; font-weight: bold\">if</span> ix <span style=\"color: #666666\">+</span> wsize <span style=\"color: #666666\">&lt;=</span> <span style=\"color: #008000\">len</span>(textlist) <span style=\"color: #008000; font-weight: bold\">else</span> <span style=\"color: #008000\">len</span>(textlist)\n",
       "        window_bounds<span style=\"color: #666666\">.</span>append((start, end))\n",
       "        windows<span style=\"color: #666666\">.</span>append(<span style=\"color: #BA2121\">&#39; &#39;</span><span style=\"color: #666666\">.</span>join(textlist[start:end]))\n",
       "\n",
       "    <span style=\"color: #008000; font-weight: bold\">return</span> windows, window_bounds\n",
       "</pre></div>\n"
      ],
      "text/plain": [
       "<IPython.core.display.HTML object>"
      ]
     },
     "execution_count": 3,
     "metadata": {},
     "output_type": "execute_result"
    }
   ],
   "source": [
    "show_source(parse_windows)"
   ]
  },
  {
   "cell_type": "code",
   "execution_count": 4,
   "metadata": {},
   "outputs": [
    {
     "data": {
      "text/html": [
       "<div class=\"highlight\" style=\"background: #f8f8f8\"><pre style=\"line-height: 125%\"><span></span><span style=\"color: #008000; font-weight: bold\">def</span> <span style=\"color: #0000FF\">get_video_timepoints</span>(window_spans, annotations):\n",
       "    timepoints <span style=\"color: #666666\">=</span> []\n",
       "    <span style=\"color: #008000; font-weight: bold\">for</span> first, last <span style=\"color: #AA22FF; font-weight: bold\">in</span> window_spans:\n",
       "        window_onset <span style=\"color: #666666\">=</span> annotations<span style=\"color: #666666\">.</span>loc[first, <span style=\"color: #BA2121\">&#39;Start Time (s) &#39;</span>]\n",
       "        window_offset <span style=\"color: #666666\">=</span> annotations<span style=\"color: #666666\">.</span>loc[last <span style=\"color: #666666\">-</span> <span style=\"color: #666666\">1</span>, <span style=\"color: #BA2121\">&#39;End Time (s) &#39;</span>]\n",
       "        timepoints<span style=\"color: #666666\">.</span>append((window_onset <span style=\"color: #666666\">+</span> window_offset) <span style=\"color: #666666\">/</span> <span style=\"color: #666666\">2</span>)\n",
       "\n",
       "    <span style=\"color: #008000; font-weight: bold\">return</span> np<span style=\"color: #666666\">.</span>array(timepoints)\n",
       "</pre></div>\n"
      ],
      "text/plain": [
       "<IPython.core.display.HTML object>"
      ]
     },
     "execution_count": 4,
     "metadata": {},
     "output_type": "execute_result"
    }
   ],
   "source": [
    "show_source(get_video_timepoints)"
   ]
  },
  {
   "cell_type": "code",
   "execution_count": 5,
   "metadata": {},
   "outputs": [
    {
     "data": {
      "text/html": [
       "<table style=width:100%;border:0px;margin-left:auto;margin-right:auto><caption style=color:unset;text-align:center;font-size:2em;font-weight:bold>Modeling parameters</caption><th style=border:0px;font-size:16px;text-align:center>Video annotation window length</th><th style=border:0px;font-size:16px;text-align:center>Recall transcript window length</th><th style=border:0px;font-size:16px;text-align:center>Vectorizer parameters</th><th style=border:0px;font-size:16px;text-align:center>Topic model parameters</th><tr style=border:0px><td style=border:0px;width:25.0%;vertical-align:top;font-size:14px;text-align:center>50</td><td style=border:0px;width:25.0%;vertical-align:top;font-size:14px;text-align:center>10</td><td style=border:0px;width:25.0%;vertical-align:top;font-size:14px;text-align:center><b>model</b>:&emsp;CountVectorizer<br><br><b>stop_words</b>:&emsp;english</td><td style=border:0px;width:25.0%;vertical-align:top;font-size:14px;text-align:center><b>model</b>:&emsp;LatentDirichletAllocation<br><br><b>n_components</b>:&emsp;100<br><br><b>learning_method</b>:&emsp;batch<br><br><b>random_state</b>:&emsp;0</td></tr></table>"
      ],
      "text/plain": [
       "<IPython.core.display.HTML object>"
      ]
     },
     "metadata": {},
     "output_type": "display_data"
    }
   ],
   "source": [
    "_vec_params = dict(model=VECTORIZER_PARAMS['model'], **VECTORIZER_PARAMS['params'])\n",
    "_sem_params = dict(model=SEMANTIC_PARAMS['model'], **SEMANTIC_PARAMS['params'])\n",
    "multicol_display(VIDEO_WSIZE, RECALL_WSIZE, _vec_params, _sem_params, \n",
    "                 caption='Modeling parameters',\n",
    "                 col_headers=('Video annotation window length', \n",
    "                              'Recall transcript window length', \n",
    "                              'Vectorizer parameters', \n",
    "                              'Topic model parameters'), \n",
    "                 ncols=4)"
   ]
  },
  {
   "cell_type": "markdown",
   "metadata": {},
   "source": [
    "## Load and format data"
   ]
  },
  {
   "cell_type": "code",
   "execution_count": 6,
   "metadata": {
    "ExecuteTime": {
     "end_time": "2019-12-01T17:51:36.799229Z",
     "start_time": "2019-12-01T17:51:36.536798Z"
    },
    "collapsed": true,
    "scrolled": true
   },
   "outputs": [],
   "source": [
    "video_text = pd.read_excel(RAW_DIR.joinpath('Sherlock_Segments_1000_NN_2017.xlsx'))\n",
    "video_text['Scene Segments'].fillna(method='ffill', inplace=True)\n",
    "\n",
    "# drop 1s shot & 6s of black screen after end of 1st scan\n",
    "video_text.drop(index=[480, 481], inplace=True)\n",
    "video_text.reset_index(drop=True, inplace=True)\n",
    "\n",
    "# timestamps for 2nd scan restart from 0; add duration of 1st scan to values\n",
    "video_text.loc[480:, 'Start Time (s) ':'End Time (s) '] += video_text.loc[479, 'End Time (s) ']"
   ]
  },
  {
   "cell_type": "markdown",
   "metadata": {},
   "source": [
    "## Inspect some of the raw data we're working with"
   ]
  },
  {
   "cell_type": "code",
   "execution_count": 7,
   "metadata": {},
   "outputs": [
    {
     "data": {
      "text/html": [
       "<div>\n",
       "<style scoped>\n",
       "    .dataframe tbody tr th:only-of-type {\n",
       "        vertical-align: middle;\n",
       "    }\n",
       "\n",
       "    .dataframe tbody tr th {\n",
       "        vertical-align: top;\n",
       "    }\n",
       "\n",
       "    .dataframe thead th {\n",
       "        text-align: right;\n",
       "    }\n",
       "</style>\n",
       "<table border=\"1\" class=\"dataframe\">\n",
       "  <thead>\n",
       "    <tr style=\"text-align: right;\">\n",
       "      <th></th>\n",
       "      <th>Scene Details - A Level</th>\n",
       "      <th>Space-In/Outdoor</th>\n",
       "      <th>Name - All</th>\n",
       "      <th>Name - Focus</th>\n",
       "      <th>Name - Speaking</th>\n",
       "      <th>Location</th>\n",
       "      <th>Camera Angle</th>\n",
       "      <th>Music Presence</th>\n",
       "      <th>Words on Screen</th>\n",
       "    </tr>\n",
       "  </thead>\n",
       "  <tbody>\n",
       "    <tr>\n",
       "      <th>7</th>\n",
       "      <td>Gunfire by a soldier along a wall made of stac...</td>\n",
       "      <td>Outdoor</td>\n",
       "      <td>Soldiers</td>\n",
       "      <td>Soldiers</td>\n",
       "      <td>NaN</td>\n",
       "      <td>Afghanistan</td>\n",
       "      <td>Medium</td>\n",
       "      <td>No</td>\n",
       "      <td>NaN</td>\n",
       "    </tr>\n",
       "    <tr>\n",
       "      <th>8</th>\n",
       "      <td>A bomb or land mine goes off in the middle of ...</td>\n",
       "      <td>Outdoor</td>\n",
       "      <td>Soldiers</td>\n",
       "      <td>Soldiers</td>\n",
       "      <td>NaN</td>\n",
       "      <td>Afghanistan</td>\n",
       "      <td>Long</td>\n",
       "      <td>No</td>\n",
       "      <td>NaN</td>\n",
       "    </tr>\n",
       "    <tr>\n",
       "      <th>9</th>\n",
       "      <td>A Soldier kicks open a door. Soldiers shooting...</td>\n",
       "      <td>Outdoor</td>\n",
       "      <td>Soldiers</td>\n",
       "      <td>Soldiers</td>\n",
       "      <td>NaN</td>\n",
       "      <td>Afghanistan</td>\n",
       "      <td>Medium</td>\n",
       "      <td>No</td>\n",
       "      <td>NaN</td>\n",
       "    </tr>\n",
       "    <tr>\n",
       "      <th>10</th>\n",
       "      <td>Close up view of John tossing in bed while sle...</td>\n",
       "      <td>Indoor</td>\n",
       "      <td>John</td>\n",
       "      <td>John</td>\n",
       "      <td>NaN</td>\n",
       "      <td>John's Room</td>\n",
       "      <td>Close Up</td>\n",
       "      <td>No</td>\n",
       "      <td>NaN</td>\n",
       "    </tr>\n",
       "    <tr>\n",
       "      <th>11</th>\n",
       "      <td>More gunfire. Two soldiers seen hand signallin...</td>\n",
       "      <td>Outdoor</td>\n",
       "      <td>Soldiers</td>\n",
       "      <td>Soldiers</td>\n",
       "      <td>NaN</td>\n",
       "      <td>Afghanistan</td>\n",
       "      <td>Medium</td>\n",
       "      <td>No</td>\n",
       "      <td>NaN</td>\n",
       "    </tr>\n",
       "  </tbody>\n",
       "</table>\n",
       "</div>"
      ],
      "text/plain": [
       "                             Scene Details - A Level  Space-In/Outdoor  \\\n",
       "7   Gunfire by a soldier along a wall made of stac...          Outdoor   \n",
       "8   A bomb or land mine goes off in the middle of ...          Outdoor   \n",
       "9   A Soldier kicks open a door. Soldiers shooting...          Outdoor   \n",
       "10  Close up view of John tossing in bed while sle...           Indoor   \n",
       "11  More gunfire. Two soldiers seen hand signallin...          Outdoor   \n",
       "\n",
       "   Name - All Name - Focus Name - Speaking      Location Camera Angle  \\\n",
       "7    Soldiers     Soldiers             NaN  Afghanistan        Medium   \n",
       "8    Soldiers     Soldiers             NaN  Afghanistan          Long   \n",
       "9    Soldiers     Soldiers             NaN  Afghanistan        Medium   \n",
       "10       John         John             NaN   John's Room     Close Up   \n",
       "11   Soldiers     Soldiers             NaN  Afghanistan        Medium   \n",
       "\n",
       "   Music Presence  Words on Screen   \n",
       "7               No              NaN  \n",
       "8               No              NaN  \n",
       "9               No              NaN  \n",
       "10              No              NaN  \n",
       "11              No              NaN  "
      ]
     },
     "execution_count": 7,
     "metadata": {},
     "output_type": "execute_result"
    }
   ],
   "source": [
    "video_text.loc[7:, 'Scene Details - A Level ':'Words on Screen '].head()"
   ]
  },
  {
   "cell_type": "code",
   "execution_count": 8,
   "metadata": {
    "scrolled": false
   },
   "outputs": [
    {
     "data": {
      "text/html": [
       "<table style=width:100%;border:0px;margin-left:auto;margin-right:auto><caption style=color:unset;text-align:center;font-size:2em;font-weight:bold><i>A Study in Pink</i> sample annotations</caption><th style=border:0px;font-size:16px;text-align:center>Annotation 9</th><th style=border:0px;font-size:16px;text-align:center>Annotation 10</th><th style=border:0px;font-size:16px;text-align:center>Annotation 11</th><th style=border:0px;font-size:16px;text-align:center>Annotation 12</th><tr style=border:0px><td style=border:0px;width:25.0%;vertical-align:top;font-size:14px;text-align:center><table border=\"1\" class=\"dataframe\">\n",
       "  <thead>\n",
       "    <tr style=\"text-align: right;\">\n",
       "      <th></th>\n",
       "      <th></th>\n",
       "    </tr>\n",
       "  </thead>\n",
       "  <tbody>\n",
       "    <tr>\n",
       "      <th>Scene Details - A Level</th>\n",
       "      <td>A Soldier kicks open a door. Soldiers shooting at a target off screen behind a wall. Other soldiers are sitting ducked beneath the wall.</td>\n",
       "    </tr>\n",
       "    <tr>\n",
       "      <th>Space-In/Outdoor</th>\n",
       "      <td>Outdoor</td>\n",
       "    </tr>\n",
       "    <tr>\n",
       "      <th>Name - All</th>\n",
       "      <td>Soldiers</td>\n",
       "    </tr>\n",
       "    <tr>\n",
       "      <th>Name - Focus</th>\n",
       "      <td>Soldiers</td>\n",
       "    </tr>\n",
       "    <tr>\n",
       "      <th>Name - Speaking</th>\n",
       "      <td>NaN</td>\n",
       "    </tr>\n",
       "    <tr>\n",
       "      <th>Location</th>\n",
       "      <td>Afghanistan</td>\n",
       "    </tr>\n",
       "    <tr>\n",
       "      <th>Camera Angle</th>\n",
       "      <td>Medium</td>\n",
       "    </tr>\n",
       "    <tr>\n",
       "      <th>Music Presence</th>\n",
       "      <td>No</td>\n",
       "    </tr>\n",
       "    <tr>\n",
       "      <th>Words on Screen</th>\n",
       "      <td>NaN</td>\n",
       "    </tr>\n",
       "  </tbody>\n",
       "</table></td><td style=border:0px;width:25.0%;vertical-align:top;font-size:14px;text-align:center><table border=\"1\" class=\"dataframe\">\n",
       "  <thead>\n",
       "    <tr style=\"text-align: right;\">\n",
       "      <th></th>\n",
       "      <th></th>\n",
       "    </tr>\n",
       "  </thead>\n",
       "  <tbody>\n",
       "    <tr>\n",
       "      <th>Scene Details - A Level</th>\n",
       "      <td>Close up view of John tossing in bed while sleeping</td>\n",
       "    </tr>\n",
       "    <tr>\n",
       "      <th>Space-In/Outdoor</th>\n",
       "      <td>Indoor</td>\n",
       "    </tr>\n",
       "    <tr>\n",
       "      <th>Name - All</th>\n",
       "      <td>John</td>\n",
       "    </tr>\n",
       "    <tr>\n",
       "      <th>Name - Focus</th>\n",
       "      <td>John</td>\n",
       "    </tr>\n",
       "    <tr>\n",
       "      <th>Name - Speaking</th>\n",
       "      <td>NaN</td>\n",
       "    </tr>\n",
       "    <tr>\n",
       "      <th>Location</th>\n",
       "      <td>John's Room</td>\n",
       "    </tr>\n",
       "    <tr>\n",
       "      <th>Camera Angle</th>\n",
       "      <td>Close Up</td>\n",
       "    </tr>\n",
       "    <tr>\n",
       "      <th>Music Presence</th>\n",
       "      <td>No</td>\n",
       "    </tr>\n",
       "    <tr>\n",
       "      <th>Words on Screen</th>\n",
       "      <td>NaN</td>\n",
       "    </tr>\n",
       "  </tbody>\n",
       "</table></td><td style=border:0px;width:25.0%;vertical-align:top;font-size:14px;text-align:center><table border=\"1\" class=\"dataframe\">\n",
       "  <thead>\n",
       "    <tr style=\"text-align: right;\">\n",
       "      <th></th>\n",
       "      <th></th>\n",
       "    </tr>\n",
       "  </thead>\n",
       "  <tbody>\n",
       "    <tr>\n",
       "      <th>Scene Details - A Level</th>\n",
       "      <td>More gunfire. Two soldiers seen hand signalling to each other in the battlefield filled with tall grass</td>\n",
       "    </tr>\n",
       "    <tr>\n",
       "      <th>Space-In/Outdoor</th>\n",
       "      <td>Outdoor</td>\n",
       "    </tr>\n",
       "    <tr>\n",
       "      <th>Name - All</th>\n",
       "      <td>Soldiers</td>\n",
       "    </tr>\n",
       "    <tr>\n",
       "      <th>Name - Focus</th>\n",
       "      <td>Soldiers</td>\n",
       "    </tr>\n",
       "    <tr>\n",
       "      <th>Name - Speaking</th>\n",
       "      <td>NaN</td>\n",
       "    </tr>\n",
       "    <tr>\n",
       "      <th>Location</th>\n",
       "      <td>Afghanistan</td>\n",
       "    </tr>\n",
       "    <tr>\n",
       "      <th>Camera Angle</th>\n",
       "      <td>Medium</td>\n",
       "    </tr>\n",
       "    <tr>\n",
       "      <th>Music Presence</th>\n",
       "      <td>No</td>\n",
       "    </tr>\n",
       "    <tr>\n",
       "      <th>Words on Screen</th>\n",
       "      <td>NaN</td>\n",
       "    </tr>\n",
       "  </tbody>\n",
       "</table></td><td style=border:0px;width:25.0%;vertical-align:top;font-size:14px;text-align:center><table border=\"1\" class=\"dataframe\">\n",
       "  <thead>\n",
       "    <tr style=\"text-align: right;\">\n",
       "      <th></th>\n",
       "      <th></th>\n",
       "    </tr>\n",
       "  </thead>\n",
       "  <tbody>\n",
       "    <tr>\n",
       "      <th>Scene Details - A Level</th>\n",
       "      <td>Sideways view of john sleeping at night</td>\n",
       "    </tr>\n",
       "    <tr>\n",
       "      <th>Space-In/Outdoor</th>\n",
       "      <td>Indoor</td>\n",
       "    </tr>\n",
       "    <tr>\n",
       "      <th>Name - All</th>\n",
       "      <td>John</td>\n",
       "    </tr>\n",
       "    <tr>\n",
       "      <th>Name - Focus</th>\n",
       "      <td>John</td>\n",
       "    </tr>\n",
       "    <tr>\n",
       "      <th>Name - Speaking</th>\n",
       "      <td>NaN</td>\n",
       "    </tr>\n",
       "    <tr>\n",
       "      <th>Location</th>\n",
       "      <td>John's Room</td>\n",
       "    </tr>\n",
       "    <tr>\n",
       "      <th>Camera Angle</th>\n",
       "      <td>Medium</td>\n",
       "    </tr>\n",
       "    <tr>\n",
       "      <th>Music Presence</th>\n",
       "      <td>No</td>\n",
       "    </tr>\n",
       "    <tr>\n",
       "      <th>Words on Screen</th>\n",
       "      <td>NaN</td>\n",
       "    </tr>\n",
       "  </tbody>\n",
       "</table></td></tr></table>"
      ],
      "text/plain": [
       "<IPython.core.display.HTML object>"
      ]
     },
     "metadata": {},
     "output_type": "display_data"
    }
   ],
   "source": [
    "_vid_samples = {i: video_text.loc[i, 'Scene Details - A Level ':'Words on Screen '].to_frame(name='')\n",
    "                for i in range(9, 13)}\n",
    "multicol_display(*_vid_samples.values(), \n",
    "                 caption=\"<i>A Study in Pink</i> sample annotations\",\n",
    "                 col_headers=(f\"Annotation {i}\" for i in _vid_samples.keys()),\n",
    "                 ncols=4)"
   ]
  },
  {
   "cell_type": "code",
   "execution_count": 9,
   "metadata": {
    "scrolled": true
   },
   "outputs": [
    {
     "data": {
      "text/html": [
       "<table style=width:100%;border:0px;margin-left:auto;margin-right:auto><caption style=color:unset;text-align:center;font-size:2em;font-weight:bold>Sample recall transcripts</caption><th style=border:0px;font-size:16px;text-align:center>P11</th><th style=border:0px;font-size:16px;text-align:center>P13</th><th style=border:0px;font-size:16px;text-align:center>P15</th><th style=border:0px;font-size:16px;text-align:center>P17</th><tr style=border:0px><td style=border:0px;width:25.0%;vertical-align:top;font-size:14px;text-align:left>So the show starts with Watson dreaming, or like reliving his time in the military. Starts with the battlefield and he's on it. And there are shots being fired and its pretty green. He's in an army uniform. And he wakes up in a room on a bed. And I think he gets up and walks around. And like brushing his teeth or something, or like checks his computer. And then, I think gets like the intro scene, ...</td><td style=border:0px;width:25.0%;vertical-align:top;font-size:14px;text-align:left>So before the episode began, there's the cartoon for a movie theater specifically to get people to get snacks in the lobby. So there's a jingle, everyone go to the lobby and get ourselves a treat. And said the sparkling drinks are neat, then there's chocolate candy bars and popcorn. And there's a picture of the popcorn and a picture of the--well first it started off with life-size versions of the ...</td><td style=border:0px;width:25.0%;vertical-align:top;font-size:14px;text-align:left>Okay um so.. the story starts out with.. scenes of people killing themselves. The suicide shots, it appears that they're all killing themselves in a similar fashion, by taking pills. They seem kinda like they're compelled to do it, almost like they're fighting themselves. There's a scene with a boy doing it after he's split up with his friend in the street. Yeah so then there's a scene with a dete...</td><td style=border:0px;width:25.0%;vertical-align:top;font-size:14px;text-align:left>So it began with Watson being sort of like in a battlefield and we get a bunch of shots of people getting shot at and then he, after a few seconds he wakes up all in a sweat, it seems like at night. And then it fades, and then we see him just sitting in his apartment. It kind of even looked like a hotel room I don't know. He's just sitting there. And then we see a cane in the shot, and he's kind o...</td></tr></table>"
      ],
      "text/plain": [
       "<IPython.core.display.HTML object>"
      ]
     },
     "metadata": {},
     "output_type": "display_data"
    }
   ],
   "source": [
    "_rec_samples = {f'P{p}': f\"{RAW_DIR.joinpath(f'NN{p} transcript.txt').read_text()[:400]}...\" \n",
    "                for p in (11, 13, 15, 17)}\n",
    "multicol_display(*_rec_samples.values(), \n",
    "                 caption=\"Sample recall transcripts\",\n",
    "                 col_headers=_rec_samples.keys(), \n",
    "                 ncols=4,\n",
    "                 cell_css={'text-align': 'left'})"
   ]
  },
  {
   "cell_type": "markdown",
   "metadata": {},
   "source": [
    "## Fit topic model to manually-annotated movie"
   ]
  },
  {
   "cell_type": "code",
   "execution_count": 10,
   "metadata": {
    "ExecuteTime": {
     "end_time": "2019-11-20T22:57:52.952525Z",
     "start_time": "2019-11-20T22:57:29.462076Z"
    },
    "collapsed": true
   },
   "outputs": [],
   "source": [
    "# create a list of text samples from the scene descriptions / details to train the topic model\n",
    "video = video_text.loc[:,'Scene Details - A Level ':'Words on Screen '].apply(format_text, axis=1).tolist()\n",
    "video_windows, window_bounds = parse_windows(video, VIDEO_WSIZE)\n",
    "\n",
    "# create video model with hypertools\n",
    "video_model = hyp.tools.format_data(video_windows, \n",
    "                                    vectorizer=VECTORIZER_PARAMS, \n",
    "                                    semantic=SEMANTIC_PARAMS, \n",
    "                                    corpus=video_windows)[0]\n",
    "\n",
    "# description are by scene, not TR so stretch the model to be in TRs\n",
    "video_model_TRs = np.empty((1976, 100))\n",
    "xvals = get_video_timepoints(window_bounds, video_text)\n",
    "xvals_TR = xvals * 1976 / 2963\n",
    "TR_times = np.arange(1, 1977)\n",
    "interp_func = interp1d(xvals_TR, video_model, axis=0, fill_value='extrapolate')\n",
    "video_model_TRs = interp_func(TR_times)"
   ]
  },
  {
   "cell_type": "markdown",
   "metadata": {},
   "source": [
    "## Transform recalls"
   ]
  },
  {
   "cell_type": "code",
   "execution_count": 11,
   "metadata": {
    "ExecuteTime": {
     "end_time": "2019-11-20T23:09:47.284433Z",
     "start_time": "2019-11-20T23:09:47.225670Z"
    },
    "collapsed": true,
    "scrolled": true
   },
   "outputs": [],
   "source": [
    "# loop over subjects\n",
    "recall_w = []\n",
    "for sub in range(1, 18):\n",
    "    # load subject data\n",
    "    transcript_path = RAW_DIR.joinpath(f'NN{sub} transcript.txt')\n",
    "    with transcript_path.open(encoding='cp1252') as f:\n",
    "        recall = f.read().replace(b'\\x92'.decode('cp1252'), \"'\").strip()\n",
    "\n",
    "    # create overlapping windows of n sentences\n",
    "    recall_fmt = format_text(recall).split('.')\n",
    "    if not recall_fmt[-1]:\n",
    "        recall_fmt = recall_fmt[:-1]\n",
    "    sub_recall_w = parse_windows(recall_fmt, RECALL_WSIZE)[0]\n",
    "    recall_w.append(sub_recall_w)\n",
    "    \n",
    "    # save example participant's recall windows \n",
    "    if sub == 17:\n",
    "        np.save(DATA_DIR.joinpath('recall_text.npy'), sub_recall_w)\n",
    "    \n",
    "# create recall models\n",
    "recall_models = hyp.tools.format_data(recall_w, \n",
    "                                      vectorizer=VECTORIZER_PARAMS, \n",
    "                                      semantic=SEMANTIC_PARAMS, \n",
    "                                      corpus=video_windows)"
   ]
  },
  {
   "cell_type": "markdown",
   "metadata": {},
   "source": [
    "## Save video model, recall models, and text corpus"
   ]
  },
  {
   "cell_type": "code",
   "execution_count": 12,
   "metadata": {
    "ExecuteTime": {
     "end_time": "2019-11-18T19:13:28.479854Z",
     "start_time": "2019-11-18T19:13:28.244526Z"
    },
    "collapsed": true
   },
   "outputs": [],
   "source": [
    "n_topics = SEMANTIC_PARAMS['params'].get('n_components')\n",
    "np.save(DATA_DIR.joinpath(f'models_t{n_topics}_v{VIDEO_WSIZE}_r{RECALL_WSIZE}'), \n",
    "        [video_model_TRs, recall_models])\n",
    "np.save(DATA_DIR.joinpath('video_text.npy'), video_windows)"
   ]
  }
 ],
 "metadata": {
  "kernelspec": {
   "display_name": "Python 3",
   "language": "python",
   "name": "python3"
  },
  "language_info": {
   "codemirror_mode": {
    "name": "ipython",
    "version": 3
   },
   "file_extension": ".py",
   "mimetype": "text/x-python",
   "name": "python",
   "nbconvert_exporter": "python",
   "pygments_lexer": "ipython3",
   "version": "3.6.1"
  },
  "widgets": {
   "state": {},
   "version": "1.1.2"
  }
 },
 "nbformat": 4,
 "nbformat_minor": 2
}
