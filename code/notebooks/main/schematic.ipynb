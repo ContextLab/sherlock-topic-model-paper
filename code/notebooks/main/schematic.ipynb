{
 "cells": [
  {
   "cell_type": "markdown",
   "metadata": {},
   "source": [
    "This notebook contains code to reproduce the schematic analysis/figure"
   ]
  },
  {
   "cell_type": "code",
   "execution_count": 1,
   "metadata": {
    "collapsed": true
   },
   "outputs": [],
   "source": [
    "from os.path import join as opj\n",
    "import numpy as np\n",
    "import pandas as pd\n",
    "from scipy.spatial.distance import cdist\n",
    "import matplotlib as mpl\n",
    "import matplotlib.pyplot as plt\n",
    "import seaborn as sns\n",
    "\n",
    "mpl.rcParams['pdf.fonttype'] = 42\n",
    "sns.set_context('poster')\n",
    "%matplotlib inline"
   ]
  },
  {
   "cell_type": "code",
   "execution_count": 2,
   "metadata": {
    "collapsed": true
   },
   "outputs": [],
   "source": [
    "datadir = '../../../data/processed/'"
   ]
  },
  {
   "cell_type": "code",
   "execution_count": 3,
   "metadata": {
    "collapsed": true
   },
   "outputs": [],
   "source": [
    "video_model, recall_models = np.load(opj(datadir, 'models_t100_v50_r10.npy'), allow_pickle=True)\n",
    "video_text = pd.read_excel('../../../data/raw/Sherlock_Segments_1000_NN_2017.xlsx')\n",
    "recall_text = np.load(opj(datadir, 'recall_text.npy'))\n",
    "cv = np.load(opj(datadir, 'count_vectorizer_model.npy'), allow_pickle=True).item()\n",
    "tm = np.load(opj(datadir, 'topic_model.npy'), allow_pickle=True).item()"
   ]
  },
  {
   "cell_type": "code",
   "execution_count": 4,
   "metadata": {
    "collapsed": true
   },
   "outputs": [],
   "source": [
    "TR_onsets = video_text['Start Time (TRs, 1.5s)']\n",
    "TR_offsets = video_text['End Time (TRs, 1.5s)']\n",
    "\n",
    "recall_model = tm.transform(cv.transform(recall_text))"
   ]
  },
  {
   "cell_type": "code",
   "execution_count": 5,
   "metadata": {
    "collapsed": true
   },
   "outputs": [],
   "source": [
    "corrmat = 1 - cdist(video_model, recall_model, 'correlation')\n",
    "rng1 = np.linspace(0, corrmat.shape[0], 4).astype(int)\n",
    "rng2 = np.linspace(0, corrmat.shape[1], 4).astype(int)\n",
    "first = corrmat[rng1[0]:rng1[1], rng2[0]:rng2[1]]\n",
    "first_inds = np.unravel_index(np.argmax(first), first.shape)"
   ]
  },
  {
   "cell_type": "code",
   "execution_count": 6,
   "metadata": {
    "collapsed": true
   },
   "outputs": [],
   "source": [
    "first_vid = video_text.loc[(TR_onsets >= first_inds[0] - 24) & (TR_offsets <= first_inds[0] + 25), \n",
    "                           'Scene Details - A Level '].values\n",
    "\n",
    "first_rec = recall_text[first_inds[1]]"
   ]
  },
  {
   "cell_type": "code",
   "execution_count": 7,
   "metadata": {},
   "outputs": [
    {
     "name": "stdout",
     "output_type": "stream",
     "text": [
      "['Reporter 1  raises his hand and asks Lestrade: \"Detective Inspector, how can suicides be linked?\" '\n",
      " 'Lestrade answers: \"Well, they all took the same poison; um, they were all found in places they had no reason to be; none of them had shown any prior indication of…\"'\n",
      " 'Reporter 1 interrupts and states: \"But you can\\'t have serial suicides.\"'\n",
      " 'Lestrade replies: \"Well, apparently you can.\"'\n",
      " 'Reporter 2 asks: \"These three people, there\\'s nothing that links them?\"'\n",
      " 'Lestrade answers: \"There\\'s no link been found yet, but we\\'re looking for it. There has to be one.\"'\n",
      " \"Everyone's phones trill a text message alert at the same time. The reporters all check their phones. \"\n",
      " 'Lestrade and Donovan each look down at their phones'\n",
      " 'As the reporters look at their phones, each message reads: Wrong!There are cameramen at the back of the room as well. '\n",
      " 'Donovan looks down at her phone. '\n",
      " 'A closer look at the phone in Donovan\\'s hands which also shows a text message that says: \"Wrong!\"'\n",
      " 'Donovan looks up from her phone and says: \"If you\\'ve all got texts, please ignore them.\"'\n",
      " 'Reporter 1  says that \"It just says, \\'Wrong!\\'\" '\n",
      " 'Lestrade grimaces and looks uncomfortable as Donovan says: \"Yeah, well, just ignore that. Okay, if there are no more questions for Detective Inspector Lestrade…\" '\n",
      " 'Donovan continues: \"…I\\'m going to bring this session to an end.\" Lestrade remains silent and seated beside her. '\n",
      " 'Reporter 2 asks: \" But if they\\'re suicides, what are you investigating?\"'\n",
      " 'Lestrade answers with his hands together: \"As I say, these…these suicides are clearly linked. Um, it\\'s an…it\\'s an unusual situation. We\\'ve got our best people investigating…\"'\n",
      " \"Everyone's phones trill another text alert again. Everybody looks down at their phones, including the reporters and Lestrade. \"\n",
      " 'Once again, each message reads: Wrong!'\n",
      " 'Close up view of Lestrade\\'s phone. Reporter 1 says in the background: \"Says, \\'Wrong,\\' again.\"'\n",
      " 'Lestrade looks despairingly toward Donovan to his left. '\n",
      " 'Donovan states: \"One more question.\"'\n",
      " 'Reporter 3 asks \"Is there any chance that these are murders, and if they are, is this the work of a serial killer?\" '\n",
      " 'Lestrade replies: \"I…I know that you like wriitng about these, but these do appear to be suicides. We know the difference. The, um, poison, was clearly self-administered. \"']\n"
     ]
    }
   ],
   "source": [
    "print(first_vid)"
   ]
  },
  {
   "cell_type": "code",
   "execution_count": 8,
   "metadata": {},
   "outputs": [
    {
     "name": "stdout",
     "output_type": "stream",
     "text": [
      " well we get this press conference before that we get this press conference with the head of the police saying like we think oh no no we did get the third murder before the press conference  it was a woman i dont remember at the time who she was but    ok maybe ill go back to that  so then we get the press conference and the guy saying that he thinks that these suicides are linked and then a reporter says but how could suicides be linked that doesnt make any sense  and then the head detect the head of the sergeant or whatever says something like i dont know but were investigating it  then everyone in the room gets a text saying wrong and everyone kind of confused about it and he said the woman beside him said if you just got a text please ignore it  and then everyone asking more questions and then the sergeant says something that apparently sherlock holmes thinks is wrong because they all get a text saying it wrong again  so then i believe that when we go to a scene of watson walking through a park and he is well i dont know where he was goig but he just walking and he sees his old friend\n"
     ]
    }
   ],
   "source": [
    "print(first_rec)"
   ]
  },
  {
   "cell_type": "code",
   "execution_count": 9,
   "metadata": {
    "collapsed": true
   },
   "outputs": [],
   "source": [
    "second = corrmat[rng1[1]:rng1[2], rng2[1]:rng2[2]]\n",
    "second_inds = tuple(np.array(np.unravel_index(np.argmax(second), second.shape)) \n",
    "                    + np.array(first.shape))"
   ]
  },
  {
   "cell_type": "code",
   "execution_count": 10,
   "metadata": {
    "collapsed": true,
    "scrolled": true
   },
   "outputs": [],
   "source": [
    "second_vid = video_text.loc[(TR_onsets >= second_inds[0] - 24) & (TR_offsets <= second_inds[0] + 25), \n",
    "                           'Scene Details - A Level '].values\n",
    "\n",
    "second_rec = recall_text[second_inds[1]]"
   ]
  },
  {
   "cell_type": "code",
   "execution_count": 11,
   "metadata": {
    "scrolled": true
   },
   "outputs": [
    {
     "name": "stdout",
     "output_type": "stream",
     "text": [
      "['Sherlock closely inspects the delivate gold bracelet on her left wrist: clean'\n",
      " 'Sherlock leans a little closer to see her gold earring attached to her left ear: clean'\n",
      " 'Sherlock also takes a look at the gold chain around her neck: clean'\n",
      " \"Sherlock puts his magnifying glass closer toward the victim's left hand to look at her rings. \"\n",
      " 'A view of the wedding ring and engagement ring flag a different message to Sherlock: dirty'\n",
      " 'Sherlock blinks as a rapid succession of conclusions appear in front of his eyes'\n",
      " 'Back to a view of the rings. The conclusions Sherlock draw are: married, unhappily married, unhappily married 10+ years'\n",
      " 'John is keenly watching. He tilts his head left and right, wondering what Sherlock is doing. '\n",
      " \"Carefully Sherlock works the wedding ring off the woman's finger and holds it up to look at the inside of the ring. \"\n",
      " 'While the outside of the ring is still showing dirty, the inside registers as, clean'\n",
      " \"As Sherlock lowers the ring and slides it back onto the woman's finger, he has already reached a conclusion about the ring: regularly removed\"\n",
      " 'Lifting his hands away from the woman, he looks down at her and makes his final deduction about her. '\n",
      " \"A view of the woman's face on the floor. Sherlock's deduction serial adulterer appears next to her. \"\n",
      " 'Sherlock smiles slightly in satisfaction. '\n",
      " 'Lestrade breaks the silence and asks: \"Got anything?\"'\n",
      " 'Sherlock removes his gloves and stands up and nonchalantly replies: \"Not much.\" '\n",
      " 'Sherlock reaches into his coat pocket and gets his mobile phone. Someone\\'s voice is heard saying: \"She\\'s German.\"'\n",
      " 'Anderson, from where he is casually leaning against the doorway continues: \"\\'Rache\\': It\\'s German for \\'revenge\\'. She could be trying to tell us something…\" While he is speaking, Sherlock has walked quickly towards the door and now begins to close it in Anderson\\'s face. Sherlock is looking at something on his phone while walking. '\n",
      " 'Sherlock, while not taking his eyes of his phone, says sarcastically: \"Yes, thank you for your input\" then slams the door shut. He turns and walks back into the room. '\n",
      " 'John looks contemplative. In the background Lestrade asks: \"So she\\'s german?\"'\n",
      " 'Sherlock while speaking has called up a menu for UK weather on his phone. The menu offers five options: Maps, Local, Warnings, Next 24 Hours, 7 Day Forecast. He selects the Maps option. Sherlock, still looking at his phone, says: \"Of course she\\'s not. She\\'s from out of town, though. Intended to stay in London for one night....\" Sherlock smiles smugly when he apparently finds the information he needed from his phone. He continues: \"...before returning to Cardiff\" He then pockets his phone. '\n",
      " 'John is looking a little confused, lost in his thoughts, when Sherlock says: \"So far, so obvious.\" '\n",
      " 'John incredulously asks: \"Sorry - obvious?\"'\n",
      " 'Lestrade asks: \"What about the message, though?\"'\n",
      " 'Sherlock ignores Lestrade, looks at John and asks: \"Doctor Watson, what do you think?\"'\n",
      " 'John looks round at Lestrade, then at Sherlock and asks: \"Of the message?\"'\n",
      " 'Sherlock: \"Of the body. You\\'re a medical man.\"'\n",
      " 'Lestrade interjects: \"Wait, no, we have a whole team right outside.\"'\n",
      " 'Sherlock replies: \"They won\\'t work with me.\"'\n",
      " 'Cut to John awkwardly staying silent during the conversation between Sherlock and Lestrade'\n",
      " 'Lestrade says: \"I\\'m breaking every rule letting you in here.\"'\n",
      " 'Sherlock states confidently: \"Yes…because you need me.\" '\n",
      " 'John quickly turns round to Lestrade to see his reaction'\n",
      " 'Lestrade stares at him for a moment with his mouth ready to defend himself, then he lowers his eyes helplessly and says: \"Yes, I do. God help me.\"'\n",
      " 'Sherlock says: \"Doctor Watson.\"'\n",
      " 'John looks up from the body to Sherlock and says: \"Hm?\" Then he turns his head towards Lestrade, silently seeking his permission. '\n",
      " 'Lestrade, a little tetchily, says: \"Oh, do as he says. Help yourself\" He turns and opens the door, going outside. ']\n"
     ]
    }
   ],
   "source": [
    "print(second_vid)"
   ]
  },
  {
   "cell_type": "code",
   "execution_count": 12,
   "metadata": {},
   "outputs": [
    {
     "name": "stdout",
     "output_type": "stream",
     "text": [
      " it a wood floor  sherlock kinda notices that all her her painted pink nails are very messed up on her left hand so he looks and by her hand it says rache is spelled out as if she had scratched it on the floor  he think that well first there all these words on the screen saying it a german noun meaning revenge but then he says no it probably cause he just had just learned that her name was rachel wilson cause that what the sergeant had said  so then he deduces all these things like he feels her back of her suit and notices that it wet and it also very wet underneath her collar  but her umbrella is dry  and then he notices that he looks at all her jewelry and he has this little device that tells him if something is clean or dirty  and all of her jewelry like necklace her bracelet theyre all clean except for her wedding ring which the inside is clean but the outside dirty which he then think that that means she serial adulteress  because she always taking it off  but he thinks that someone had found out about it  so he figuring out all this stuff and then in the doorway we see anderson and he like oh rache means it a german word for revenge but then sherlock slams the door in his face\n"
     ]
    }
   ],
   "source": [
    "print(second_rec)"
   ]
  },
  {
   "cell_type": "code",
   "execution_count": 13,
   "metadata": {
    "collapsed": true
   },
   "outputs": [],
   "source": [
    "third = corrmat[rng1[2]:rng1[3], rng2[2]:rng2[3]]\n",
    "third_inds = tuple(np.array(np.unravel_index(np.argmax(third), third.shape)) \n",
    "                   + np.array(first.shape) \n",
    "                   + np.array(second.shape))"
   ]
  },
  {
   "cell_type": "code",
   "execution_count": 14,
   "metadata": {
    "collapsed": true
   },
   "outputs": [],
   "source": [
    "third_vid = video_text.loc[(TR_onsets >= third_inds[0] - 24) & (TR_offsets <= third_inds[0] + 25), \n",
    "                           'Scene Details - A Level '].values\n",
    "\n",
    "third_rec = recall_text[third_inds[1]]"
   ]
  },
  {
   "cell_type": "code",
   "execution_count": 15,
   "metadata": {
    "scrolled": true
   },
   "outputs": [
    {
     "name": "stdout",
     "output_type": "stream",
     "text": [
      "['Later, John opens the door to his bedsit, walks in, switches on the light, and closes the door behind him. '\n",
      " 'John walks toward his desk, looking around to his right. '\n",
      " 'John opens his desk drawer. '\n",
      " 'John takes out his pistol from the drawer. John checks the clip of the gun. '\n",
      " 'John tucks the gun into the back of his waistband of his jeans and turns to leave again. '\n",
      " 'Later, the car pulls up outside of 221B Baker Street. '\n",
      " 'Inside the car, Anthea is still fixated on her phone. John looks across the her and says: \"Listen, your boss - any chance you could not tell him this is where I went?\"'\n",
      " 'Anthea nonchalantly says: \"Sure.\"'\n",
      " 'John: \"You\\'ve told him already, haven\\'t you?\"'\n",
      " 'Anthea smiles across to him briefly then says: \"Yeah.\" John nods in resignation. '\n",
      " 'John turns to get out of the car, but just as he opens the door, he turns back to her and asks: \"Hey, um… do you ever get any free time?\"'\n",
      " 'Anthea smiles while typing on her phone, and sarcastically says: \"Oh yeah, lots.\"'\n",
      " 'John smiles and looks at her, waiting expectantly. She continues working on her phone for a long moment. '\n",
      " 'Anthea turns and looks at him before allowing her gaze to drift past him to the door of 221B. She says: \"Bye.\" Indicating that John should leave. '\n",
      " 'John says: \"Okay\" then he gets out of the car. '\n",
      " 'John gets out of the car onto the street.  '\n",
      " 'The car drives away and John walks across the pavement to the front door of 221 B. '\n",
      " 'John knocks on the door. '\n",
      " 'Side panning view of Sherlock. Upstairs in the living room of the flat, Sherlock is lying stretched out on the sofa with his head towards the window and resting on a cushion. His jacket is off and his shirt sleeves are unbuttoned and pushes up his arms. He has his eyes closed and he is pressing the palm of his right hand firmly onto the underside of his left arm, just below the elbow. ']\n"
     ]
    }
   ],
   "source": [
    "print(third_vid)"
   ]
  },
  {
   "cell_type": "code",
   "execution_count": 16,
   "metadata": {},
   "outputs": [
    {
     "name": "stdout",
     "output_type": "stream",
     "text": [
      " that i offered you money to spy on him basically  ok so then theyre in the car  he gets out of the car  or before he gets out of the car he says to the woman who now seated on the left hand side do you have any time free time  and she kinda smirks and says no does it seem like i have free time she always on her phone  so then he gets out and is back at 221 baker street b baker street and goes up in the room  and then that when we see ok yeah so he enters the room sherlock is just lying on the couch with three nicotine patches on his left arm  he thinking yeah he just been thinking  so then watson goes up to him and asks him what oh i forgot to mention this  because while he was talking to moriarty im assuming that the man name cause he hadnt introduced himself\n"
     ]
    }
   ],
   "source": [
    "print(third_rec)"
   ]
  },
  {
   "cell_type": "code",
   "execution_count": 17,
   "metadata": {},
   "outputs": [
    {
     "data": {
      "text/html": [
       "<div>\n",
       "<style scoped>\n",
       "    .dataframe tbody tr th:only-of-type {\n",
       "        vertical-align: middle;\n",
       "    }\n",
       "\n",
       "    .dataframe tbody tr th {\n",
       "        vertical-align: top;\n",
       "    }\n",
       "\n",
       "    .dataframe thead th {\n",
       "        text-align: right;\n",
       "    }\n",
       "</style>\n",
       "<table border=\"1\" class=\"dataframe\">\n",
       "  <thead>\n",
       "    <tr style=\"text-align: right;\">\n",
       "      <th></th>\n",
       "      <th>Topic weights</th>\n",
       "      <th>Condition</th>\n",
       "      <th>Timepoint</th>\n",
       "    </tr>\n",
       "  </thead>\n",
       "  <tbody>\n",
       "    <tr>\n",
       "      <th>0</th>\n",
       "      <td>0.917293</td>\n",
       "      <td>video</td>\n",
       "      <td>1</td>\n",
       "    </tr>\n",
       "    <tr>\n",
       "      <th>1</th>\n",
       "      <td>0.854667</td>\n",
       "      <td>video</td>\n",
       "      <td>2</td>\n",
       "    </tr>\n",
       "    <tr>\n",
       "      <th>2</th>\n",
       "      <td>0.859350</td>\n",
       "      <td>video</td>\n",
       "      <td>3</td>\n",
       "    </tr>\n",
       "    <tr>\n",
       "      <th>3</th>\n",
       "      <td>0.490501</td>\n",
       "      <td>recall</td>\n",
       "      <td>1</td>\n",
       "    </tr>\n",
       "    <tr>\n",
       "      <th>4</th>\n",
       "      <td>0.564550</td>\n",
       "      <td>recall</td>\n",
       "      <td>2</td>\n",
       "    </tr>\n",
       "    <tr>\n",
       "      <th>5</th>\n",
       "      <td>0.494765</td>\n",
       "      <td>recall</td>\n",
       "      <td>3</td>\n",
       "    </tr>\n",
       "  </tbody>\n",
       "</table>\n",
       "</div>"
      ],
      "text/plain": [
       "   Topic weights Condition  Timepoint\n",
       "0       0.917293     video          1\n",
       "1       0.854667     video          2\n",
       "2       0.859350     video          3\n",
       "3       0.490501    recall          1\n",
       "4       0.564550    recall          2\n",
       "5       0.494765    recall          3"
      ]
     },
     "execution_count": 17,
     "metadata": {},
     "output_type": "execute_result"
    }
   ],
   "source": [
    "first_topic_ind = np.argmax(video_model[first_inds[0]])\n",
    "t1_v = video_model[first_inds[0]][first_topic_ind]\n",
    "t1_r = recall_model[first_inds[1]][first_topic_ind]\n",
    "\n",
    "second_topic_ind = np.argmax(video_model[second_inds[0]])\n",
    "t2_v = video_model[second_inds[0]][second_topic_ind]\n",
    "t2_r = recall_model[second_inds[1]][second_topic_ind]\n",
    "\n",
    "third_topic_ind = np.argmax(video_model[third_inds[0]])\n",
    "t3_v = video_model[third_inds[0]][third_topic_ind]\n",
    "t3_r = recall_model[third_inds[1]][third_topic_ind]\n",
    "\n",
    "df = pd.DataFrame([t1_v, t2_v, t3_v, t1_r, t2_r, t3_r], columns=['Topic weights'])\n",
    "df['Condition']=['video'] * 3 + ['recall'] * 3\n",
    "df['Timepoint']=[1, 2, 3, 1, 2, 3]\n",
    "df"
   ]
  },
  {
   "cell_type": "code",
   "execution_count": 18,
   "metadata": {},
   "outputs": [
    {
     "data": {
      "text/html": [
       "<div>\n",
       "<style scoped>\n",
       "    .dataframe tbody tr th:only-of-type {\n",
       "        vertical-align: middle;\n",
       "    }\n",
       "\n",
       "    .dataframe tbody tr th {\n",
       "        vertical-align: top;\n",
       "    }\n",
       "\n",
       "    .dataframe thead th {\n",
       "        text-align: right;\n",
       "    }\n",
       "</style>\n",
       "<table border=\"1\" class=\"dataframe\">\n",
       "  <thead>\n",
       "    <tr style=\"text-align: right;\">\n",
       "      <th></th>\n",
       "      <th>Topic weight</th>\n",
       "      <th>Condition</th>\n",
       "      <th>Time</th>\n",
       "      <th>Topic</th>\n",
       "    </tr>\n",
       "  </thead>\n",
       "  <tbody>\n",
       "    <tr>\n",
       "      <th>0</th>\n",
       "      <td>0.917293</td>\n",
       "      <td>Video</td>\n",
       "      <td>TR 265</td>\n",
       "      <td>65</td>\n",
       "    </tr>\n",
       "    <tr>\n",
       "      <th>1</th>\n",
       "      <td>0.490501</td>\n",
       "      <td>Recall</td>\n",
       "      <td>TR 265</td>\n",
       "      <td>65</td>\n",
       "    </tr>\n",
       "    <tr>\n",
       "      <th>2</th>\n",
       "      <td>0.000010</td>\n",
       "      <td>Video</td>\n",
       "      <td>TR 265</td>\n",
       "      <td>9</td>\n",
       "    </tr>\n",
       "    <tr>\n",
       "      <th>3</th>\n",
       "      <td>0.036392</td>\n",
       "      <td>Recall</td>\n",
       "      <td>TR 265</td>\n",
       "      <td>9</td>\n",
       "    </tr>\n",
       "    <tr>\n",
       "      <th>4</th>\n",
       "      <td>0.000010</td>\n",
       "      <td>Video</td>\n",
       "      <td>TR 265</td>\n",
       "      <td>68</td>\n",
       "    </tr>\n",
       "    <tr>\n",
       "      <th>5</th>\n",
       "      <td>0.000127</td>\n",
       "      <td>Recall</td>\n",
       "      <td>TR 265</td>\n",
       "      <td>68</td>\n",
       "    </tr>\n",
       "    <tr>\n",
       "      <th>6</th>\n",
       "      <td>0.000009</td>\n",
       "      <td>Video</td>\n",
       "      <td>TR 1081</td>\n",
       "      <td>65</td>\n",
       "    </tr>\n",
       "    <tr>\n",
       "      <th>7</th>\n",
       "      <td>0.000137</td>\n",
       "      <td>Recall</td>\n",
       "      <td>TR 1081</td>\n",
       "      <td>65</td>\n",
       "    </tr>\n",
       "    <tr>\n",
       "      <th>8</th>\n",
       "      <td>0.854667</td>\n",
       "      <td>Video</td>\n",
       "      <td>TR 1081</td>\n",
       "      <td>9</td>\n",
       "    </tr>\n",
       "    <tr>\n",
       "      <th>9</th>\n",
       "      <td>0.564550</td>\n",
       "      <td>Recall</td>\n",
       "      <td>TR 1081</td>\n",
       "      <td>9</td>\n",
       "    </tr>\n",
       "    <tr>\n",
       "      <th>10</th>\n",
       "      <td>0.000009</td>\n",
       "      <td>Video</td>\n",
       "      <td>TR 1081</td>\n",
       "      <td>68</td>\n",
       "    </tr>\n",
       "    <tr>\n",
       "      <th>11</th>\n",
       "      <td>0.000137</td>\n",
       "      <td>Recall</td>\n",
       "      <td>TR 1081</td>\n",
       "      <td>68</td>\n",
       "    </tr>\n",
       "    <tr>\n",
       "      <th>12</th>\n",
       "      <td>0.000011</td>\n",
       "      <td>Video</td>\n",
       "      <td>TR 1715</td>\n",
       "      <td>65</td>\n",
       "    </tr>\n",
       "    <tr>\n",
       "      <th>13</th>\n",
       "      <td>0.000164</td>\n",
       "      <td>Recall</td>\n",
       "      <td>TR 1715</td>\n",
       "      <td>65</td>\n",
       "    </tr>\n",
       "    <tr>\n",
       "      <th>14</th>\n",
       "      <td>0.000011</td>\n",
       "      <td>Video</td>\n",
       "      <td>TR 1715</td>\n",
       "      <td>9</td>\n",
       "    </tr>\n",
       "    <tr>\n",
       "      <th>15</th>\n",
       "      <td>0.000164</td>\n",
       "      <td>Recall</td>\n",
       "      <td>TR 1715</td>\n",
       "      <td>9</td>\n",
       "    </tr>\n",
       "    <tr>\n",
       "      <th>16</th>\n",
       "      <td>0.859350</td>\n",
       "      <td>Video</td>\n",
       "      <td>TR 1715</td>\n",
       "      <td>68</td>\n",
       "    </tr>\n",
       "    <tr>\n",
       "      <th>17</th>\n",
       "      <td>0.494765</td>\n",
       "      <td>Recall</td>\n",
       "      <td>TR 1715</td>\n",
       "      <td>68</td>\n",
       "    </tr>\n",
       "  </tbody>\n",
       "</table>\n",
       "</div>"
      ],
      "text/plain": [
       "    Topic weight Condition     Time Topic\n",
       "0       0.917293     Video   TR 265    65\n",
       "1       0.490501    Recall   TR 265    65\n",
       "2       0.000010     Video   TR 265     9\n",
       "3       0.036392    Recall   TR 265     9\n",
       "4       0.000010     Video   TR 265    68\n",
       "5       0.000127    Recall   TR 265    68\n",
       "6       0.000009     Video  TR 1081    65\n",
       "7       0.000137    Recall  TR 1081    65\n",
       "8       0.854667     Video  TR 1081     9\n",
       "9       0.564550    Recall  TR 1081     9\n",
       "10      0.000009     Video  TR 1081    68\n",
       "11      0.000137    Recall  TR 1081    68\n",
       "12      0.000011     Video  TR 1715    65\n",
       "13      0.000164    Recall  TR 1715    65\n",
       "14      0.000011     Video  TR 1715     9\n",
       "15      0.000164    Recall  TR 1715     9\n",
       "16      0.859350     Video  TR 1715    68\n",
       "17      0.494765    Recall  TR 1715    68"
      ]
     },
     "execution_count": 18,
     "metadata": {},
     "output_type": "execute_result"
    }
   ],
   "source": [
    "inds = [first_inds, second_inds, third_inds]\n",
    "topic_inds = [first_topic_ind, second_topic_ind, third_topic_ind]\n",
    "TR_tpts = [first_inds[0], second_inds[0], third_inds[0]]\n",
    "\n",
    "data = []\n",
    "for (v_ind, r_ind) in inds:\n",
    "    for tinds in topic_inds:\n",
    "        data.append([video_model[v_ind][tinds], recall_model[r_ind][tinds]])\n",
    "data = np.array(data).ravel()\n",
    "df = pd.DataFrame(data, columns=['Topic weight'])\n",
    "df['Condition'] = ['Video', 'Recall'] * 9\n",
    "df['Time'] = [f'TR {TR_tpts[0]}'] * 6 + [f'TR {TR_tpts[1]}'] * 6 + [f'TR {TR_tpts[2]}'] * 6\n",
    "df['Topic'] = ([str(topic_inds[0])] * 2 + [str(topic_inds[1])] * 2 + [str(topic_inds[2])] * 2) * 3\n",
    "df"
   ]
  },
  {
   "cell_type": "code",
   "execution_count": 19,
   "metadata": {},
   "outputs": [
    {
     "data": {
      "image/png": "[encoded data removed]",
      "text/plain": [
       "<Figure size 1442.06x360 with 3 Axes>"
      ]
     },
     "metadata": {},
     "output_type": "display_data"
    }
   ],
   "source": [
    "a = sns.catplot(x='Topic weight', \n",
    "                y='Topic', \n",
    "                data=df, \n",
    "                hue='Condition', \n",
    "                col='Time', \n",
    "                kind='bar', \n",
    "                orient='h', \n",
    "                aspect=1.2, \n",
    "                order=['9', '65', '68'], \n",
    "                hue_order=['Video', 'Recall'], \n",
    "                palette=[sns.color_palette()[0], sns.color_palette('bright')[2]], \n",
    "                sharey=False)\n",
    "\n",
    "leg = a.fig.legends[0]\n",
    "leg.set_title('')\n",
    "\n",
    "for ax in a.axes[0]:\n",
    "    ax.set_xlim(0,1)\n",
    "    labels = ['0', '', '', '', '', '1']\n",
    "    ax.set_xticklabels(labels)\n",
    "        \n",
    "# plt.savefig('/mnt/paper/figs/tmp/schematic_topic_weights.pdf')"
   ]
  },
  {
   "cell_type": "markdown",
   "metadata": {},
   "source": [
    "## Top words for topics"
   ]
  },
  {
   "cell_type": "code",
   "execution_count": 20,
   "metadata": {},
   "outputs": [
    {
     "name": "stdout",
     "output_type": "stream",
     "text": [
      "['lestrade' 'donovan' 'indoor' 'room' 'press' 'conference' 'police'\n",
      " 'reporter' 'medium' 'reporters']\n",
      "['sherlock' 'floor' 'room' 'crime' 'scene' 'lauriston' 'indoor' 'gardens'\n",
      " 'john' 'yes']\n",
      "['john' 'medium' 'anthea' 'yes' 'indoor' 'street' 'baker' 'sherlock'\n",
      " 'outdoor' 'man']\n"
     ]
    }
   ],
   "source": [
    "print(np.array(cv.get_feature_names())[np.argsort(tm.components_[topic_inds[0]])][::-1][:10])\n",
    "print(np.array(cv.get_feature_names())[np.argsort(tm.components_[topic_inds[1]])][::-1][:10])\n",
    "print(np.array(cv.get_feature_names())[np.argsort(tm.components_[topic_inds[2]])][::-1][:10])"
   ]
  }
 ],
 "metadata": {
  "kernelspec": {
   "display_name": "Python 3",
   "language": "python",
   "name": "python3"
  },
  "language_info": {
   "codemirror_mode": {
    "name": "ipython",
    "version": 3
   },
   "file_extension": ".py",
   "mimetype": "text/x-python",
   "name": "python",
   "nbconvert_exporter": "python",
   "pygments_lexer": "ipython3",
   "version": "3.6.1"
  }
 },
 "nbformat": 4,
 "nbformat_minor": 2
}
