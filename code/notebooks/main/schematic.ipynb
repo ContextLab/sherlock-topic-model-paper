{
 "cells": [
  {
   "cell_type": "markdown",
   "metadata": {},
   "source": [
    "This notebook contains code to reproduce the schematic analysis/figure"
   ]
  },
  {
   "cell_type": "markdown",
   "metadata": {},
   "source": [
    "## Imports"
   ]
  },
  {
   "cell_type": "code",
   "execution_count": 1,
   "metadata": {},
   "outputs": [
    {
     "data": {
      "text/markdown": [
       "Helper functions and variables used across multiple notebooks can be found in `/mnt/code/sherlock_helpers/sherlock_helpers`, or on GitHub, [here](https://github.com/ContextLab/sherlock-topic-model-paper/tree/master/code/sherlock_helpers).<br />You can also view source code directly from the notebook with:<br /><pre>    from sherlock_helpers.functions import show_source<br />    show_source(foo)</pre>"
      ],
      "text/plain": [
       "<IPython.core.display.Markdown object>"
      ]
     },
     "metadata": {},
     "output_type": "display_data"
    }
   ],
   "source": [
    "import numpy as np\n",
    "import pandas as pd\n",
    "from scipy.spatial.distance import cdist\n",
    "\n",
    "from sherlock_helpers.constants import DATA_DIR, FIG_DIR, RAW_DIR\n",
    "from sherlock_helpers.functions import (\n",
    "    get_topic_words, \n",
    "    get_video_text, \n",
    "    multicol_display,\n",
    "    show_source\n",
    ")\n",
    "\n",
    "import matplotlib as mpl\n",
    "import matplotlib.pyplot as plt\n",
    "import seaborn as sns\n",
    "%matplotlib inline"
   ]
  },
  {
   "cell_type": "markdown",
   "metadata": {},
   "source": [
    "## Inspect some functions"
   ]
  },
  {
   "cell_type": "code",
   "execution_count": 2,
   "metadata": {},
   "outputs": [
    {
     "data": {
      "text/html": [
       "<div class=\"highlight\" style=\"background: #f8f8f8\"><pre style=\"line-height: 125%\"><span></span><span style=\"color: #008000; font-weight: bold\">def</span> <span style=\"color: #0000FF\">get_video_text</span>(onset, offset):\n",
       "    video_text <span style=\"color: #666666\">=</span> pd<span style=\"color: #666666\">.</span>read_excel(RAW_DIR<span style=\"color: #666666\">.</span>joinpath(<span style=\"color: #BA2121\">&#39;Sherlock_Segments_1000_NN_2017.xlsx&#39;</span>))\n",
       "    text_slice <span style=\"color: #666666\">=</span> video_text<span style=\"color: #666666\">.</span>loc[(video_text[<span style=\"color: #BA2121\">&#39;Start Time (TRs, 1.5s)&#39;</span>] <span style=\"color: #666666\">&gt;=</span> onset)\n",
       "                                <span style=\"color: #666666\">&amp;</span> (video_text[<span style=\"color: #BA2121\">&#39;End Time (TRs, 1.5s)&#39;</span>] <span style=\"color: #666666\">&lt;</span> offset),\n",
       "                                <span style=\"color: #BA2121\">&#39;Scene Details - A Level &#39;</span>]\n",
       "    <span style=\"color: #008000; font-weight: bold\">return</span> <span style=\"color: #BA2121\">&#39; &#39;</span><span style=\"color: #666666\">.</span>join(text_slice)\n",
       "</pre></div>\n"
      ],
      "text/plain": [
       "<IPython.core.display.HTML object>"
      ]
     },
     "execution_count": 2,
     "metadata": {},
     "output_type": "execute_result"
    }
   ],
   "source": [
    "show_source(get_video_text)"
   ]
  },
  {
   "cell_type": "code",
   "execution_count": 3,
   "metadata": {},
   "outputs": [
    {
     "data": {
      "text/html": [
       "<div class=\"highlight\" style=\"background: #f8f8f8\"><pre style=\"line-height: 125%\"><span></span><span style=\"color: #008000; font-weight: bold\">def</span> <span style=\"color: #0000FF\">get_topic_words</span>(cv, lda, topics<span style=\"color: #666666\">=</span><span style=\"color: #008000\">None</span>, n_words<span style=\"color: #666666\">=10</span>):\n",
       "    <span style=\"color: #008000; font-weight: bold\">if</span> topics <span style=\"color: #AA22FF; font-weight: bold\">is</span> <span style=\"color: #008000\">None</span>:\n",
       "        topics <span style=\"color: #666666\">=</span> np<span style=\"color: #666666\">.</span>arange(lda<span style=\"color: #666666\">.</span>components_<span style=\"color: #666666\">.</span>shape[<span style=\"color: #666666\">0</span>])\n",
       "    <span style=\"color: #008000; font-weight: bold\">elif</span> <span style=\"color: #008000\">isinstance</span>(topics, <span style=\"color: #008000\">int</span>):\n",
       "        topics <span style=\"color: #666666\">=</span> [topics]\n",
       "\n",
       "    topic_words <span style=\"color: #666666\">=</span> <span style=\"color: #008000\">dict</span>()\n",
       "    vocab <span style=\"color: #666666\">=</span> np<span style=\"color: #666666\">.</span>array(cv<span style=\"color: #666666\">.</span>get_feature_names())\n",
       "    <span style=\"color: #008000; font-weight: bold\">for</span> topic <span style=\"color: #AA22FF; font-weight: bold\">in</span> topics:\n",
       "        weights <span style=\"color: #666666\">=</span> lda<span style=\"color: #666666\">.</span>components_[topic]\n",
       "        word_ixs <span style=\"color: #666666\">=</span> np<span style=\"color: #666666\">.</span>argsort(weights)[::<span style=\"color: #666666\">-1</span>][:n_words]\n",
       "        topic_words[topic] <span style=\"color: #666666\">=</span> vocab[word_ixs]\n",
       "\n",
       "    <span style=\"color: #008000; font-weight: bold\">return</span> topic_words\n",
       "</pre></div>\n"
      ],
      "text/plain": [
       "<IPython.core.display.HTML object>"
      ]
     },
     "execution_count": 3,
     "metadata": {},
     "output_type": "execute_result"
    }
   ],
   "source": [
    "show_source(get_topic_words)"
   ]
  },
  {
   "cell_type": "markdown",
   "metadata": {},
   "source": [
    "## Set plotting params"
   ]
  },
  {
   "cell_type": "code",
   "execution_count": 4,
   "metadata": {
    "collapsed": true
   },
   "outputs": [],
   "source": [
    "mpl.rcParams['pdf.fonttype'] = 42\n",
    "sns.set_context('poster')\n",
    "palette = [sns.color_palette()[0], sns.color_palette('bright')[2]]"
   ]
  },
  {
   "cell_type": "markdown",
   "metadata": {
    "collapsed": true
   },
   "source": [
    "## Load data"
   ]
  },
  {
   "cell_type": "code",
   "execution_count": 5,
   "metadata": {
    "collapsed": true
   },
   "outputs": [],
   "source": [
    "video_text = pd.read_excel(RAW_DIR.joinpath('Sherlock_Segments_1000_NN_2017.xlsx'))\n",
    "recall_text = np.load(DATA_DIR.joinpath('recall_text.npy'))\n",
    "\n",
    "video_model, recall_models = np.load(DATA_DIR.joinpath('models_t100_v50_r10.npy'), \n",
    "                                     allow_pickle=True)\n",
    "\n",
    "cv = np.load(DATA_DIR.joinpath('count_vectorizer_model.npy'), allow_pickle=True).item()\n",
    "lda = np.load(DATA_DIR.joinpath('topic_model.npy'), allow_pickle=True).item()"
   ]
  },
  {
   "cell_type": "markdown",
   "metadata": {},
   "source": [
    "## Split video and recall into thirds"
   ]
  },
  {
   "cell_type": "code",
   "execution_count": 6,
   "metadata": {},
   "outputs": [],
   "source": [
    "p17_recall_model = recall_models[16]\n",
    "p17_vr_corrmat = 1 - cdist(video_model, p17_recall_model, 'correlation')\n",
    "\n",
    "video_thirds = np.linspace(0, video_model.shape[0], 4).astype(int)\n",
    "recall_thirds = np.linspace(0, p17_recall_model.shape[0], 4).astype(int)\n",
    "\n",
    "video_first = np.arange(video_thirds[0], video_thirds[1])\n",
    "video_second = np.arange(video_thirds[1], video_thirds[2])\n",
    "video_third = np.arange(video_thirds[2], video_thirds[3])\n",
    "\n",
    "recall_first = np.arange(recall_thirds[0], recall_thirds[1])\n",
    "recall_second = np.arange(recall_thirds[1], recall_thirds[2])\n",
    "recall_third = np.arange(recall_thirds[2], recall_thirds[3])"
   ]
  },
  {
   "cell_type": "markdown",
   "metadata": {},
   "source": [
    "## Find best matching timepoints from each third"
   ]
  },
  {
   "cell_type": "code",
   "execution_count": 7,
   "metadata": {
    "collapsed": true
   },
   "outputs": [],
   "source": [
    "corrmat_first = p17_vr_corrmat[np.ix_(video_first, recall_first)]\n",
    "corrmat_second = p17_vr_corrmat[np.ix_(video_second, recall_second)]\n",
    "corrmat_third = p17_vr_corrmat[np.ix_(video_third, recall_third)]\n",
    "\n",
    "video_tpt1, recall_tpt1 = np.unravel_index(corrmat_first.argmax(), corrmat_first.shape)\n",
    "\n",
    "video_tpt2, recall_tpt2 = np.unravel_index(corrmat_second.argmax(), corrmat_second.shape)\n",
    "video_tpt2 += video_thirds[1]\n",
    "recall_tpt2 += recall_thirds[1]\n",
    "\n",
    "video_tpt3, recall_tpt3 = np.unravel_index(corrmat_third.argmax(), corrmat_third.shape)\n",
    "video_tpt3 += video_thirds[2]\n",
    "recall_tpt3 += recall_thirds[2]"
   ]
  },
  {
   "cell_type": "markdown",
   "metadata": {},
   "source": [
    "## Get matching video and recall text"
   ]
  },
  {
   "cell_type": "code",
   "execution_count": 8,
   "metadata": {},
   "outputs": [],
   "source": [
    "video_chunk1 = get_video_text(video_tpt1 - 24, video_tpt1 + 25)\n",
    "recall_chunk1 = recall_text[recall_tpt1]\n",
    "\n",
    "video_chunk2 = get_video_text(video_tpt2 - 24, video_tpt2 + 25)\n",
    "recall_chunk2 = recall_text[recall_tpt2]\n",
    "\n",
    "video_chunk3 = get_video_text(video_tpt3 - 24, video_tpt3 + 25)\n",
    "recall_chunk3 = recall_text[recall_tpt3]"
   ]
  },
  {
   "cell_type": "code",
   "execution_count": 9,
   "metadata": {},
   "outputs": [
    {
     "name": "stdout",
     "output_type": "stream",
     "text": [
      "Reporter 1  raises his hand and asks Lestrade: \"Detective Inspector, how can suicides be linked?\"  Lestrade answers: \"Well, they all took the same poison; um, they were all found in places they had no reason to be; none of them had shown any prior indication of…\" Reporter 1 interrupts and states: \"But you can't have serial suicides.\" Lestrade replies: \"Well, apparently you can.\" Reporter 2 asks: \"These three people, there's nothing that links them?\" Lestrade answers: \"There's no link been found yet, but we're looking for it. There has to be one.\" Everyone's phones trill a text message alert at the same time. The reporters all check their phones.  Lestrade and Donovan each look down at their phones As the reporters look at their phones, each message reads: Wrong!There are cameramen at the back of the room as well.  Donovan looks down at her phone.  A closer look at the phone in Donovan's hands which also shows a text message that says: \"Wrong!\" Donovan looks up from her phone and says: \"If you've all got texts, please ignore them.\" Reporter 1  says that \"It just says, 'Wrong!'\"  Lestrade grimaces and looks uncomfortable as Donovan says: \"Yeah, well, just ignore that. Okay, if there are no more questions for Detective Inspector Lestrade…\"  Donovan continues: \"…I'm going to bring this session to an end.\" Lestrade remains silent and seated beside her.  Reporter 2 asks: \" But if they're suicides, what are you investigating?\" Lestrade answers with his hands together: \"As I say, these…these suicides are clearly linked. Um, it's an…it's an unusual situation. We've got our best people investigating…\" Everyone's phones trill another text alert again. Everybody looks down at their phones, including the reporters and Lestrade.  Once again, each message reads: Wrong! Close up view of Lestrade's phone. Reporter 1 says in the background: \"Says, 'Wrong,' again.\" Lestrade looks despairingly toward Donovan to his left.  Donovan states: \"One more question.\" Reporter 3 asks \"Is there any chance that these are murders, and if they are, is this the work of a serial killer?\"  Lestrade replies: \"I…I know that you like wriitng about these, but these do appear to be suicides. We know the difference. The, um, poison, was clearly self-administered. \"\n"
     ]
    }
   ],
   "source": [
    "print(video_chunk1)"
   ]
  },
  {
   "cell_type": "code",
   "execution_count": 10,
   "metadata": {},
   "outputs": [
    {
     "name": "stdout",
     "output_type": "stream",
     "text": [
      " well we get this press conference before that we get this press conference with the head of the police saying like we think oh no no we did get the third murder before the press conference  it was a woman i dont remember at the time who she was but    ok maybe ill go back to that  so then we get the press conference and the guy saying that he thinks that these suicides are linked and then a reporter says but how could suicides be linked that doesnt make any sense  and then the head detect the head of the sergeant or whatever says something like i dont know but were investigating it  then everyone in the room gets a text saying wrong and everyone kind of confused about it and he said the woman beside him said if you just got a text please ignore it  and then everyone asking more questions and then the sergeant says something that apparently sherlock holmes thinks is wrong because they all get a text saying it wrong again  so then i believe that when we go to a scene of watson walking through a park and he is well i dont know where he was goig but he just walking and he sees his old friend\n"
     ]
    }
   ],
   "source": [
    "print(recall_chunk1)"
   ]
  },
  {
   "cell_type": "code",
   "execution_count": 11,
   "metadata": {
    "scrolled": false
   },
   "outputs": [
    {
     "name": "stdout",
     "output_type": "stream",
     "text": [
      "Sherlock closely inspects the delivate gold bracelet on her left wrist: clean Sherlock leans a little closer to see her gold earring attached to her left ear: clean Sherlock also takes a look at the gold chain around her neck: clean Sherlock puts his magnifying glass closer toward the victim's left hand to look at her rings.  A view of the wedding ring and engagement ring flag a different message to Sherlock: dirty Sherlock blinks as a rapid succession of conclusions appear in front of his eyes Back to a view of the rings. The conclusions Sherlock draw are: married, unhappily married, unhappily married 10+ years John is keenly watching. He tilts his head left and right, wondering what Sherlock is doing.  Carefully Sherlock works the wedding ring off the woman's finger and holds it up to look at the inside of the ring.  While the outside of the ring is still showing dirty, the inside registers as, clean As Sherlock lowers the ring and slides it back onto the woman's finger, he has already reached a conclusion about the ring: regularly removed Lifting his hands away from the woman, he looks down at her and makes his final deduction about her.  A view of the woman's face on the floor. Sherlock's deduction serial adulterer appears next to her.  Sherlock smiles slightly in satisfaction.  Lestrade breaks the silence and asks: \"Got anything?\" Sherlock removes his gloves and stands up and nonchalantly replies: \"Not much.\"  Sherlock reaches into his coat pocket and gets his mobile phone. Someone's voice is heard saying: \"She's German.\" Anderson, from where he is casually leaning against the doorway continues: \"'Rache': It's German for 'revenge'. She could be trying to tell us something…\" While he is speaking, Sherlock has walked quickly towards the door and now begins to close it in Anderson's face. Sherlock is looking at something on his phone while walking.  Sherlock, while not taking his eyes of his phone, says sarcastically: \"Yes, thank you for your input\" then slams the door shut. He turns and walks back into the room.  John looks contemplative. In the background Lestrade asks: \"So she's german?\" Sherlock while speaking has called up a menu for UK weather on his phone. The menu offers five options: Maps, Local, Warnings, Next 24 Hours, 7 Day Forecast. He selects the Maps option. Sherlock, still looking at his phone, says: \"Of course she's not. She's from out of town, though. Intended to stay in London for one night....\" Sherlock smiles smugly when he apparently finds the information he needed from his phone. He continues: \"...before returning to Cardiff\" He then pockets his phone.  John is looking a little confused, lost in his thoughts, when Sherlock says: \"So far, so obvious.\"  John incredulously asks: \"Sorry - obvious?\" Lestrade asks: \"What about the message, though?\" Sherlock ignores Lestrade, looks at John and asks: \"Doctor Watson, what do you think?\" John looks round at Lestrade, then at Sherlock and asks: \"Of the message?\" Sherlock: \"Of the body. You're a medical man.\" Lestrade interjects: \"Wait, no, we have a whole team right outside.\" Sherlock replies: \"They won't work with me.\" Cut to John awkwardly staying silent during the conversation between Sherlock and Lestrade Lestrade says: \"I'm breaking every rule letting you in here.\" Sherlock states confidently: \"Yes…because you need me.\"  John quickly turns round to Lestrade to see his reaction Lestrade stares at him for a moment with his mouth ready to defend himself, then he lowers his eyes helplessly and says: \"Yes, I do. God help me.\" Sherlock says: \"Doctor Watson.\" John looks up from the body to Sherlock and says: \"Hm?\" Then he turns his head towards Lestrade, silently seeking his permission.  Lestrade, a little tetchily, says: \"Oh, do as he says. Help yourself\" He turns and opens the door, going outside. \n"
     ]
    }
   ],
   "source": [
    "print(video_chunk2)"
   ]
  },
  {
   "cell_type": "code",
   "execution_count": 12,
   "metadata": {
    "scrolled": false
   },
   "outputs": [
    {
     "name": "stdout",
     "output_type": "stream",
     "text": [
      " it a wood floor  sherlock kinda notices that all her her painted pink nails are very messed up on her left hand so he looks and by her hand it says rache is spelled out as if she had scratched it on the floor  he think that well first there all these words on the screen saying it a german noun meaning revenge but then he says no it probably cause he just had just learned that her name was rachel wilson cause that what the sergeant had said  so then he deduces all these things like he feels her back of her suit and notices that it wet and it also very wet underneath her collar  but her umbrella is dry  and then he notices that he looks at all her jewelry and he has this little device that tells him if something is clean or dirty  and all of her jewelry like necklace her bracelet theyre all clean except for her wedding ring which the inside is clean but the outside dirty which he then think that that means she serial adulteress  because she always taking it off  but he thinks that someone had found out about it  so he figuring out all this stuff and then in the doorway we see anderson and he like oh rache means it a german word for revenge but then sherlock slams the door in his face\n"
     ]
    }
   ],
   "source": [
    "print(recall_chunk2)"
   ]
  },
  {
   "cell_type": "code",
   "execution_count": 13,
   "metadata": {
    "scrolled": true
   },
   "outputs": [
    {
     "name": "stdout",
     "output_type": "stream",
     "text": [
      "Later, John opens the door to his bedsit, walks in, switches on the light, and closes the door behind him.  John walks toward his desk, looking around to his right.  John opens his desk drawer.  John takes out his pistol from the drawer. John checks the clip of the gun.  John tucks the gun into the back of his waistband of his jeans and turns to leave again.  Later, the car pulls up outside of 221B Baker Street.  Inside the car, Anthea is still fixated on her phone. John looks across the her and says: \"Listen, your boss - any chance you could not tell him this is where I went?\" Anthea nonchalantly says: \"Sure.\" John: \"You've told him already, haven't you?\" Anthea smiles across to him briefly then says: \"Yeah.\" John nods in resignation.  John turns to get out of the car, but just as he opens the door, he turns back to her and asks: \"Hey, um… do you ever get any free time?\" Anthea smiles while typing on her phone, and sarcastically says: \"Oh yeah, lots.\" John smiles and looks at her, waiting expectantly. She continues working on her phone for a long moment.  Anthea turns and looks at him before allowing her gaze to drift past him to the door of 221B. She says: \"Bye.\" Indicating that John should leave.  John says: \"Okay\" then he gets out of the car.  John gets out of the car onto the street.   The car drives away and John walks across the pavement to the front door of 221 B.  John knocks on the door. \n"
     ]
    }
   ],
   "source": [
    "print(video_chunk3)"
   ]
  },
  {
   "cell_type": "code",
   "execution_count": 14,
   "metadata": {
    "scrolled": false
   },
   "outputs": [
    {
     "name": "stdout",
     "output_type": "stream",
     "text": [
      " that i offered you money to spy on him basically  ok so then theyre in the car  he gets out of the car  or before he gets out of the car he says to the woman who now seated on the left hand side do you have any time free time  and she kinda smirks and says no does it seem like i have free time she always on her phone  so then he gets out and is back at 221 baker street b baker street and goes up in the room  and then that when we see ok yeah so he enters the room sherlock is just lying on the couch with three nicotine patches on his left arm  he thinking yeah he just been thinking  so then watson goes up to him and asks him what oh i forgot to mention this  because while he was talking to moriarty im assuming that the man name cause he hadnt introduced himself\n"
     ]
    }
   ],
   "source": [
    "print(recall_chunk3)"
   ]
  },
  {
   "cell_type": "markdown",
   "metadata": {},
   "source": [
    "## Get video & recall topic weights for video's hightest weighted topic at each timepoint"
   ]
  },
  {
   "cell_type": "code",
   "execution_count": 15,
   "metadata": {
    "collapsed": true
   },
   "outputs": [],
   "source": [
    "video_tpts = [video_tpt1, video_tpt2, video_tpt3]\n",
    "recall_tpts = [recall_tpt1, recall_tpt2, recall_tpt3]\n",
    "\n",
    "topics = [video_model[tpt].argmax() for tpt in video_tpts]"
   ]
  },
  {
   "cell_type": "code",
   "execution_count": 16,
   "metadata": {
    "scrolled": true
   },
   "outputs": [],
   "source": [
    "df = pd.DataFrame(index=range(18), \n",
    "                  columns=['Time', 'Topic', 'Model', 'Topic weight'])\n",
    "\n",
    "row_ix = 0\n",
    "for vid_tpt, rec_tpt in zip(video_tpts, recall_tpts):\n",
    "    tr_tpt = f'TR {vid_tpt}'\n",
    "    for topic in topics:\n",
    "        topic_weight_vid = video_model[vid_tpt, topic]\n",
    "        topic_weight_rec = p17_recall_model[rec_tpt, topic]\n",
    "        df.loc[row_ix] = [tr_tpt, str(topic), 'Video', topic_weight_vid]\n",
    "        df.loc[row_ix + 1] = [tr_tpt, str(topic), 'Recall', topic_weight_rec]\n",
    "        row_ix += 2"
   ]
  },
  {
   "cell_type": "code",
   "execution_count": 17,
   "metadata": {
    "scrolled": true
   },
   "outputs": [
    {
     "data": {
      "text/html": [
       "<div>\n",
       "<style scoped>\n",
       "    .dataframe tbody tr th:only-of-type {\n",
       "        vertical-align: middle;\n",
       "    }\n",
       "\n",
       "    .dataframe tbody tr th {\n",
       "        vertical-align: top;\n",
       "    }\n",
       "\n",
       "    .dataframe thead th {\n",
       "        text-align: right;\n",
       "    }\n",
       "</style>\n",
       "<table border=\"1\" class=\"dataframe\">\n",
       "  <thead>\n",
       "    <tr style=\"text-align: right;\">\n",
       "      <th></th>\n",
       "      <th>Time</th>\n",
       "      <th>Topic</th>\n",
       "      <th>Model</th>\n",
       "      <th>Topic weight</th>\n",
       "    </tr>\n",
       "  </thead>\n",
       "  <tbody>\n",
       "    <tr>\n",
       "      <th>0</th>\n",
       "      <td>TR 265</td>\n",
       "      <td>65</td>\n",
       "      <td>Video</td>\n",
       "      <td>0.917293</td>\n",
       "    </tr>\n",
       "    <tr>\n",
       "      <th>1</th>\n",
       "      <td>TR 265</td>\n",
       "      <td>65</td>\n",
       "      <td>Recall</td>\n",
       "      <td>0.490501</td>\n",
       "    </tr>\n",
       "    <tr>\n",
       "      <th>2</th>\n",
       "      <td>TR 265</td>\n",
       "      <td>9</td>\n",
       "      <td>Video</td>\n",
       "      <td>9.99573e-06</td>\n",
       "    </tr>\n",
       "    <tr>\n",
       "      <th>3</th>\n",
       "      <td>TR 265</td>\n",
       "      <td>9</td>\n",
       "      <td>Recall</td>\n",
       "      <td>0.036392</td>\n",
       "    </tr>\n",
       "    <tr>\n",
       "      <th>4</th>\n",
       "      <td>TR 265</td>\n",
       "      <td>68</td>\n",
       "      <td>Video</td>\n",
       "      <td>9.99573e-06</td>\n",
       "    </tr>\n",
       "    <tr>\n",
       "      <th>5</th>\n",
       "      <td>TR 265</td>\n",
       "      <td>68</td>\n",
       "      <td>Recall</td>\n",
       "      <td>0.000126582</td>\n",
       "    </tr>\n",
       "    <tr>\n",
       "      <th>6</th>\n",
       "      <td>TR 1081</td>\n",
       "      <td>65</td>\n",
       "      <td>Video</td>\n",
       "      <td>9.15948e-06</td>\n",
       "    </tr>\n",
       "    <tr>\n",
       "      <th>7</th>\n",
       "      <td>TR 1081</td>\n",
       "      <td>65</td>\n",
       "      <td>Recall</td>\n",
       "      <td>0.000136986</td>\n",
       "    </tr>\n",
       "    <tr>\n",
       "      <th>8</th>\n",
       "      <td>TR 1081</td>\n",
       "      <td>9</td>\n",
       "      <td>Video</td>\n",
       "      <td>0.854667</td>\n",
       "    </tr>\n",
       "    <tr>\n",
       "      <th>9</th>\n",
       "      <td>TR 1081</td>\n",
       "      <td>9</td>\n",
       "      <td>Recall</td>\n",
       "      <td>0.56455</td>\n",
       "    </tr>\n",
       "    <tr>\n",
       "      <th>10</th>\n",
       "      <td>TR 1081</td>\n",
       "      <td>68</td>\n",
       "      <td>Video</td>\n",
       "      <td>9.15948e-06</td>\n",
       "    </tr>\n",
       "    <tr>\n",
       "      <th>11</th>\n",
       "      <td>TR 1081</td>\n",
       "      <td>68</td>\n",
       "      <td>Recall</td>\n",
       "      <td>0.000136986</td>\n",
       "    </tr>\n",
       "    <tr>\n",
       "      <th>12</th>\n",
       "      <td>TR 1715</td>\n",
       "      <td>65</td>\n",
       "      <td>Video</td>\n",
       "      <td>1.10414e-05</td>\n",
       "    </tr>\n",
       "    <tr>\n",
       "      <th>13</th>\n",
       "      <td>TR 1715</td>\n",
       "      <td>65</td>\n",
       "      <td>Recall</td>\n",
       "      <td>0.000163934</td>\n",
       "    </tr>\n",
       "    <tr>\n",
       "      <th>14</th>\n",
       "      <td>TR 1715</td>\n",
       "      <td>9</td>\n",
       "      <td>Video</td>\n",
       "      <td>1.10414e-05</td>\n",
       "    </tr>\n",
       "    <tr>\n",
       "      <th>15</th>\n",
       "      <td>TR 1715</td>\n",
       "      <td>9</td>\n",
       "      <td>Recall</td>\n",
       "      <td>0.000163934</td>\n",
       "    </tr>\n",
       "    <tr>\n",
       "      <th>16</th>\n",
       "      <td>TR 1715</td>\n",
       "      <td>68</td>\n",
       "      <td>Video</td>\n",
       "      <td>0.85935</td>\n",
       "    </tr>\n",
       "    <tr>\n",
       "      <th>17</th>\n",
       "      <td>TR 1715</td>\n",
       "      <td>68</td>\n",
       "      <td>Recall</td>\n",
       "      <td>0.494765</td>\n",
       "    </tr>\n",
       "  </tbody>\n",
       "</table>\n",
       "</div>"
      ],
      "text/plain": [
       "       Time Topic   Model Topic weight\n",
       "0    TR 265    65   Video     0.917293\n",
       "1    TR 265    65  Recall     0.490501\n",
       "2    TR 265     9   Video  9.99573e-06\n",
       "3    TR 265     9  Recall     0.036392\n",
       "4    TR 265    68   Video  9.99573e-06\n",
       "5    TR 265    68  Recall  0.000126582\n",
       "6   TR 1081    65   Video  9.15948e-06\n",
       "7   TR 1081    65  Recall  0.000136986\n",
       "8   TR 1081     9   Video     0.854667\n",
       "9   TR 1081     9  Recall      0.56455\n",
       "10  TR 1081    68   Video  9.15948e-06\n",
       "11  TR 1081    68  Recall  0.000136986\n",
       "12  TR 1715    65   Video  1.10414e-05\n",
       "13  TR 1715    65  Recall  0.000163934\n",
       "14  TR 1715     9   Video  1.10414e-05\n",
       "15  TR 1715     9  Recall  0.000163934\n",
       "16  TR 1715    68   Video      0.85935\n",
       "17  TR 1715    68  Recall     0.494765"
      ]
     },
     "execution_count": 17,
     "metadata": {},
     "output_type": "execute_result"
    }
   ],
   "source": [
    "df"
   ]
  },
  {
   "cell_type": "markdown",
   "metadata": {},
   "source": [
    "## Plot result"
   ]
  },
  {
   "cell_type": "code",
   "execution_count": 18,
   "metadata": {},
   "outputs": [
    {
     "data": {
      "image/png": "[encoded data removed]",
      "text/plain": [
       "<Figure size 1442.06x360 with 3 Axes>"
      ]
     },
     "metadata": {},
     "output_type": "display_data"
    }
   ],
   "source": [
    "g = sns.catplot(x='Topic weight', \n",
    "                y='Topic', \n",
    "                data=df, \n",
    "                hue='Model', \n",
    "                col='Time', \n",
    "                kind='bar', \n",
    "                orient='h', \n",
    "                aspect=1.2, \n",
    "                order=['9', '65', '68'], \n",
    "                hue_order=['Video', 'Recall'], \n",
    "                palette=palette, \n",
    "                sharey=False)\n",
    "\n",
    "g.fig.legends[0].set_title('')\n",
    "\n",
    "for ax in g.axes[0]:\n",
    "    ax.set_xlim(0,1)\n",
    "    ax.set_xticklabels(['0', '', '', '', '', '1'])\n",
    "        \n",
    "# plt.savefig('/mnt/paper/figs/tmp/schematic_topic_weights.pdf')"
   ]
  },
  {
   "cell_type": "markdown",
   "metadata": {},
   "source": [
    "## Get words with highest weights in each topic"
   ]
  },
  {
   "cell_type": "code",
   "execution_count": 19,
   "metadata": {
    "scrolled": false
   },
   "outputs": [
    {
     "data": {
      "text/html": [
       "<table style='width:50%;border:0px;margin-left:auto;margin-right:auto'><th style='border:0px;font-size:16px;text-align:center'>Topic 65</th><th style='border:0px;font-size:16px;text-align:center'>Topic 9</th><th style='border:0px;font-size:16px;text-align:center'>Topic 68</th><tr style='border:0px'><td style='border:0px;width:33.333333333333336%;vertical-align:top;font-size:14px;text-align:center;line-height:2.5em'>lestrade<br>donovan<br>indoor<br>room<br>press<br>conference<br>police<br>reporter<br>medium<br>reporters</td><td style='border:0px;width:33.333333333333336%;vertical-align:top;font-size:14px;text-align:center;line-height:2.5em'>sherlock<br>floor<br>room<br>crime<br>scene<br>lauriston<br>indoor<br>gardens<br>john<br>yes</td><td style='border:0px;width:33.333333333333336%;vertical-align:top;font-size:14px;text-align:center;line-height:2.5em'>john<br>medium<br>anthea<br>yes<br>indoor<br>street<br>baker<br>sherlock<br>outdoor<br>man</td></tr></table>"
      ],
      "text/plain": [
       "<IPython.core.display.HTML object>"
      ]
     },
     "metadata": {},
     "output_type": "display_data"
    }
   ],
   "source": [
    "topic_words = get_topic_words(cv, lda, topics=topics, n_words=10)\n",
    "\n",
    "multicol_display(*map('\\n'.join, topic_words.values()), \n",
    "                 ncols=3, \n",
    "                 col_headers=(f'Topic {t}' for t in topic_words.keys()),\n",
    "                 table_css={'width': '50%'},\n",
    "                 cell_css={'line-height': '2.5em'})"
   ]
  }
 ],
 "metadata": {
  "kernelspec": {
   "display_name": "Python 3",
   "language": "python",
   "name": "python3"
  },
  "language_info": {
   "codemirror_mode": {
    "name": "ipython",
    "version": 3
   },
   "file_extension": ".py",
   "mimetype": "text/x-python",
   "name": "python",
   "nbconvert_exporter": "python",
   "pygments_lexer": "ipython3",
   "version": "3.6.1"
  }
 },
 "nbformat": 4,
 "nbformat_minor": 2
}
