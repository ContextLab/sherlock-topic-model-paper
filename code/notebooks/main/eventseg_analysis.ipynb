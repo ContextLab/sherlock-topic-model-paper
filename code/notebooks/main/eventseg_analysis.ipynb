{
 "cells": [
  {
   "cell_type": "markdown",
   "metadata": {},
   "source": [
    "This notebook runs the event segmentation analyses."
   ]
  },
  {
   "cell_type": "markdown",
   "metadata": {},
   "source": [
    "## Import libraries"
   ]
  },
  {
   "cell_type": "code",
   "execution_count": 1,
   "metadata": {
    "ExecuteTime": {
     "end_time": "2018-10-06T22:53:10.618106Z",
     "start_time": "2018-10-06T22:53:10.583582Z"
    },
    "collapsed": true
   },
   "outputs": [],
   "source": [
    "import numpy as np\n",
    "import pandas as pd\n",
    "import brainiak.eventseg.event as event\n",
    "import hypertools as hyp\n",
    "import matplotlib.pyplot as plt\n",
    "import seaborn as sns\n",
    "from scipy.spatial.distance import cdist\n",
    "import pickle\n",
    "\n",
    "def score_model(mcorr, model, k, s):\n",
    "    i1, i2 = np.where(np.round(model.segments_[0])==1)\n",
    "    w = np.zeros_like(model.segments_[0])\n",
    "    w[i1,i2] = 1\n",
    "    w = np.dot(w, w.T).astype(bool)\n",
    "    return mcorr[w].mean()/mcorr[~w].mean() - k/s\n",
    "    \n",
    "def reduce_model(m, ev):\n",
    "    \"\"\"Reduce a model based on event labels\"\"\"\n",
    "    w = (np.round(ev.segments_[0])==1).astype(bool)\n",
    "    return np.array([m[wi, :].mean(0) for wi in w.T])\n",
    "\n",
    "%matplotlib inline"
   ]
  },
  {
   "cell_type": "markdown",
   "metadata": {},
   "source": [
    "## Setting paths"
   ]
  },
  {
   "cell_type": "code",
   "execution_count": 2,
   "metadata": {
    "ExecuteTime": {
     "end_time": "2018-10-06T22:52:58.331206Z",
     "start_time": "2018-10-06T22:52:58.327532Z"
    },
    "collapsed": true
   },
   "outputs": [],
   "source": [
    "datadir = '../../../data/processed/'"
   ]
  },
  {
   "cell_type": "markdown",
   "metadata": {},
   "source": [
    "## Load data"
   ]
  },
  {
   "cell_type": "code",
   "execution_count": 3,
   "metadata": {
    "ExecuteTime": {
     "end_time": "2018-10-06T22:52:58.382113Z",
     "start_time": "2018-10-06T22:52:58.334046Z"
    },
    "collapsed": true
   },
   "outputs": [],
   "source": [
    "video_model, recall_models = np.load(datadir+'models_t100_v50_r10.npy')"
   ]
  },
  {
   "cell_type": "markdown",
   "metadata": {},
   "source": [
    "## Find optimal k for video model"
   ]
  },
  {
   "cell_type": "code",
   "execution_count": 6,
   "metadata": {
    "ExecuteTime": {
     "end_time": "2018-10-06T23:12:43.245119Z",
     "start_time": "2018-10-06T22:53:50.522198Z"
    }
   },
   "outputs": [
    {
     "name": "stderr",
     "output_type": "stream",
     "text": [
      "/opt/conda/lib/python3.6/site-packages/ipykernel_launcher.py:9: RuntimeWarning: Mean of empty slice.\n",
      "  if __name__ == '__main__':\n"
     ]
    },
    {
     "name": "stdout",
     "output_type": "stream",
     "text": [
      "0 1\n",
      "1 2\n",
      "2 3\n",
      "3 4\n",
      "4 5\n",
      "5 6\n",
      "6 7\n",
      "7 8\n",
      "8 9\n",
      "9 10\n",
      "10 11\n",
      "11 12\n",
      "12 13\n",
      "13 14\n",
      "14 15\n",
      "15 16\n",
      "16 17\n",
      "17 18\n",
      "18 19\n",
      "19 20\n",
      "20 21\n",
      "21 22\n",
      "22 23\n",
      "23 24\n",
      "24 25\n",
      "25 26\n",
      "26 27\n",
      "27 28\n",
      "28 29\n",
      "29 30\n",
      "30 31\n",
      "31 32\n",
      "32 33\n",
      "33 34\n",
      "34 35\n",
      "35 36\n",
      "36 37\n",
      "37 38\n",
      "38 39\n",
      "39 40\n",
      "40 41\n",
      "41 42\n",
      "42 43\n",
      "43 44\n",
      "44 45\n",
      "45 46\n",
      "46 47\n",
      "47 48\n",
      "48 49\n",
      "49 50\n"
     ]
    }
   ],
   "source": [
    "m=[]\n",
    "corrmat = np.corrcoef(video_model)\n",
    "for i, events in enumerate(range(1, 51)):\n",
    "    ev = event.EventSegment(events)\n",
    "    ev.fit(video_model)\n",
    "    t = np.round(ev.segments_[0]).astype(int)\n",
    "    mask = np.sum(list(map(lambda x: np.outer(x, x), t.T)), 0).astype(bool)\n",
    "    within = corrmat[mask].mean()\n",
    "    across = corrmat[~mask].mean()\n",
    "    m.append((within, across, within/across))\n",
    "    print(i, events)"
   ]
  },
  {
   "cell_type": "markdown",
   "metadata": {},
   "source": [
    "## Plot the within and across correlation values as a function of k"
   ]
  },
  {
   "cell_type": "code",
   "execution_count": 7,
   "metadata": {
    "ExecuteTime": {
     "end_time": "2018-10-06T23:24:02.678683Z",
     "start_time": "2018-10-06T23:24:02.383981Z"
    }
   },
   "outputs": [
    {
     "data": {
      "text/plain": [
       "Text(0.5, 0, 'Number of events (k)')"
      ]
     },
     "execution_count": 7,
     "metadata": {},
     "output_type": "execute_result"
    },
    {
     "data": {
      "image/png": "[encoded data removed]",
      "text/plain": [
       "<Figure size 432x288 with 1 Axes>"
      ]
     },
     "metadata": {},
     "output_type": "display_data"
    }
   ],
   "source": [
    "plt.plot(list(map(lambda x: x[0], m)), label='Within-event correlation')\n",
    "plt.plot(list(map(lambda x: x[1], m)), label='Across-event correlation')\n",
    "plt.legend()\n",
    "plt.ylabel('Correlation')\n",
    "plt.xlabel('Number of events (k)')"
   ]
  },
  {
   "cell_type": "code",
   "execution_count": 27,
   "metadata": {},
   "outputs": [
    {
     "data": {
      "text/plain": [
       "-9.928918054405184"
      ]
     },
     "execution_count": 27,
     "metadata": {},
     "output_type": "execute_result"
    }
   ],
   "source": [
    "min(m[1])"
   ]
  },
  {
   "cell_type": "markdown",
   "metadata": {},
   "source": [
    "## Plot the ratio of within/across ratio as a function of k"
   ]
  },
  {
   "cell_type": "code",
   "execution_count": 37,
   "metadata": {
    "ExecuteTime": {
     "end_time": "2018-10-06T23:24:04.569798Z",
     "start_time": "2018-10-06T23:24:04.395355Z"
    }
   },
   "outputs": [
    {
     "data": {
      "image/png": "[encoded data removed]",
      "text/plain": [
       "<Figure size 432x288 with 1 Axes>"
      ]
     },
     "metadata": {},
     "output_type": "display_data"
    }
   ],
   "source": [
    "t=list(map(lambda x: x[0]/(x[1]+10000), m))[1:]\n",
    "t/=np.max(t)\n",
    "for i, v in enumerate(t):\n",
    "    t[i]-=i/250\n",
    "plt.plot(t, label='Within-event correlation')\n",
    "plt.ylabel('abs(within/across) ratio')\n",
    "plt.xlabel('Number of events (k)')\n",
    "maxk_video = np.argmax(t)"
   ]
  },
  {
   "cell_type": "markdown",
   "metadata": {},
   "source": [
    "## Fit event segmentation model to video"
   ]
  },
  {
   "cell_type": "code",
   "execution_count": null,
   "metadata": {
    "ExecuteTime": {
     "end_time": "2018-10-06T23:24:18.686845Z",
     "start_time": "2018-10-06T23:24:05.759393Z"
    }
   },
   "outputs": [],
   "source": [
    "ev = brainiak.eventseg.event.EventSegment(maxk_video)\n",
    "ev.fit(video_model)\n",
    "video_events = reduce_model(video_model, ev)"
   ]
  },
  {
   "cell_type": "markdown",
   "metadata": {},
   "source": [
    "## Save models"
   ]
  },
  {
   "cell_type": "code",
   "execution_count": null,
   "metadata": {
    "ExecuteTime": {
     "end_time": "2018-10-06T23:24:18.687322Z",
     "start_time": "2018-10-06T23:24:06.665Z"
    },
    "collapsed": true
   },
   "outputs": [],
   "source": [
    "# with open('../data/video_eventseg_model', 'wb') as f:\n",
    "#     pickle.dump(ev, f)\n",
    "# np.save('../data/video_events', video_events)"
   ]
  },
  {
   "cell_type": "markdown",
   "metadata": {},
   "source": [
    "## Get video event times"
   ]
  },
  {
   "cell_type": "code",
   "execution_count": null,
   "metadata": {
    "ExecuteTime": {
     "end_time": "2018-10-06T23:24:18.688106Z",
     "start_time": "2018-10-06T23:24:07.418Z"
    },
    "collapsed": true
   },
   "outputs": [],
   "source": [
    "video_event_times = []\n",
    "for s in ev.segments_[0].T:\n",
    "    tp = np.where(np.round(s)==1)[0]\n",
    "    video_event_times.append((tp[0], tp[-1]))\n",
    "np.save(datadir+'video_event_times', video_event_times)"
   ]
  },
  {
   "cell_type": "markdown",
   "metadata": {},
   "source": [
    "## Fit event segmentation model to recall"
   ]
  },
  {
   "cell_type": "code",
   "execution_count": null,
   "metadata": {
    "ExecuteTime": {
     "end_time": "2018-10-06T23:24:18.689218Z",
     "start_time": "2018-10-06T23:24:07.992Z"
    },
    "collapsed": true
   },
   "outputs": [],
   "source": [
    "ks = list(range(2, 30))\n",
    "maxk = []\n",
    "for i, sub in enumerate(recall_models):\n",
    "    mcorr = np.corrcoef(sub)\n",
    "    cs = []\n",
    "    for k in ks:\n",
    "        ev = brainiak.eventseg.event.EventSegment(k)\n",
    "        ev.fit(sub)\n",
    "        i1, i2 = np.where(np.round(ev.segments_[0])==1)\n",
    "        w = np.zeros_like(ev.segments_[0])\n",
    "        w[i1,i2] = 1\n",
    "        w = np.dot(w, w.T).astype(bool)\n",
    "        c = mcorr[w].mean()/mcorr[~w].mean() - k/50\n",
    "        cs.append(c)\n",
    "    m = ks[np.argmax(cs)]\n",
    "    maxk.append(m)\n",
    "    print(i, m)"
   ]
  },
  {
   "cell_type": "markdown",
   "metadata": {},
   "source": [
    "## Fit model to recall using best k"
   ]
  },
  {
   "cell_type": "code",
   "execution_count": null,
   "metadata": {
    "ExecuteTime": {
     "end_time": "2018-10-06T23:24:18.690038Z",
     "start_time": "2018-10-06T23:24:08.588Z"
    },
    "collapsed": true
   },
   "outputs": [],
   "source": [
    "recall_events = []\n",
    "recall_event_times = []\n",
    "recall_eventseg_models = []\n",
    "for i, k in enumerate(maxk):\n",
    "    ev = brainiak.eventseg.event.EventSegment(k)\n",
    "    ev.fit(recall_models[i])\n",
    "    m = reduce_model(recall_models[i], ev)\n",
    "    recall_events.append(m)\n",
    "    recall_times = []\n",
    "    for s in ev.segments_[0].T:\n",
    "        tp = np.where(np.round(s)==1)[0]\n",
    "        recall_times.append((tp[0], tp[-1]))\n",
    "    recall_event_times.append(recall_times)\n",
    "    recall_eventseg_models.append(ev)"
   ]
  },
  {
   "cell_type": "markdown",
   "metadata": {},
   "source": [
    "## Create average recall model"
   ]
  },
  {
   "cell_type": "code",
   "execution_count": null,
   "metadata": {
    "ExecuteTime": {
     "end_time": "2018-10-06T23:24:18.690802Z",
     "start_time": "2018-10-06T23:24:09.106Z"
    },
    "collapsed": true
   },
   "outputs": [],
   "source": [
    "matches = np.array([np.argmax(1 - cdist(video_events, r, 'correlation'), 0) for r in recall_events])\n",
    "avg_recalls = [[] for _ in video_events]\n",
    "for match, r in zip(matches, recall_events):\n",
    "    for i, m in enumerate(match):\n",
    "        avg_recalls[m].append(r[i,:])\n",
    "avg_recall_events = np.array(list(map(lambda r: np.mean(r, 0) if len(r)>0 else np.zeros((100,)), avg_recalls)))\n",
    "# avg_recall_events = np.array([a.reshape(100,) for a in avg_recall_events if a.shape==(100,)])"
   ]
  },
  {
   "cell_type": "markdown",
   "metadata": {},
   "source": [
    "## Create 2D embeddings"
   ]
  },
  {
   "cell_type": "code",
   "execution_count": null,
   "metadata": {
    "collapsed": true
   },
   "outputs": [],
   "source": [
    "np.random.seed(10)\n",
    "embeddings = hyp.reduce(recall_events+[video_events]+[avg_recall_events], reduce='UMAP', ndims=2)"
   ]
  },
  {
   "cell_type": "markdown",
   "metadata": {},
   "source": [
    "## Save models"
   ]
  },
  {
   "cell_type": "code",
   "execution_count": null,
   "metadata": {
    "collapsed": true
   },
   "outputs": [],
   "source": [
    "# np.save(datadir+'avg_recall_events', avg_recall_events)\n",
    "# np.save(datadir+'embeddings', [embeddings[:-2], embeddings[-2], embeddings[:-1]])\n",
    "# np.save(datadir+'labels', matches)\n",
    "# np.save(datadir+'recall_events', recall_events)\n",
    "# np.save(datadir+'recall_event_times', recall_event_times)\n",
    "# with open(datadir+'recall_eventseg_models', 'wb') as f:\n",
    "#     pickle.dump(recall_eventseg_models, f)"
   ]
  }
 ],
 "metadata": {
  "kernelspec": {
   "display_name": "Python 3",
   "language": "python",
   "name": "python3"
  },
  "language_info": {
   "codemirror_mode": {
    "name": "ipython",
    "version": 3
   },
   "file_extension": ".py",
   "mimetype": "text/x-python",
   "name": "python",
   "nbconvert_exporter": "python",
   "pygments_lexer": "ipython3",
   "version": "3.6.1"
  }
 },
 "nbformat": 4,
 "nbformat_minor": 2
}
