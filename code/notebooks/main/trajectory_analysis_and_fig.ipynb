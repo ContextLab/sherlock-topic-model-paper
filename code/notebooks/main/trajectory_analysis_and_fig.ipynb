{
 "cells": [
  {
   "cell_type": "markdown",
   "metadata": {},
   "source": [
    "## Imports"
   ]
  },
  {
   "cell_type": "code",
   "execution_count": 1,
   "metadata": {
    "ExecuteTime": {
     "end_time": "2019-11-17T04:41:54.214189Z",
     "start_time": "2019-11-17T04:41:54.191085Z"
    }
   },
   "outputs": [
    {
     "data": {
      "text/markdown": [
       "Helper functions and variables used across multiple notebooks can be found in `/mnt/code/sherlock_helpers/sherlock_helpers`, or on GitHub, [here](https://github.com/ContextLab/sherlock-topic-model-paper/tree/master/code/sherlock_helpers).<br />You can also view source code directly from the notebook with:<br /><pre>    from sherlock_helpers.functions import show_source<br />    show_source(foo)</pre>"
      ],
      "text/plain": [
       "<IPython.core.display.Markdown object>"
      ]
     },
     "metadata": {},
     "output_type": "display_data"
    }
   ],
   "source": [
    "import math\n",
    "\n",
    "import numpy as np\n",
    "from pycircstat.tests import rayleigh\n",
    "from statsmodels.stats.multitest import multipletests\n",
    "from tqdm.notebook import tqdm\n",
    "\n",
    "from sherlock_helpers.constants import DATA_DIR, FIG_DIR, GRID_SCALE\n",
    "from sherlock_helpers.functions import add_arrows, show_source\n",
    "\n",
    "import matplotlib.pyplot as plt\n",
    "import matplotlib as mpl\n",
    "import seaborn as sns\n",
    "%matplotlib inline"
   ]
  },
  {
   "cell_type": "markdown",
   "metadata": {},
   "source": [
    "## Define/inspect some custom functions/classes"
   ]
  },
  {
   "cell_type": "code",
   "execution_count": 2,
   "metadata": {
    "ExecuteTime": {
     "end_time": "2019-11-17T04:42:17.498008Z",
     "start_time": "2019-11-17T04:42:17.463027Z"
    },
    "collapsed": true
   },
   "outputs": [],
   "source": [
    "class Point:\n",
    "    def __init__(self, coord=None):\n",
    "        self.coord = np.array(coord)"
   ]
  },
  {
   "cell_type": "code",
   "execution_count": 3,
   "metadata": {
    "collapsed": true
   },
   "outputs": [],
   "source": [
    "class LineSegment:  \n",
    "    def __init__(self, p1=None, p2=None):\n",
    "        if not isinstance(p1, Point):\n",
    "            p1 = Point(p1)\n",
    "        if not isinstance(p2, Point):\n",
    "            p2 = Point(p2)\n",
    "        \n",
    "        self.p1 = p1\n",
    "        self.p2 = p2\n",
    "        self.vec = self.p2.coord - self.p1.coord\n",
    "        \n",
    "    @property\n",
    "    def norm(self):\n",
    "        diff = self.get_p2() - self.get_p1()\n",
    "        return diff / np.linalg.norm(diff)\n",
    "    \n",
    "    @property\n",
    "    def angle(self):\n",
    "        p1 = np.zeros_like(self.get_p1())\n",
    "        p2 = np.zeros_like(self.get_p1())\n",
    "        p2[0] = 1\n",
    "        ref = LineSegment(p1, p2)\n",
    "        return self.angle_with(ref)\n",
    "    \n",
    "    def get_p1(self):\n",
    "        return self.p1.coord\n",
    "    \n",
    "    def get_p2(self):\n",
    "        return self.p2.coord\n",
    "        \n",
    "    def intersects(self, z):\n",
    "        if isinstance(z, Circle):\n",
    "            return _seg_intersect_circle(self, z)\n",
    "        elif isinstance(x, Rectangle):\n",
    "            return _seg_intersect_rect(self, z)\n",
    "        \n",
    "    def angle_with(self, ref):\n",
    "        assert isinstance(ref, LineSegment)\n",
    "        v0 = ref.vec\n",
    "        v1 = self.vec\n",
    "        angle = np.arccos(v0.dot(v1) / (np.linalg.norm(v0) * np.linalg.norm(v1)))\n",
    "        if self.vec[1] < 0:\n",
    "            angle = (2 * np.pi) - angle\n",
    "            \n",
    "        return angle"
   ]
  },
  {
   "cell_type": "code",
   "execution_count": 4,
   "metadata": {
    "collapsed": true
   },
   "outputs": [],
   "source": [
    "class Circle:\n",
    "    def __init__(self, center=None, r=None):\n",
    "        self.center = np.array(center)\n",
    "        self.r = r \n",
    "    \n",
    "    def get_center(self):\n",
    "        return self.center\n",
    "    \n",
    "    def get_radius(self):\n",
    "        return self.r\n",
    "        \n",
    "class Rectangle:\n",
    "    def __init__(self, x=None, y=None, w=None):\n",
    "        self.c0 = x - w\n",
    "        self.c1 = y - w\n",
    "        self.c2 = x + w\n",
    "        self.c3 = y + w"
   ]
  },
  {
   "cell_type": "code",
   "execution_count": 5,
   "metadata": {
    "collapsed": true
   },
   "outputs": [],
   "source": [
    "def _seg_intersect_circle(ls, circ):\n",
    "    Q = circ.get_center()\n",
    "    r = circ.get_radius()\n",
    "    P1 = ls.get_p1()\n",
    "    V = ls.get_p2() - P1\n",
    "    \n",
    "    a = V.dot(V)\n",
    "    b = 2 * V.dot(P1 - Q)\n",
    "    c = P1.dot(P1) + Q.dot(Q) - 2 * P1.dot(Q) - r ** 2\n",
    "    \n",
    "    disc = b ** 2 - 4 * a * c\n",
    "    if disc < 0:\n",
    "        return False\n",
    "    \n",
    "    sqrt_disc = math.sqrt(disc)\n",
    "    t1 = (-b + sqrt_disc) / (2 * a)\n",
    "    t2 = (-b - sqrt_disc) / (2 * a)\n",
    "    if not (0 <= t1 <= 1 or 0 <= t2 <= 1):\n",
    "        return False\n",
    "    \n",
    "    return True"
   ]
  },
  {
   "cell_type": "code",
   "execution_count": 6,
   "metadata": {
    "collapsed": true
   },
   "outputs": [],
   "source": [
    "def _seg_intersect_rect(ls, r):\n",
    "    # find min/max X for the segment\n",
    "    minX = min(ls.p1.x, ls.p2.x)\n",
    "    maxX = max(ls.p1.x, ls.p2.x)\n",
    "    \n",
    "    # find the intersection of the segment's and rectangle's x-projections\n",
    "    if maxX > r.c2:\n",
    "        maxX = r.c2\n",
    "    if minX < r.c0:\n",
    "        minX = r.c0\n",
    "    \n",
    "    if minX > maxX:\n",
    "        return False\n",
    "    \n",
    "    minY = ls.p1.y\n",
    "    maxY = ls.p2.y\n",
    "    \n",
    "    dx = ls.p2.x - ls.p1.x\n",
    "    \n",
    "    if abs(dx) > .0000001:\n",
    "        a = (ls.p2.y - ls.p1.y) / dx\n",
    "        b = ls.p1.y - a * ls.p1.x\n",
    "        minY = a * minX + b\n",
    "        maxY = a * maxX + b\n",
    "        \n",
    "    if minY > maxY:\n",
    "        tmp = maxY\n",
    "        maxY = minY\n",
    "        minY = tmp\n",
    "        \n",
    "    # find the intersection of the segment's and rectangle's y-projections\n",
    "    if maxY > r.c3:\n",
    "        maxY = r.c3\n",
    "    if minY < r.c1:\n",
    "        minY = r.c1\n",
    "        \n",
    "    # if Y-projections do not intersect return false\n",
    "    if minY > maxY:\n",
    "        return False\n",
    "    else:\n",
    "        return True"
   ]
  },
  {
   "cell_type": "code",
   "execution_count": 7,
   "metadata": {
    "collapsed": true
   },
   "outputs": [],
   "source": [
    "def compute_coord(xi, yi, w, seglist, kind='rectangle'):\n",
    "    if kind=='rectangle':\n",
    "        z = Rectangle(x=xi, y=yi, w=w)\n",
    "    elif kind=='circle':\n",
    "        z = Circle(center=[xi,yi], r=w)\n",
    "        \n",
    "    segs = list(filter(lambda s: s.intersects(z), seglist))\n",
    "    c = len(segs)\n",
    "    if c > 1:\n",
    "        u, v  = np.array([seg.norm for seg in segs]).mean(0)\n",
    "        rads = np.array([seg.angle for seg in segs])\n",
    "        p, z = rayleigh(rads)\n",
    "    else:\n",
    "        u = 0\n",
    "        v = 0\n",
    "        p = 1\n",
    "    return u, v, p, c"
   ]
  },
  {
   "cell_type": "code",
   "execution_count": 8,
   "metadata": {
    "scrolled": true
   },
   "outputs": [
    {
     "data": {
      "text/html": [
       "<div class=\"highlight\" style=\"background: #f8f8f8\"><pre style=\"line-height: 125%\"><span></span><span style=\"color: #008000; font-weight: bold\">def</span> <span style=\"color: #0000FF\">add_arrows</span>(axes, x, y, <span style=\"color: #666666\">**</span>kwargs):\n",
       "    <span style=\"color: #408080; font-style: italic\"># spacing of arrows</span>\n",
       "    aspace <span style=\"color: #666666\">=</span> <span style=\"color: #666666\">.05</span> <span style=\"color: #666666\">*</span> GRID_SCALE\n",
       "    <span style=\"color: #408080; font-style: italic\"># distance spanned between pairs of points</span>\n",
       "    r <span style=\"color: #666666\">=</span> [<span style=\"color: #666666\">0</span>]\n",
       "    <span style=\"color: #008000; font-weight: bold\">for</span> i <span style=\"color: #AA22FF; font-weight: bold\">in</span> <span style=\"color: #008000\">range</span>(<span style=\"color: #666666\">1</span>, <span style=\"color: #008000\">len</span>(x)):\n",
       "        dx <span style=\"color: #666666\">=</span> x[i] <span style=\"color: #666666\">-</span> x[i <span style=\"color: #666666\">-</span> <span style=\"color: #666666\">1</span>]\n",
       "        dy <span style=\"color: #666666\">=</span> y[i] <span style=\"color: #666666\">-</span> y[i <span style=\"color: #666666\">-</span> <span style=\"color: #666666\">1</span>]\n",
       "        r<span style=\"color: #666666\">.</span>append(np<span style=\"color: #666666\">.</span>sqrt(dx <span style=\"color: #666666\">*</span> dx <span style=\"color: #666666\">+</span> dy <span style=\"color: #666666\">*</span> dy))\n",
       "\n",
       "    r <span style=\"color: #666666\">=</span> np<span style=\"color: #666666\">.</span>array(r)\n",
       "    <span style=\"color: #408080; font-style: italic\"># cumulative sum of r, used to save time</span>\n",
       "    rtot <span style=\"color: #666666\">=</span> []\n",
       "    <span style=\"color: #008000; font-weight: bold\">for</span> i <span style=\"color: #AA22FF; font-weight: bold\">in</span> <span style=\"color: #008000\">range</span>(<span style=\"color: #008000\">len</span>(r)):\n",
       "        rtot<span style=\"color: #666666\">.</span>append(r[<span style=\"color: #666666\">0</span>:i]<span style=\"color: #666666\">.</span>sum())\n",
       "    rtot<span style=\"color: #666666\">.</span>append(r<span style=\"color: #666666\">.</span>sum())\n",
       "    <span style=\"color: #408080; font-style: italic\"># will hold tuple(x, y, theta) for each arrow</span>\n",
       "    arrow_data <span style=\"color: #666666\">=</span> []\n",
       "    <span style=\"color: #408080; font-style: italic\"># current point on walk along data</span>\n",
       "    arrow_pos <span style=\"color: #666666\">=</span> <span style=\"color: #666666\">0</span>\n",
       "    rcount <span style=\"color: #666666\">=</span> <span style=\"color: #666666\">1</span>\n",
       "    <span style=\"color: #008000; font-weight: bold\">while</span> arrow_pos <span style=\"color: #666666\">&lt;</span> r<span style=\"color: #666666\">.</span>sum():\n",
       "        x1, x2 <span style=\"color: #666666\">=</span> x[rcount <span style=\"color: #666666\">-</span> <span style=\"color: #666666\">1</span>], x[rcount]\n",
       "        y1, y2 <span style=\"color: #666666\">=</span> y[rcount <span style=\"color: #666666\">-</span> <span style=\"color: #666666\">1</span>], y[rcount]\n",
       "        da <span style=\"color: #666666\">=</span> arrow_pos <span style=\"color: #666666\">-</span> rtot[rcount]\n",
       "        theta <span style=\"color: #666666\">=</span> np<span style=\"color: #666666\">.</span>arctan2((x2 <span style=\"color: #666666\">-</span> x1), (y2 <span style=\"color: #666666\">-</span> y1))\n",
       "        ax <span style=\"color: #666666\">=</span> np<span style=\"color: #666666\">.</span>sin(theta) <span style=\"color: #666666\">*</span> da <span style=\"color: #666666\">+</span> x1\n",
       "        ay <span style=\"color: #666666\">=</span> np<span style=\"color: #666666\">.</span>cos(theta) <span style=\"color: #666666\">*</span> da <span style=\"color: #666666\">+</span> y1\n",
       "        arrow_data<span style=\"color: #666666\">.</span>append((ax, ay, theta))\n",
       "        arrow_pos <span style=\"color: #666666\">+=</span> aspace\n",
       "        <span style=\"color: #008000; font-weight: bold\">while</span> arrow_pos <span style=\"color: #666666\">&gt;</span> rtot[rcount <span style=\"color: #666666\">+</span> <span style=\"color: #666666\">1</span>]:\n",
       "            rcount <span style=\"color: #666666\">+=</span> <span style=\"color: #666666\">1</span>\n",
       "            <span style=\"color: #008000; font-weight: bold\">if</span> arrow_pos <span style=\"color: #666666\">&gt;</span> rtot[<span style=\"color: #666666\">-1</span>]:\n",
       "                <span style=\"color: #008000; font-weight: bold\">break</span>\n",
       "\n",
       "    <span style=\"color: #008000; font-weight: bold\">for</span> ax, ay, theta <span style=\"color: #AA22FF; font-weight: bold\">in</span> arrow_data:\n",
       "        <span style=\"color: #408080; font-style: italic\"># use aspace as a guide for size and length of things</span>\n",
       "        <span style=\"color: #408080; font-style: italic\"># scaling factors were chosen by experimenting a bit</span>\n",
       "        axes<span style=\"color: #666666\">.</span>arrow(ax,\n",
       "                   ay,\n",
       "                   np<span style=\"color: #666666\">.</span>sin(theta) <span style=\"color: #666666\">*</span> aspace <span style=\"color: #666666\">/</span> <span style=\"color: #666666\">10</span>,\n",
       "                   np<span style=\"color: #666666\">.</span>cos(theta) <span style=\"color: #666666\">*</span> aspace <span style=\"color: #666666\">/</span> <span style=\"color: #666666\">10</span>,\n",
       "                   head_width<span style=\"color: #666666\">=</span>aspace <span style=\"color: #666666\">/</span> <span style=\"color: #666666\">3</span>,\n",
       "                   <span style=\"color: #666666\">**</span>kwargs)\n",
       "</pre></div>\n"
      ],
      "text/plain": [
       "<IPython.core.display.HTML object>"
      ]
     },
     "execution_count": 8,
     "metadata": {},
     "output_type": "execute_result"
    }
   ],
   "source": [
    "show_source(add_arrows)"
   ]
  },
  {
   "cell_type": "markdown",
   "metadata": {},
   "source": [
    "## Set plotting params"
   ]
  },
  {
   "cell_type": "code",
   "execution_count": 9,
   "metadata": {
    "collapsed": true
   },
   "outputs": [],
   "source": [
    "cmap = plt.cm.Spectral\n",
    "mpl.rcParams['pdf.fonttype'] = 42"
   ]
  },
  {
   "cell_type": "markdown",
   "metadata": {},
   "source": [
    "## Load data"
   ]
  },
  {
   "cell_type": "code",
   "execution_count": 10,
   "metadata": {
    "ExecuteTime": {
     "end_time": "2019-11-17T04:42:20.021472Z",
     "start_time": "2019-11-17T04:42:20.013714Z"
    },
    "collapsed": true
   },
   "outputs": [],
   "source": [
    "avg_recall_events = np.load(DATA_DIR.joinpath('avg_recall_events.npy'))\n",
    "mappings = np.load(DATA_DIR.joinpath('labels.npy'), allow_pickle=True)\n",
    "embeddings = np.load(DATA_DIR.joinpath('embeddings.npy'), allow_pickle=True)\n",
    "video_embedding, avg_recall_embedding, recall_embeddings = embeddings"
   ]
  },
  {
   "cell_type": "markdown",
   "metadata": {},
   "source": [
    "## Create a 2D grid"
   ]
  },
  {
   "cell_type": "code",
   "execution_count": 11,
   "metadata": {
    "ExecuteTime": {
     "end_time": "2019-11-17T04:42:22.527049Z",
     "start_time": "2019-11-17T04:42:22.523493Z"
    },
    "collapsed": true
   },
   "outputs": [],
   "source": [
    "STEP = 1.2\n",
    "X, Y = np.meshgrid(np.arange(-GRID_SCALE, GRID_SCALE, STEP), \n",
    "                   np.arange(-GRID_SCALE, GRID_SCALE, STEP))"
   ]
  },
  {
   "cell_type": "markdown",
   "metadata": {},
   "source": [
    "## Turn the embedded recall event models into a list of line segments"
   ]
  },
  {
   "cell_type": "code",
   "execution_count": 12,
   "metadata": {
    "ExecuteTime": {
     "end_time": "2019-11-17T04:42:25.199223Z",
     "start_time": "2019-11-17T04:42:25.189757Z"
    },
    "collapsed": true
   },
   "outputs": [],
   "source": [
    "seglist = []\n",
    "for sub in recall_embeddings:\n",
    "    for i in range(sub.shape[0] - 1):\n",
    "        p1 = Point(coord=sub[i, :])\n",
    "        p2 = Point(coord=sub[i + 1, :])\n",
    "        seg = LineSegment(p1=p1, p2=p2)\n",
    "        seglist.append(seg)"
   ]
  },
  {
   "cell_type": "markdown",
   "metadata": {},
   "source": [
    "## filter any video events with no successful recalls from average recall embedding"
   ]
  },
  {
   "cell_type": "code",
   "execution_count": null,
   "metadata": {
    "ExecuteTime": {
     "end_time": "2019-11-17T04:42:26.160354Z",
     "start_time": "2019-11-17T04:42:26.157338Z"
    }
   },
   "outputs": [
    {
     "name": "stdout",
     "output_type": "stream",
     "text": [
      "All video events recalled at least once\n"
     ]
    }
   ],
   "source": [
    "no_rec_mask = np.all(np.equal(avg_recall_events, 0), axis=1)\n",
    "avg_recall = avg_recall_embedding[~no_rec_mask]\n",
    "\n",
    "if ~np.any(no_rec_mask):\n",
    "    print('All video events recalled at least once')"
   ]
  },
  {
   "cell_type": "markdown",
   "metadata": {},
   "source": [
    "## Compute the average vector and p value at each grid point"
   ]
  },
  {
   "cell_type": "code",
   "execution_count": null,
   "metadata": {
    "ExecuteTime": {
     "end_time": "2019-11-17T04:42:52.477882Z",
     "start_time": "2019-11-17T04:42:27.057949Z"
    }
   },
   "outputs": [
    {
     "data": {
      "application/vnd.jupyter.widget-view+json": {
       "model_id": "c875517a387949a6a2ecb4e2ef29d14c"
      }
     },
     "metadata": {},
     "output_type": "display_data"
    }
   ],
   "source": [
    "U = np.zeros_like(X)\n",
    "V = np.zeros_like(X)\n",
    "P = np.zeros_like(X)\n",
    "Z = np.zeros_like(X)\n",
    "C = np.zeros_like(X)\n",
    "\n",
    "pbar = tqdm(total=len(X)**2, leave=False)\n",
    "for i, (x, y) in enumerate(zip(X, Y)):\n",
    "    for j, (xi, yi) in enumerate(zip(x, y)):\n",
    "        U[i, j], V[i, j], P[i, j], C[i, j] = compute_coord(xi, yi, \n",
    "                                                           STEP * 2, \n",
    "                                                           seglist, \n",
    "                                                           kind='circle')\n",
    "        pbar.update()\n",
    "pbar.close()"
   ]
  },
  {
   "cell_type": "markdown",
   "metadata": {},
   "source": [
    "## Multiple comparisons correction"
   ]
  },
  {
   "cell_type": "code",
   "execution_count": null,
   "metadata": {
    "ExecuteTime": {
     "end_time": "2019-11-17T04:42:52.488106Z",
     "start_time": "2019-11-17T04:42:52.480343Z"
    },
    "collapsed": true
   },
   "outputs": [],
   "source": [
    "THRESH = .05\n",
    "Pc = multipletests(P.ravel(), method='fdr_bh', alpha=THRESH)[1].reshape(P.shape)\n",
    "\n",
    "M = np.hypot(U, V)\n",
    "M = plt.cm.Blues(M)\n",
    "# not significant after multiple comparisons correction; color grey\n",
    "M[Pc >= THRESH] = [.5, .5, .5, .25]\n",
    "# no trajectories pass through here; color transparent\n",
    "M[P == 1] = [.5, .5, .5, 0]"
   ]
  },
  {
   "cell_type": "markdown",
   "metadata": {},
   "source": [
    "## Plot the result"
   ]
  },
  {
   "cell_type": "code",
   "execution_count": null,
   "metadata": {
    "ExecuteTime": {
     "end_time": "2019-11-17T04:43:08.301404Z",
     "start_time": "2019-11-17T04:43:07.806814Z"
    }
   },
   "outputs": [],
   "source": [
    "plt.figure(figsize=(10, 9))\n",
    "axarr = [0, 0]\n",
    "axarr[0] = plt.subplot2grid((5, 6), (0, 0), colspan=3, rowspan=2)\n",
    "axarr[1] = plt.subplot2grid((5, 6), (0, 3), colspan=3, rowspan=2)\n",
    "for i in range(2, 5):\n",
    "    for j in range(0, 6):\n",
    "        axarr.append(plt.subplot2grid((5, 6), (i, j)))\n",
    "\n",
    "# ===== PANEL A =====\n",
    "axarr[0].scatter(video_embedding[:, 0], \n",
    "                 video_embedding[:, 1], \n",
    "                 c=range(video_embedding.shape[0]), \n",
    "                 cmap=cmap, \n",
    "                 s=150, \n",
    "                 zorder=3)\n",
    "axarr[0].scatter(video_embedding[:, 0], \n",
    "                 video_embedding[:, 1], \n",
    "                 c='k', \n",
    "                 cmap=cmap, \n",
    "                 s=200, \n",
    "                 zorder=2)\n",
    "axarr[0].plot(video_embedding[:, 0], \n",
    "              video_embedding[:, 1], \n",
    "              zorder=1, \n",
    "              c='k', \n",
    "              alpha=.5)\n",
    "add_arrows(axarr[0], \n",
    "           video_embedding[:, 0], \n",
    "           video_embedding[:, 1], \n",
    "           zorder=0, \n",
    "           alpha=.5, \n",
    "           color='k', \n",
    "           fill=True)\n",
    "axarr[0].axis('off')\n",
    "axarr[0].set_title('Video events')\n",
    "axarr[0].set_xlim(-20, 21)\n",
    "axarr[0].set_ylim(-17, 23)\n",
    "axarr[0].text(0, 1, 'A',\n",
    "              horizontalalignment='center',\n",
    "              transform=axarr[0].transAxes,\n",
    "              fontsize=18)\n",
    "\n",
    "# ===== PANEL B =====\n",
    "axarr[1].quiver(X, Y, U, V, \n",
    "                color=M.reshape(M.shape[0] * M.shape[1], 4), \n",
    "                zorder=1, \n",
    "                width=.004)\n",
    "axarr[1].plot(avg_recall[:, 0], avg_recall[:, 1], zorder=2, c='k', alpha=.5)\n",
    "add_arrows(axarr[1], \n",
    "           avg_recall[:, 0], \n",
    "           avg_recall[:, 1], \n",
    "           zorder=3, \n",
    "           alpha=1, \n",
    "           color='k', \n",
    "           fill=True)\n",
    "axarr[1].scatter(avg_recall[:, 0], \n",
    "                 avg_recall[:, 1], \n",
    "                 c=range(avg_recall.shape[0]), \n",
    "                 cmap=cmap, \n",
    "                 s=150, \n",
    "                 zorder=4)\n",
    "axarr[1].scatter(avg_recall[:, 0], \n",
    "                 avg_recall[:, 1], \n",
    "                 c='k', \n",
    "                 cmap=cmap, \n",
    "                 s=200, \n",
    "                 zorder=3)\n",
    "axarr[1].axis('off')\n",
    "axarr[1].set_title('Recalled events')\n",
    "axarr[1].set_xlim(-20, 21)\n",
    "axarr[1].set_ylim(-17, 23)\n",
    "axarr[1].text(0, 1, 'B',\n",
    "              horizontalalignment='center',\n",
    "              transform=axarr[1].transAxes,\n",
    "              fontsize=18)\n",
    "\n",
    "# ===== PANEL C =====\n",
    "for i, (e, m) in enumerate(zip(recall_embeddings, mappings)):\n",
    "    ax = axarr[i + 2]\n",
    "    ax.scatter(e[:, 0],\n",
    "               e[:, 1], \n",
    "               c=cmap(m / video_embedding.shape[0]), \n",
    "               cmap=cmap, \n",
    "               s=100, \n",
    "               zorder=2)\n",
    "    ax.plot(e[:, 0], e[:, 1], zorder=1, c='k', alpha=.25)\n",
    "    add_arrows(ax, e[:, 0], e[:, 1], zorder=1, alpha=.25, color='k', fill=True)\n",
    "    ax.plot(video_embedding[:, 0], video_embedding[:, 1], c='k', zorder=3)\n",
    "    ax.axis('off')\n",
    "    ax.set_xlim(-21, 23)\n",
    "    ax.set_ylim(-18, 24)\n",
    "    ax.set_title(f'P{i + 1}')\n",
    "\n",
    "axarr[-1].axis('off')\n",
    "axarr[2].text(0, 1.05, 'C',\n",
    "              horizontalalignment='center',\n",
    "              transform=axarr[2].transAxes,\n",
    "              fontsize=18)\n",
    "\n",
    "plt.tight_layout()\n",
    "plt.subplots_adjust(wspace=.05, hspace=.25)\n",
    "# plt.savefig(FIG_DIR.joinpath('trajectory.pdf'))\n",
    "plt.show()"
   ]
  }
 ],
 "metadata": {
  "kernelspec": {
   "display_name": "Python 3",
   "language": "python",
   "name": "python3"
  },
  "language_info": {
   "codemirror_mode": {
    "name": "ipython",
    "version": 3
   },
   "file_extension": ".py",
   "mimetype": "text/x-python",
   "name": "python",
   "nbconvert_exporter": "python",
   "pygments_lexer": "ipython3",
   "version": "3.6.1"
  }
 },
 "nbformat": 4,
 "nbformat_minor": 2
}
