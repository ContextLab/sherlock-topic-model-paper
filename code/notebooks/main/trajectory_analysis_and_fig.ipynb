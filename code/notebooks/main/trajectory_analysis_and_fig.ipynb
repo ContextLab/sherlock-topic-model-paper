{
 "cells": [
  {
   "cell_type": "code",
   "execution_count": null,
   "metadata": {
    "collapsed": true
   },
   "outputs": [],
   "source": [
    "import numpy as np\n",
    "import matplotlib.pyplot as plt\n",
    "import matplotlib as mpl\n",
    "import seaborn as sns\n",
    "import math\n",
    "from numpy import ma\n",
    "import pycircstat\n",
    "from statsmodels.stats.multitest import multipletests as mt\n",
    "\n",
    "cmap = plt.cm.Spectral\n",
    "%matplotlib inline"
   ]
  },
  {
   "cell_type": "markdown",
   "metadata": {},
   "source": [
    "### Define some custom functions/classes"
   ]
  },
  {
   "cell_type": "code",
   "execution_count": null,
   "metadata": {
    "collapsed": true
   },
   "outputs": [],
   "source": [
    "class Point:\n",
    "    def __init__(self, coord=None):\n",
    "        self.coord = np.array(coord)\n",
    "        \n",
    "class LineSegment:  \n",
    "    def __init__(self, p1=None, p2=None):\n",
    "        if isinstance(p1, Point):\n",
    "            self.p1 = p1\n",
    "        else:\n",
    "            self.p1 = Point(p1)\n",
    "            \n",
    "        if isinstance(p2, Point):\n",
    "            self.p2 = p2\n",
    "        else:\n",
    "            self.p2 = Point(p2)\n",
    "        \n",
    "    def intersect(self, z):\n",
    "        if isinstance(z, Circle):\n",
    "            return _seg_intersect_circle(self, z)\n",
    "        elif isinstance(x, Rectangle):\n",
    "            return _seg_intersect_rect(self, z)\n",
    "        \n",
    "    def norm(self):\n",
    "        diff = self.p2.coord-self.p1.coord\n",
    "        return diff/np.linalg.norm(diff)\n",
    "    \n",
    "    def get_p1(self):\n",
    "        return self.p1.coord\n",
    "    \n",
    "    def get_p2(self):\n",
    "        return self.p2.coord\n",
    "    \n",
    "    def get_vec(self):\n",
    "        return self.p2.coord-self.p1.coord\n",
    "        \n",
    "    def angle(self, ref=None):\n",
    "        if ref==None:\n",
    "            p1 = np.zeros_like(self.get_p1())\n",
    "            p2 = np.zeros_like(self.get_p1())\n",
    "            p2[0] = 1\n",
    "            ref = LineSegment(p1, p2)\n",
    "        v0 = ref.get_vec()\n",
    "        v1 = self.get_vec()\n",
    "        return np.arccos(v0.dot(v1)/(np.linalg.norm(v0)*np.linalg.norm(v1)))\n",
    "        \n",
    "class Circle:\n",
    "    def __init__(self, center=None, r=None):\n",
    "        self.center = np.array(center)\n",
    "        self.r = r \n",
    "    \n",
    "    def get_center(self):\n",
    "        return self.center\n",
    "    \n",
    "    def get_radius(self):\n",
    "        return self.r\n",
    "        \n",
    "class Rectangle:\n",
    "    def __init__(self, x=None, y=None, w=None):\n",
    "        self.c0 = x-w\n",
    "        self.c1 = y-w\n",
    "        self.c2 = x+w\n",
    "        self.c3 = y+w\n",
    "    \n",
    "def _seg_intersect_circle(ls, circ):\n",
    "     \n",
    "    Q = circ.get_center()\n",
    "    r = circ.get_radius()\n",
    "    P1 = ls.get_p1()\n",
    "    V = ls.get_p2() - P1\n",
    "    \n",
    "    a = V.dot(V)\n",
    "    b = 2 * V.dot(P1 - Q)\n",
    "    c = P1.dot(P1) + Q.dot(Q) - 2 * P1.dot(Q) - r**2\n",
    "    \n",
    "    disc = b**2 - 4 * a * c\n",
    "    if disc < 0:\n",
    "        return False\n",
    "    \n",
    "    sqrt_disc = math.sqrt(disc)\n",
    "    t1 = (-b + sqrt_disc) / (2 * a)\n",
    "    t2 = (-b - sqrt_disc) / (2 * a)\n",
    "    if not (0 <= t1 <= 1 or 0 <= t2 <= 1):\n",
    "        return False\n",
    "    \n",
    "    return True\n",
    "    \n",
    "def _seg_intersect_rect(ls, r):\n",
    "    \n",
    "    # find min/max X for the segment\n",
    "    minX = min(ls.p1.x, ls.p2.x)\n",
    "    maxX = max(ls.p1.x, ls.p2.x)\n",
    "    \n",
    "    # find the intersection of the segment's and rectangle's x-projections\n",
    "    if maxX > r.c2:\n",
    "        maxX = r.c2\n",
    "    if minX < r.c0:\n",
    "        minX = r.c0\n",
    "    \n",
    "    if minX > maxX:\n",
    "        return False\n",
    "    \n",
    "    minY = ls.p1.y\n",
    "    maxY = ls.p2.y\n",
    "    \n",
    "    dx = ls.p2.x - ls.p1.x\n",
    "    \n",
    "    if abs(dx) > .0000001:\n",
    "        a = (ls.p2.y - ls.p1.y) / dx\n",
    "        b = ls.p1.y - a * ls.p1.x\n",
    "        minY = a * minX + b\n",
    "        maxY = a * maxX + b\n",
    "        \n",
    "    if minY > maxY:\n",
    "        tmp = maxY\n",
    "        maxY = minY\n",
    "        minY = tmp\n",
    "        \n",
    "    # find the intersection of the segment's and rectangle's y-projections\n",
    "    if maxY > r.c3:\n",
    "        maxY = r.c3\n",
    "    if minY < r.c1:\n",
    "        minY = r.c1\n",
    "        \n",
    "    # if Y-projections do not intersect return false\n",
    "    if minY > maxY:\n",
    "        return False\n",
    "    else:\n",
    "        return True\n",
    "    \n",
    "def add_arrows(axes, x, y, **kwargs):\n",
    "\n",
    "    # spacing of arrows\n",
    "    aspace = .05 # good value for scale of 1\n",
    "    aspace *= scale\n",
    "\n",
    "    # r is the distance spanned between pairs of points\n",
    "    r = [0]\n",
    "    for i in range(1,len(x)):\n",
    "        dx = x[i]-x[i-1]\n",
    "        dy = y[i]-y[i-1]\n",
    "        r.append(np.sqrt(dx*dx+dy*dy))\n",
    "    r = np.array(r)\n",
    "\n",
    "    # rtot is a cumulative sum of r, it's used to save time\n",
    "    rtot = []\n",
    "    for i in range(len(r)):\n",
    "        rtot.append(r[0:i].sum())\n",
    "    rtot.append(r.sum())\n",
    "\n",
    "    arrowData = [] # will hold tuples of x,y,theta for each arrow\n",
    "    arrowPos = 0 # current point on walk along data\n",
    "    rcount = 1 \n",
    "    while arrowPos < r.sum():\n",
    "        x1,x2 = x[rcount-1],x[rcount]\n",
    "        y1,y2 = y[rcount-1],y[rcount]\n",
    "        da = arrowPos-rtot[rcount] \n",
    "        theta = np.arctan2((x2-x1),(y2-y1))\n",
    "        ax = np.sin(theta)*da+x1\n",
    "        ay = np.cos(theta)*da+y1\n",
    "        arrowData.append((ax,ay,theta))\n",
    "        arrowPos+=aspace\n",
    "        while arrowPos > rtot[rcount+1]: \n",
    "            rcount+=1\n",
    "            if arrowPos > rtot[-1]:\n",
    "                break\n",
    "\n",
    "    # could be done in above block if you want\n",
    "    for ax,ay,theta in arrowData:\n",
    "        # use aspace as a guide for size and length of things\n",
    "        # scaling factors were chosen by experimenting a bit\n",
    "        axes.arrow(ax,ay,\n",
    "                   np.sin(theta)*aspace/10,np.cos(theta)*aspace/10, \n",
    "                   head_width=aspace/3, **kwargs)"
   ]
  },
  {
   "cell_type": "markdown",
   "metadata": {},
   "source": [
    "### Set path"
   ]
  },
  {
   "cell_type": "code",
   "execution_count": null,
   "metadata": {},
   "outputs": [],
   "source": [
    "datadir = '../../../data/processed/'"
   ]
  },
  {
   "cell_type": "markdown",
   "metadata": {},
   "source": [
    "### Load the data"
   ]
  },
  {
   "cell_type": "code",
   "execution_count": null,
   "metadata": {
    "collapsed": true
   },
   "outputs": [],
   "source": [
    "embeddings = np.load(datadir+'embeddings.npy')\n",
    "video_embedding = embeddings[-2]\n",
    "recall_embeddings = embeddings[:-2]\n",
    "avg_recall_embedding = embeddings[-1]\n",
    "mappings = np.load(datadir+'labels.npy')"
   ]
  },
  {
   "cell_type": "markdown",
   "metadata": {},
   "source": [
    "### Create a 2D grid"
   ]
  },
  {
   "cell_type": "code",
   "execution_count": null,
   "metadata": {
    "collapsed": true
   },
   "outputs": [],
   "source": [
    "step = .25\n",
    "scale = 6\n",
    "X, Y = np.meshgrid(np.arange(-scale, scale, step), np.arange(-scale, scale, step))"
   ]
  },
  {
   "cell_type": "markdown",
   "metadata": {},
   "source": [
    "### Turn the embedded recall event models into a list of line segments"
   ]
  },
  {
   "cell_type": "code",
   "execution_count": null,
   "metadata": {
    "collapsed": true
   },
   "outputs": [],
   "source": [
    "seglist = []\n",
    "for sub in recall_embeddings:\n",
    "    for i in range(sub.shape[0]-1):\n",
    "#         p1 = Point(x=sub[i, 0], y=sub[i, 1])\n",
    "#         p2 = Point(x=sub[i+1, 0], y=sub[i+1, 1])\n",
    "        p1 = Point(coord=sub[i, :])\n",
    "        p2 = Point(coord=sub[i+1, :])\n",
    "        seg = LineSegment(p1=p1, p2=p2)\n",
    "        seglist.append(seg)"
   ]
  },
  {
   "cell_type": "code",
   "execution_count": null,
   "metadata": {
    "collapsed": true
   },
   "outputs": [],
   "source": [
    "avg_recall = avg_recall_embedding[[i for i in range(34) if i!=17],:]"
   ]
  },
  {
   "cell_type": "markdown",
   "metadata": {},
   "source": [
    "### Compute the average vector and p value at each grid point"
   ]
  },
  {
   "cell_type": "code",
   "execution_count": null,
   "metadata": {
    "collapsed": true
   },
   "outputs": [],
   "source": [
    "def compute_coord(xi, yi, w, seglist, kind='rectangle'):\n",
    "    \n",
    "    if kind=='rectangle':\n",
    "        z = Rectangle(x=xi, y=yi, w=w)\n",
    "    elif kind=='circle':\n",
    "        z = Circle(center=[xi,yi], r=w)\n",
    "        \n",
    "    segs = list(filter(lambda s: s.intersect(z), seglist))\n",
    "    \n",
    "    if len(segs)>1:\n",
    "        u, v  = np.array([seg.norm() for seg in segs]).mean(0)\n",
    "        rads = np.array([seg.angle() for seg in segs])\n",
    "        p, z = pycircstat.tests.rayleigh(rads)\n",
    "    else:\n",
    "        u = 0\n",
    "        v = 0\n",
    "        p = 1\n",
    "    c = len(segs)\n",
    "    return u, v, p, c\n",
    "\n",
    "U = np.zeros_like(X)\n",
    "V = np.zeros_like(X)\n",
    "P = np.zeros_like(X)\n",
    "Z = np.zeros_like(X)\n",
    "C = np.zeros_like(X)\n",
    "for i, (x, y) in enumerate(zip(X, Y)):\n",
    "    for j, (xi, yi) in enumerate(zip(x, y)):\n",
    "        U[i, j], V[i, j], P[i, j], C[i, j] = compute_coord(xi, yi, step*2, seglist, kind='circle')"
   ]
  },
  {
   "cell_type": "markdown",
   "metadata": {},
   "source": [
    "## Multiple comparisons correction"
   ]
  },
  {
   "cell_type": "code",
   "execution_count": null,
   "metadata": {
    "collapsed": true
   },
   "outputs": [],
   "source": [
    "thresh = .001\n",
    "Pc = mt(P.ravel(), method='fdr_bh', alpha=.05)[1].reshape(48,48)\n",
    "X_sig = X[Pc<thresh]\n",
    "X_notsig = X[Pc>thresh]\n",
    "Y_sig = Y[Pc<thresh]\n",
    "Y_notsig = Y[Pc>thresh]\n",
    "U_sig = U[Pc<thresh]\n",
    "U_notsig = U[Pc>thresh]\n",
    "V_sig = V[Pc<thresh]\n",
    "V_notsig = V[Pc>thresh]\n",
    "M = np.hypot(U, V)\n",
    "M = plt.cm.Blues(M)\n",
    "M[Pc>thresh]=[.5, .5, .5, .25]\n",
    "M[Pc==1]=[.5, .5, .5, 0]"
   ]
  },
  {
   "cell_type": "markdown",
   "metadata": {},
   "source": [
    "### Plot the result"
   ]
  },
  {
   "cell_type": "code",
   "execution_count": null,
   "metadata": {},
   "outputs": [],
   "source": [
    "plt.figure(figsize=(10,8))\n",
    "mpl.rcParams['pdf.fonttype'] = 42\n",
    "axarr = [0 for i in range(2)]\n",
    "axarr[0] = plt.subplot2grid((5, 6), (0, 0), colspan=3, rowspan=2)\n",
    "axarr[1] = plt.subplot2grid((5, 6), (0, 3), colspan=3, rowspan=2)\n",
    "for i in range(2, 5):\n",
    "    for j in range(0, 6):\n",
    "        ax = plt.subplot2grid((5, 6), (i, j))\n",
    "        axarr.append(ax)\n",
    "\n",
    "# # fig, axarr = plt.subplots(1, 2, figsize=(10, 4))\n",
    "axarr[0].scatter(video_embedding[:, 0], video_embedding[:, 1], c=range(34), cmap=cmap, s=150, zorder=3)\n",
    "axarr[0].scatter(video_embedding[:, 0], video_embedding[:, 1], c='k', cmap=cmap, s=200, zorder=2)\n",
    "axarr[0].plot(video_embedding[:, 0], video_embedding[:, 1], zorder=1, c='k', alpha=.5)\n",
    "add_arrows(axarr[0], video_embedding[:, 0], video_embedding[:, 1], zorder=0, alpha=.5, color='k', fill=True)\n",
    "axarr[0].axis('off')\n",
    "axarr[0].set_title('Video events')\n",
    "axarr[0].set_xlim(-5, 5)\n",
    "axarr[0].set_ylim(-6.5, 2)\n",
    "axarr[0].text(0, 1,'A',\n",
    "        horizontalalignment='center',\n",
    "        transform=axarr[0].transAxes,\n",
    "          fontsize=18)\n",
    "\n",
    "axarr[1].quiver(X, Y, U, V, color=M.reshape(M.shape[0]*M.shape[1],4), zorder=1, width=.004)\n",
    "axarr[1].plot(avg_recall[:, 0], avg_recall[:, 1], zorder=2, c='k', alpha=.5)\n",
    "add_arrows(axarr[1], avg_recall[:, 0], avg_recall[:, 1], zorder=3, alpha=1, color='k', fill=True)\n",
    "axarr[1].scatter(avg_recall[:, 0], avg_recall[:, 1], c=range(33), cmap=cmap, s=150, zorder=4)\n",
    "axarr[1].scatter(avg_recall[:, 0], avg_recall[:, 1], c='k', cmap=cmap, s=200, zorder=3)\n",
    "axarr[1].axis('off')\n",
    "axarr[1].set_title('Recalled events')\n",
    "axarr[1].set_xlim(-5, 5)\n",
    "axarr[1].set_ylim(-6.5, 2)\n",
    "axarr[1].text(0, 1,'B',\n",
    "        horizontalalignment='center',\n",
    "        transform=axarr[1].transAxes,\n",
    "          fontsize=18)\n",
    "axarr[2].text(0, 1.05,'C',\n",
    "        horizontalalignment='center',\n",
    "        transform=axarr[2].transAxes,\n",
    "          fontsize=18)\n",
    "\n",
    "for i, (e, m) in enumerate(zip(embeddings[:-2], mappings)):\n",
    "    axarr[i+2].scatter(e[:,0], e[:,1], c=cmap(m/34), cmap=cmap, s=100, zorder=2)\n",
    "    axarr[i+2].plot(e[:,0], e[:,1], zorder=1, c='k', alpha=.25)\n",
    "    add_arrows(axarr[i+2], e[:,0], e[:,1], zorder=1, alpha=.25, color='k', fill=True)\n",
    "    axarr[i+2].plot(video_embedding[:, 0], video_embedding[:, 1], c='k', zorder=3)\n",
    "    axarr[i+2].axis('off')\n",
    "    axarr[i+2].set_xlim(-5, 5)\n",
    "    axarr[i+2].set_ylim(-6.5, 2.1)\n",
    "    axarr[i+2].set_title('P%s' % str(i+1))\n",
    "axarr[i+3].axis('off')\n",
    "plt.tight_layout()\n",
    "plt.subplots_adjust(wspace=.05, hspace=.25)\n",
    "# plt.savefig('../../../paper/figs/trajectory.pdf')\n",
    "plt.show()"
   ]
  }
 ],
 "metadata": {
  "kernelspec": {
   "display_name": "Python 3",
   "language": "python",
   "name": "python3"
  },
  "language_info": {
   "codemirror_mode": {
    "name": "ipython",
    "version": 3
   },
   "file_extension": ".py",
   "mimetype": "text/x-python",
   "name": "python",
   "nbconvert_exporter": "python",
   "pygments_lexer": "ipython3",
   "version": "3.6.1"
  }
 },
 "nbformat": 4,
 "nbformat_minor": 2
}
