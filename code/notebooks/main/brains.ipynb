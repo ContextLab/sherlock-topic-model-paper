{
 "cells": [
  {
   "cell_type": "markdown",
   "metadata": {},
   "source": [
    "This notebook replicates the brain-related analyses. Note: the fMRI data can be downloaded into the data folder from here: https://dataspace.princeton.edu/jspui/handle/88435/dsp01nz8062179"
   ]
  },
  {
   "cell_type": "markdown",
   "metadata": {},
   "source": [
    "## Import libraries"
   ]
  },
  {
   "cell_type": "code",
   "execution_count": null,
   "metadata": {},
   "outputs": [],
   "source": [
    "import glob\n",
    "import numpy as np\n",
    "from nilearn.image import load_img\n",
    "from nilearn.image import new_img_like\n",
    "from nilearn.image import index_img\n",
    "from nilearn.image import concat_imgs\n",
    "from nilearn.image import mean_img\n",
    "from brainiak.searchlight.searchlight import Searchlight\n",
    "from scipy.spatial.distance import cdist\n",
    "from scipy.stats import pearsonr\n",
    "from scipy.stats import ttest_1samp as ttest\n",
    "\n",
    "from nilearn import datasets\n",
    "from nilearn.image import load_img\n",
    "from nilearn.image import index_img\n",
    "from nilearn import surface\n",
    "from nilearn import plotting\n",
    "%matplotlib inline\n",
    "\n",
    "def _r2z(r):\n",
    "    \"\"\"\n",
    "    Function that calculates the Fisher z-transformation\n",
    "\n",
    "    Parameters\n",
    "    ----------\n",
    "    r : int or ndarray\n",
    "        Correlation value\n",
    "\n",
    "    Returns\n",
    "    ----------\n",
    "    result : int or ndarray\n",
    "        Fishers z transformed correlation value\n",
    "\n",
    "    \"\"\"\n",
    "    with np.errstate(invalid='ignore', divide='ignore'):\n",
    "        return 0.5 * (np.log(1 + r) - np.log(1 - r))"
   ]
  },
  {
   "cell_type": "markdown",
   "metadata": {},
   "source": [
    "## Set path"
   ]
  },
  {
   "cell_type": "code",
   "execution_count": null,
   "metadata": {},
   "outputs": [],
   "source": [
    "datadir = '../../../data/processed/'"
   ]
  },
  {
   "cell_type": "markdown",
   "metadata": {},
   "source": [
    "## Collect permutations"
   ]
  },
  {
   "cell_type": "code",
   "execution_count": null,
   "metadata": {},
   "outputs": [],
   "source": [
    "# ref_img = load_img(datadir+'searchlight_movie/ref.nii.gz')\n",
    "\n",
    "# for perm in range(100):\n",
    "#     print('perm #%s' % str(perm))\n",
    "#     imgs_recall = []\n",
    "#     for sub in range(1, 18):\n",
    "#         fpath = glob.glob(datadir+'searchlight_movie/s%s_perm%s_*' % (str(sub), str(perm)))\n",
    "#         sub_data = np.load(fpath[0])\n",
    "#         img = new_img_like(ref_img, sub_data.astype(np.float))\n",
    "#         imgs_recall.append(img)\n",
    "#     imgs_recall = concat_imgs(imgs_recall)\n",
    "#     x, y, z, t = imgs_recall.shape\n",
    "#     statmap = ttest(np.moveaxis(imgs_recall.get_data(), -1, 0), 0).statistic\n",
    "#     img = new_img_like(ref_img, statmap.astype(np.float))\n",
    "#     img.to_filename(datadir + 'searchlight_movie/perm%s' % str(perm))"
   ]
  },
  {
   "cell_type": "markdown",
   "metadata": {},
   "source": [
    "## Load in permutations and sort them"
   ]
  },
  {
   "cell_type": "code",
   "execution_count": null,
   "metadata": {},
   "outputs": [],
   "source": [
    "perms = [load_img(datadir+'searchlight_movie/perm%s.nii' % str(perm)) for perm in range(100)]\n",
    "perms = concat_imgs(perms)\n",
    "sorted_perms = np.sort(perms.get_data(), axis=3)"
   ]
  },
  {
   "cell_type": "markdown",
   "metadata": {},
   "source": [
    "## Load in real data"
   ]
  },
  {
   "cell_type": "code",
   "execution_count": null,
   "metadata": {},
   "outputs": [],
   "source": [
    "ref_img = load_img(datadir+'searchlight_movie/ref.nii.gz')\n",
    "subs = range(1, 18)\n",
    "imgs = []\n",
    "for sub in subs:\n",
    "    sub_data = np.load(datadir+'/searchlight_movie/s%s.npy' % str(sub))\n",
    "    img = new_img_like(ref_img, sub_data.astype(np.float))\n",
    "    imgs.append(img)\n",
    "imgs = concat_imgs(imgs)"
   ]
  },
  {
   "cell_type": "markdown",
   "metadata": {},
   "source": [
    "## Get stats for real data"
   ]
  },
  {
   "cell_type": "code",
   "execution_count": null,
   "metadata": {},
   "outputs": [],
   "source": [
    "x, y, z, t = imgs.shape\n",
    "data = imgs.get_data()\n",
    "statmap = ttest(np.moveaxis(data, -1, 0), 0).statistic\n",
    "img = new_img_like(ref_img, statmap.astype(np.float))"
   ]
  },
  {
   "cell_type": "markdown",
   "metadata": {},
   "source": [
    "## Do permutation correction"
   ]
  },
  {
   "cell_type": "code",
   "execution_count": null,
   "metadata": {},
   "outputs": [],
   "source": [
    "real = img.get_data()\n",
    "x, y, z = real.shape\n",
    "pval = np.zeros_like(real)\n",
    "zval = np.zeros_like(real)\n",
    "d = img.get_data()\n",
    "for i in range(x):\n",
    "    for j in range(y):\n",
    "        for k in range(z):\n",
    "            if ~np.isnan(d[i,j,k]):\n",
    "                pval[i, j, k] = np.sum(d[i,j,k] < sorted_perms[i,j,k,:])/100\n",
    "                zval[i, j, k] = (d[i,j,k] - np.nanmean(sorted_perms[i,j,k,:]))/  np.nanstd(sorted_perms[i,j,k,:])"
   ]
  },
  {
   "cell_type": "markdown",
   "metadata": {},
   "source": [
    "## Threshold"
   ]
  },
  {
   "cell_type": "code",
   "execution_count": null,
   "metadata": {},
   "outputs": [],
   "source": [
    "zval[pval > .05]=0\n",
    "zval[zval < 0]=0\n",
    "zmap = new_img_like(ref_img, zval.astype(np.float))"
   ]
  },
  {
   "cell_type": "markdown",
   "metadata": {},
   "source": [
    "## Plot video"
   ]
  },
  {
   "cell_type": "code",
   "execution_count": null,
   "metadata": {},
   "outputs": [],
   "source": [
    "fsaverage = datasets.fetch_surf_fsaverage5()\n",
    "tmap = zmap\n",
    "texture_pr = surface.vol_to_surf(tmap, fsaverage.pial_right)\n",
    "texture_pl = surface.vol_to_surf(tmap, fsaverage.pial_left)"
   ]
  },
  {
   "cell_type": "code",
   "execution_count": null,
   "metadata": {},
   "outputs": [],
   "source": [
    "plotting.plot_surf_stat_map(fsaverage.infl_right, texture_pr, hemi='right',\n",
    "                             bg_map=fsaverage.sulc_right, cmap='hot', threshold=.01, vmax=5)"
   ]
  },
  {
   "cell_type": "code",
   "execution_count": null,
   "metadata": {},
   "outputs": [],
   "source": [
    "plotting.plot_surf_stat_map(fsaverage.infl_right, texture_pr, hemi='right',\n",
    "                             bg_map=fsaverage.sulc_right,\n",
    "                             view='medial', cmap='hot', threshold=.01, vmax=5)"
   ]
  },
  {
   "cell_type": "code",
   "execution_count": null,
   "metadata": {},
   "outputs": [],
   "source": [
    "plotting.plot_surf_stat_map(fsaverage.infl_left, texture_pl, hemi='left',\n",
    "                             bg_map=fsaverage.sulc_left, cmap='hot', threshold=.01, vmax=5)"
   ]
  },
  {
   "cell_type": "code",
   "execution_count": null,
   "metadata": {},
   "outputs": [],
   "source": [
    "plotting.plot_surf_stat_map(fsaverage.infl_left, texture_pl, hemi='left',\n",
    "                            bg_map=fsaverage.sulc_left, view='medial', cmap='hot', threshold=.01, vmax=5)"
   ]
  },
  {
   "cell_type": "markdown",
   "metadata": {},
   "source": [
    "## Recall analysis"
   ]
  },
  {
   "cell_type": "code",
   "execution_count": null,
   "metadata": {},
   "outputs": [],
   "source": [
    "perms = [load_img(datadir+'searchlight_recall/perm%s.nii' % str(perm)) for perm in range(1, 101)]\n",
    "perms = concat_imgs(perms)\n",
    "sorted_perms = np.sort(perms.get_data(), axis=3)"
   ]
  },
  {
   "cell_type": "code",
   "execution_count": null,
   "metadata": {},
   "outputs": [],
   "source": [
    "ref_img = load_img(datadir+'searchlight_movie/ref.nii.gz')\n",
    "subs = range(1, 18)\n",
    "imgs = []\n",
    "for sub in subs:\n",
    "    sub_data = np.load(datadir + 'searchlight_recall/s%s.npy' % str(sub))\n",
    "    img = new_img_like(ref_img, sub_data.astype(np.float))\n",
    "    imgs.append(img)\n",
    "imgs = concat_imgs(imgs)"
   ]
  },
  {
   "cell_type": "code",
   "execution_count": null,
   "metadata": {},
   "outputs": [],
   "source": [
    "x, y, z, t = imgs.shape\n",
    "data = imgs.get_data()\n",
    "statmap = ttest(np.moveaxis(data, -1, 0), 0).statistic\n",
    "img = new_img_like(ref_img, statmap.astype(np.float))"
   ]
  },
  {
   "cell_type": "code",
   "execution_count": null,
   "metadata": {},
   "outputs": [],
   "source": [
    "real = img.get_data()\n",
    "x, y, z = real.shape\n",
    "pval = np.zeros_like(real)*np.nan\n",
    "zval = np.zeros_like(real)*np.nan\n",
    "d = img.get_data()\n",
    "for i in range(x):\n",
    "    for j in range(y):\n",
    "        for k in range(z):\n",
    "            if ~np.isnan(d[i,j,k]):\n",
    "                pval[i, j, k] = np.sum(d[i,j,k] < sorted_perms[i,j,k,:])/100\n",
    "                zval[i, j, k] = (d[i,j,k] - np.nanmean(sorted_perms[i,j,k,:]))/  np.nanstd(sorted_perms[i,j,k,:])"
   ]
  },
  {
   "cell_type": "code",
   "execution_count": null,
   "metadata": {},
   "outputs": [],
   "source": [
    "zval[pval > .05]=0\n",
    "zval[zval < 0]=0\n",
    "zmap = new_img_like(ref_img, zval.astype(np.float))"
   ]
  },
  {
   "cell_type": "code",
   "execution_count": null,
   "metadata": {},
   "outputs": [],
   "source": [
    "fsaverage = datasets.fetch_surf_fsaverage5()\n",
    "tmap = zmap\n",
    "texture_pr = surface.vol_to_surf(tmap, fsaverage.pial_right)\n",
    "texture_pl = surface.vol_to_surf(tmap, fsaverage.pial_left)"
   ]
  },
  {
   "cell_type": "code",
   "execution_count": null,
   "metadata": {},
   "outputs": [],
   "source": [
    "plotting.plot_surf_stat_map(fsaverage.infl_right, texture_pr, hemi='right',\n",
    "                             bg_map=fsaverage.sulc_right, cmap='hot', threshold=.01, vmax=5)"
   ]
  },
  {
   "cell_type": "code",
   "execution_count": null,
   "metadata": {},
   "outputs": [],
   "source": [
    "plotting.plot_surf_stat_map(fsaverage.infl_right, texture_pr, hemi='right',\n",
    "                             bg_map=fsaverage.sulc_right,\n",
    "                             view='medial', cmap='hot', threshold=.01, vmax=5)"
   ]
  },
  {
   "cell_type": "code",
   "execution_count": null,
   "metadata": {},
   "outputs": [],
   "source": [
    "plotting.plot_surf_stat_map(fsaverage.infl_left, texture_pl, hemi='left',\n",
    "                             bg_map=fsaverage.sulc_left, cmap='hot', threshold=.01, vmax=5)"
   ]
  },
  {
   "cell_type": "code",
   "execution_count": null,
   "metadata": {},
   "outputs": [],
   "source": [
    "plotting.plot_surf_stat_map(fsaverage.infl_left, texture_pl, hemi='left',\n",
    "                            bg_map=fsaverage.sulc_left, view='medial', cmap='hot', threshold=.01, vmax=5)"
   ]
  }
 ],
 "metadata": {
  "kernelspec": {
   "display_name": "Python 3",
   "language": "python",
   "name": "python3"
  },
  "language_info": {
   "codemirror_mode": {
    "name": "ipython",
    "version": 3
   },
   "file_extension": ".py",
   "mimetype": "text/x-python",
   "name": "python",
   "nbconvert_exporter": "python",
   "pygments_lexer": "ipython3",
   "version": "3.6.1"
  }
 },
 "nbformat": 4,
 "nbformat_minor": 2
}
