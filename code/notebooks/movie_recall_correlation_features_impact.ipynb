{
 "cells": [
  {
   "cell_type": "code",
   "execution_count": 1,
   "metadata": {
    "collapsed": true
   },
   "outputs": [],
   "source": [
    "# imports\n",
    "import numpy as np\n",
    "import pandas as pd\n",
    "import matplotlib.pyplot as plt\n",
    "import seaborn as sns\n",
    "import hypertools as hyp\n",
    "import quail\n",
    "from scipy.stats import pearsonr as corr\n",
    "from scipy.spatial.distance import cdist\n",
    "from scipy.signal import resample\n",
    "\n",
    "%matplotlib inline\n",
    "sns.set_context('poster')\n",
    "plt.rc('figure', figsize=(12, 8))"
   ]
  },
  {
   "cell_type": "code",
   "execution_count": 2,
   "metadata": {
    "collapsed": true
   },
   "outputs": [],
   "source": [
    "rawdir = '../../data/raw/'\n",
    "datadir = '../../data/processed/'"
   ]
  },
  {
   "cell_type": "code",
   "execution_count": 3,
   "metadata": {
    "collapsed": true
   },
   "outputs": [],
   "source": [
    "# load in raw annotation file\n",
    "movie_annotations = pd.read_excel(rawdir+'Sherlock_Segments_1000_NN_2017.xlsx')\n",
    "movie_annotations['Scene Segments'].fillna(method='ffill', inplace=True)"
   ]
  },
  {
   "cell_type": "code",
   "execution_count": 6,
   "metadata": {
    "code_folding": [
     0
    ],
    "collapsed": true
   },
   "outputs": [],
   "source": [
    "# model parameters\n",
    "ntopics = 100\n",
    "m_wsize = 50\n",
    "r_wsize = 10\n",
    "\n",
    "# vectorizer parameters\n",
    "vectorizer = {\n",
    "    'model' : 'CountVectorizer', \n",
    "    'params' : {\n",
    "        'stop_words' : 'english'\n",
    "    }\n",
    "}\n",
    "\n",
    "# topic model parameters\n",
    "semantic = {\n",
    "    'model' : 'LatentDirichletAllocation', \n",
    "    'params' : {\n",
    "        'n_components' : ntopics,\n",
    "        'learning_method' : 'batch',\n",
    "        'random_state' : 0\n",
    "    }\n",
    "}"
   ]
  },
  {
   "cell_type": "markdown",
   "metadata": {},
   "source": [
    "## define some functions"
   ]
  },
  {
   "cell_type": "code",
   "execution_count": 9,
   "metadata": {
    "collapsed": true
   },
   "outputs": [],
   "source": [
    "def model_text():\n",
    "    \n",
    "    # create sliding window of text samples\n",
    "    windows = []\n",
    "    for idx, sentence in enumerate(text):\n",
    "        windows.append(','.join(text[idx:idx+m_wsize]))\n",
    "        \n",
    "    # vectorizer and topic model parameters\n",
    "    vectorizer = vec_params\n",
    "    semantic = sem_params\n",
    "    \n",
    "    # create topic model with hypertools\n",
    "    return hyp.tools.format_data(windows, vectorizer=vec_params, semantic=sem_params, corpus=windows)[0]"
   ]
  },
  {
   "cell_type": "code",
   "execution_count": 10,
   "metadata": {
    "collapsed": true
   },
   "outputs": [],
   "source": [
    "def model_movie(text, ntopics, w_size, vec_params, sem_params):\n",
    "    m_model = model_text()\n",
    "    \n",
    "    # scene description are by shot, not TR, so stretch the model to be in TRs\n",
    "    ranges =[[d['Start Time (TRs, 1.5s)'],d['End Time (TRs, 1.5s)']] for i, d in movie_annotations.iterrows()] \n",
    "    expanded = []\n",
    "    for i in range(1976):\n",
    "        try:\n",
    "            idx = np.where([i>=r[0] and i<=r[1] for r in ranges])[0][0]\n",
    "            expanded.append(m_model[idx, :])\n",
    "        except:\n",
    "            expanded.append(m_model[0, :])\n",
    "\n",
    "    # make movie windows accessible to model_recall function\n",
    "    model_movie.movie_windows = movie_windows\n",
    "    \n",
    "    return np.array(expanded)"
   ]
  },
  {
   "cell_type": "code",
   "execution_count": 11,
   "metadata": {
    "collapsed": true
   },
   "outputs": [],
   "source": [
    "def model_recall(sub, w_size, ntopics, vec_params, sem_params):\n",
    "    \n",
    "    # load recall from text file\n",
    "    text = pd.read_csv(rawdir+'NN'+str(sub)+' transcript.txt', header=None, sep='.', error_bad_lines=False, encoding='latin-1').values.tolist()[0][:-1]\n",
    "    \n",
    "    sent = []\n",
    "    # separate sentences\n",
    "    for sentence in text:\n",
    "        try:\n",
    "            s = sentence.encode('utf-8').strip()\n",
    "            sent.append(sentence)\n",
    "        except AttributeError:\n",
    "            pass # skip over nans\n",
    "    \n",
    "    # create recall model trained on windows from movie model\n",
    "    model_text(corpus=model_movie.movie_windows)[0]\n",
    "    \n",
    "    # resample model to movie model dimensions\n",
    "    return resample(recall_model, 1976)"
   ]
  },
  {
   "cell_type": "code",
   "execution_count": null,
   "metadata": {
    "collapsed": true
   },
   "outputs": [],
   "source": [
    "# creates a list of subjects' recall models\n",
    "def model_all_subs(subs, r_wsize, ntopics, vec_params, sem_params):\n",
    "    return [model_recall(sub, r_wsize, ntopics, vec_params, sem_params) for sub in subs]"
   ]
  },
  {
   "cell_type": "code",
   "execution_count": 12,
   "metadata": {
    "collapsed": true
   },
   "outputs": [],
   "source": [
    "# drop a single feature from the model\n",
    "def drop_feature(df, feature):\n",
    "    return df.drop(feature, axis=1)\n",
    "\n",
    "# computes correlation between movie model and recall model\n",
    "def compare_mr_models(m_model, r_model):\n",
    "    return corr(pd.DataFrame(m_model).T.corr().values.ravel(), pd.DataFrame(r_model).T.corr().values.ravel())[0]"
   ]
  },
  {
   "cell_type": "markdown",
   "metadata": {},
   "source": [
    "## Which features are important to the movie/recall model relationship?"
   ]
  },
  {
   "cell_type": "code",
   "execution_count": 13,
   "metadata": {
    "collapsed": true
   },
   "outputs": [],
   "source": [
    "# load in full movie model and resampled recall models\n",
    "movie_model = np.load(datadir+'models_t100_v50_r10_resampled.npy')[0]\n",
    "recall_models_rs = np.load(datadir+'models_t100_v50_r10_resampled.npy')[1]"
   ]
  },
  {
   "cell_type": "code",
   "execution_count": 1,
   "metadata": {},
   "outputs": [
    {
     "name": "stdout",
     "output_type": "stream",
     "text": [
      "a\n"
     ]
    }
   ],
   "source": []
  },
  {
   "cell_type": "code",
   "execution_count": 5,
   "metadata": {
    "code_folding": [],
    "collapsed": true
   },
   "outputs": [],
   "source": [
    "features_df = movie_annotations.loc[:,'Scene Details - A Level ':'Words on Screen ']\n"
   ]
  },
  {
   "cell_type": "code",
   "execution_count": null,
   "metadata": {},
   "outputs": [],
   "source": []
  },
  {
   "cell_type": "code",
   "execution_count": null,
   "metadata": {
    "collapsed": true
   },
   "outputs": [],
   "source": []
  }
 ],
 "metadata": {
  "kernelspec": {
   "display_name": "Python 3",
   "language": "python",
   "name": "python3"
  },
  "language_info": {
   "codemirror_mode": {
    "name": "ipython",
    "version": 3
   },
   "file_extension": ".py",
   "mimetype": "text/x-python",
   "name": "python",
   "nbconvert_exporter": "python",
   "pygments_lexer": "ipython3",
   "version": "3.6.2"
  }
 },
 "nbformat": 4,
 "nbformat_minor": 2
}
